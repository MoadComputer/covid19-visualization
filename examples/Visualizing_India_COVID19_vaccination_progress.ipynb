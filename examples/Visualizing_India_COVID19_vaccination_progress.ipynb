{
  "metadata": {
    "kernelspec": {
      "language": "python",
      "display_name": "Python 3",
      "name": "python3"
    },
    "language_info": {
      "name": "python",
      "version": "3.7.12",
      "mimetype": "text/x-python",
      "codemirror_mode": {
        "name": "ipython",
        "version": 3
      },
      "pygments_lexer": "ipython3",
      "nbconvert_exporter": "python",
      "file_extension": ".py"
    },
    "colab": {
      "name": "Visualizing_India_COVID19_vaccination_progress.ipynb",
      "provenance": []
    }
  },
  "nbformat_minor": 0,
  "nbformat": 4,
  "cells": [
    {
      "cell_type": "markdown",
      "source": [
        "#  [Visualizing India's COVID19 vaccination progress](https://www.moad.computer/blog/visualizing-indias-covid19-vaccination-progress)\n",
        "## Author: [Dr. Rahul Remanan](https://www.linkedin.com/in/rahulremanan/)\n",
        "## CEO, [Moad Computer](https://moad.computer)"
      ],
      "metadata": {
        "id": "WX9sKOckd2Pq"
      }
    },
    {
      "cell_type": "markdown",
      "source": [
        "[**Run this in Google Colab**](https://colab.research.google.com/github/MoadComputer/covid19-visualization/blob/main/examples/Visualizing_India_COVID19_vaccination_progress.ipynb)"
      ],
      "metadata": {
        "id": "MZEGTnkI5Kce"
      }
    },
    {
      "cell_type": "markdown",
      "source": [
        "The interactive dashboard built using [Altair](https://altair-viz.github.io/), a declarative visualization library in Python, visualizes the India's progress in COVID19 vaccination status.\n",
        "\n",
        "The state-wise vaccination statistics is sourced from the [Indian government's ministry of health and family welfare website](https://mohfw.gov.in).\n",
        "\n",
        "This notebook is divided into two parts:\n",
        "\n",
        "\n",
        "*   Part 01 -- Demo visualization using Altair\n",
        "*   Part 02 -- Visualizing vaccination statistics of India\n",
        "\n"
      ],
      "metadata": {
        "id": "m2ka118ZF8PY"
      }
    },
    {
      "cell_type": "code",
      "source": [
        "DATA_UPDATE_DATE = '12-April-2022'\n",
        "DATA_SOURCE = 'https://mohfw.gov.in'"
      ],
      "metadata": {
        "id": "3Ex0YXdikxoQ",
        "execution": {
          "iopub.status.busy": "2022-04-12T17:30:19.780280Z",
          "iopub.execute_input": "2022-04-12T17:30:19.780748Z",
          "iopub.status.idle": "2022-04-12T17:30:19.810347Z",
          "shell.execute_reply.started": "2022-04-12T17:30:19.780575Z",
          "shell.execute_reply": "2022-04-12T17:30:19.809487Z"
        },
        "trusted": true
      },
      "execution_count": null,
      "outputs": []
    },
    {
      "cell_type": "markdown",
      "source": [
        "# Setup"
      ],
      "metadata": {
        "id": "A2tVcLTKdy1B"
      }
    },
    {
      "cell_type": "markdown",
      "source": [
        "## Helper functions"
      ],
      "metadata": {
        "id": "HCVht6TRi3Cp"
      }
    },
    {
      "cell_type": "code",
      "source": [
        "#@title\n",
        "def colab_mode():\n",
        "  try:\n",
        "    from google import colab\n",
        "    return True\n",
        "  except:\n",
        "    return False\n",
        "\n",
        "def kaggle_mode():\n",
        "  try:\n",
        "    import kaggle_datasets\n",
        "    return True\n",
        "  except:\n",
        "    return False\n",
        "\n",
        "def apply_corrections(input_df):\n",
        "  for state in list(input_df['state'].values):\n",
        "    input_df.loc[input_df['state']==state,'state']=re.sub('[^A-Za-z ]+', '',str(state))\n",
        "  input_df.loc[input_df['state']=='Karanataka','state']='Karnataka' \n",
        "  input_df.loc[input_df['state']=='Himanchal Pradesh','state']='Himachal Pradesh' \n",
        "  input_df.loc[input_df['state']=='Telengana','state']='Telangana'  \n",
        "  input_df.loc[input_df['state']=='Dadra and Nagar Haveli','state']='Dadra and Nagar Haveli and Daman and Diu'\n",
        "  input_df.loc[input_df['state']=='Dadar Nagar Haveli','state']='Dadra and Nagar Haveli and Daman and Diu'\n",
        "  input_df.loc[input_df['state']=='Dadra Nagar Haveli','state']='Dadra and Nagar Haveli and Daman and Diu'\n",
        "  input_df.loc[input_df['state']=='Daman & Diu','state']='Dadra and Nagar Haveli and Daman and Diu'\n",
        "  input_df.loc[input_df['state']=='Daman and Diu','state']='Dadra and Nagar Haveli and Daman and Diu'\n",
        "  return input_df\n",
        "\n",
        "def json_writer(json_input, json_output='output.json'):\n",
        "  with open(json_output, 'w') as f:\n",
        "    f.write(json_input)\n",
        "\n",
        "def custom_tooltips():\n",
        "  return [{'field' :'properties.state', \n",
        "           'type'  :'nominal', \n",
        "           'title' : 'State'}, \n",
        "          {'field' :'properties.fully_vaccinated_percentage', \n",
        "           'type'  :'quantitative',\n",
        "           'title' :'Fully vaccinated (%)'},\n",
        "          {'field' :'properties.partly_vaccinated_percentage', \n",
        "           'type'  :'quantitative',\n",
        "           'title' :'Single dose (%)'},\n",
        "          {'field' :'properties.dose_1', \n",
        "           'type'  :'quantitative',\n",
        "           'title' :'1st dose administered'},\n",
        "          {'field' :'properties.dose_2', \n",
        "           'type'  :'quantitative',\n",
        "           'title' :'2nd dose administered'},\n",
        "          {'field' :'properties.population', \n",
        "           'type'  :'quantitative',\n",
        "           'title' :'Total population'},\n",
        "          {'field' :'properties.update_date', \n",
        "           'type'  :'nominal',\n",
        "           'title' :'Updated on'},\n",
        "          {'field' :'properties.data_source', \n",
        "           'type'  :'nominal',\n",
        "           'title' :'Data from'}]"
      ],
      "metadata": {
        "cellView": "form",
        "id": "zcmzXrpFcwSI",
        "_kg_hide-input": true,
        "execution": {
          "iopub.status.busy": "2022-04-12T17:30:20.169830Z",
          "iopub.execute_input": "2022-04-12T17:30:20.170487Z",
          "iopub.status.idle": "2022-04-12T17:30:20.185832Z",
          "shell.execute_reply.started": "2022-04-12T17:30:20.170430Z",
          "shell.execute_reply": "2022-04-12T17:30:20.184878Z"
        },
        "trusted": true
      },
      "execution_count": null,
      "outputs": []
    },
    {
      "cell_type": "code",
      "source": [
        "if colab_mode():\n",
        "  !python3 -m pip install -q git+https://github.com/altair-viz/altair\n",
        "  !python3 -m pip install -q geopandas\n",
        "if kaggle_mode():\n",
        "  !python3 -m pip install -q vega_datasets"
      ],
      "metadata": {
        "id": "xmwGs90YlNFD",
        "execution": {
          "iopub.status.busy": "2022-04-12T17:30:20.188245Z",
          "iopub.execute_input": "2022-04-12T17:30:20.189061Z",
          "iopub.status.idle": "2022-04-12T17:30:31.211143Z",
          "shell.execute_reply.started": "2022-04-12T17:30:20.189015Z",
          "shell.execute_reply": "2022-04-12T17:30:31.210073Z"
        },
        "trusted": true
      },
      "execution_count": null,
      "outputs": []
    },
    {
      "cell_type": "markdown",
      "source": [
        "# Import libraries"
      ],
      "metadata": {
        "id": "1ZZ3CWCEdwEv"
      }
    },
    {
      "cell_type": "code",
      "source": [
        "import re, json, geopandas, altair as alt, numpy as np, pandas as pd\n",
        "from tqdm import tqdm\n",
        "from vega_datasets import data"
      ],
      "metadata": {
        "id": "Pyjrpj-kDica",
        "execution": {
          "iopub.status.busy": "2022-04-12T17:30:31.212943Z",
          "iopub.execute_input": "2022-04-12T17:30:31.213249Z",
          "iopub.status.idle": "2022-04-12T17:30:32.182380Z",
          "shell.execute_reply.started": "2022-04-12T17:30:31.213216Z",
          "shell.execute_reply": "2022-04-12T17:30:32.181589Z"
        },
        "trusted": true
      },
      "execution_count": null,
      "outputs": []
    },
    {
      "cell_type": "markdown",
      "source": [
        "# Part 01 -- [Demo visualization of US airport locations](https://github.com/altair-viz/altair/blob/master/altair/examples/airports.py)\n",
        "This is an example visualization using Altair to demonstrate its ability to interactively superimpose relevant statistics on corresponding geographical data.\n",
        "\n",
        "It is adapted using the official example script in Altair library. \n",
        "\n",
        "To minimize data dependencies of this example script, Altair's built-in airport location data and mapping information are used here."
      ],
      "metadata": {
        "id": "_QZ20-HqeKAQ"
      }
    },
    {
      "cell_type": "code",
      "source": [
        "airports = data.airports.url\n",
        "states = alt.topo_feature(data.us_10m.url, feature='states')\n",
        "\n",
        "# The state-wise map of the US as background\n",
        "background = alt.Chart(states).mark_geoshape(\n",
        "    fill='lightblue',\n",
        "    stroke='white'\n",
        ").properties(\n",
        "    width=500,\n",
        "    height=300\n",
        ").project('albersUsa')\n",
        "\n",
        "# Overlay airport counts on the background\n",
        "points = alt.Chart(airports).transform_aggregate(\n",
        "    latitude='mean(latitude)',\n",
        "    longitude='mean(longitude)',\n",
        "    count='count()',\n",
        "    groupby=['state']\n",
        ").mark_circle().encode(\n",
        "    longitude='longitude:Q',\n",
        "    latitude='latitude:Q',\n",
        "    size=alt.Size('count:Q', title='Number of Airports'),\n",
        "    color=alt.value('red'),\n",
        "    tooltip=['state:N', 'count:Q']\n",
        ").properties(\n",
        "    title='Number of airports in each US state'\n",
        ")\n",
        "\n",
        "background + points"
      ],
      "metadata": {
        "id": "lVmuRUndk2PJ",
        "execution": {
          "iopub.status.busy": "2022-04-12T17:30:32.184094Z",
          "iopub.execute_input": "2022-04-12T17:30:32.184322Z",
          "iopub.status.idle": "2022-04-12T17:30:32.265911Z",
          "shell.execute_reply.started": "2022-04-12T17:30:32.184296Z",
          "shell.execute_reply": "2022-04-12T17:30:32.264987Z"
        },
        "trusted": true
      },
      "execution_count": null,
      "outputs": []
    },
    {
      "cell_type": "markdown",
      "source": [
        "# Part 02 -- Visualizing COVID19 vaccination progress in India\n",
        "\n",
        "This is an interactive dashboard for visualizing the India's progress in COVID19 vaccinations. It is built using Altair and [GeoPandas](https://geopandas.org/en/stable/). \n",
        "\n",
        "The state-wise vaccination statistics is sourced from the [Indian government's ministry of health and family welfare website](https://mofw.gov.in)."
      ],
      "metadata": {
        "id": "otpY4tL_halb"
      }
    },
    {
      "cell_type": "markdown",
      "source": [
        "## Read map data and vaccination statistics\n",
        "The state-wise map data and the latest vaccination status for India are obtained from the Indian government's ministry of health and family welfare website and cached in the project's [GitHub repo](https://github.com/MoadComputer/covid19-visualization)."
      ],
      "metadata": {
        "id": "9AI1Ob4lzSWR"
      }
    },
    {
      "cell_type": "code",
      "source": [
        "REPO_URL = 'https://raw.githubusercontent.com/MoadComputer/covid19-visualization/main/data'\n",
        "\n",
        "India_statewise = geopandas.read_file(\n",
        "  f'{REPO_URL}/GeoJSON_assets/India.geojson')\n",
        "India_stats = pd.read_csv(\n",
        "  f'{REPO_URL}/Coronavirus_stats/India/Population_stats_India_statewise.csv')\n",
        "covid19_data = pd.read_csv(\n",
        "  f'{REPO_URL}/Coronavirus_stats/India/COVID19_India_statewise.csv')\n",
        "preds_df = pd.read_csv(\n",
        "  f'{REPO_URL}/Coronavirus_stats/India/experimental/output_preds.csv')\n",
        "India_vaccinations = pd.read_csv(\n",
        "  f'{REPO_URL}/Coronavirus_stats/India/COVID19_vaccinations_India_statewise.csv')\n",
        "\n",
        "India_statewise = apply_corrections(India_statewise)\n",
        "India_stats = apply_corrections(India_stats)\n",
        "India_vaccinations = India_vaccinations[India_vaccinations.state != 'Miscellaneous']\n",
        "India_vaccinations = apply_corrections(India_vaccinations)\n",
        "\n",
        "covid19_data = apply_corrections(covid19_data)"
      ],
      "metadata": {
        "id": "T5Kf4yJ5WRRr",
        "execution": {
          "iopub.status.busy": "2022-04-12T17:30:32.267841Z",
          "iopub.execute_input": "2022-04-12T17:30:32.268470Z",
          "iopub.status.idle": "2022-04-12T17:30:35.178838Z",
          "shell.execute_reply.started": "2022-04-12T17:30:32.268424Z",
          "shell.execute_reply": "2022-04-12T17:30:35.177941Z"
        },
        "trusted": true
      },
      "execution_count": null,
      "outputs": []
    },
    {
      "cell_type": "code",
      "source": [
        "json_writer(India_statewise.to_json(), 'India.geojson')"
      ],
      "metadata": {
        "id": "CSrOWHUOQ8FD",
        "execution": {
          "iopub.status.busy": "2022-04-12T17:30:35.181483Z",
          "iopub.execute_input": "2022-04-12T17:30:35.181871Z",
          "iopub.status.idle": "2022-04-12T17:30:35.218613Z",
          "shell.execute_reply.started": "2022-04-12T17:30:35.181825Z",
          "shell.execute_reply": "2022-04-12T17:30:35.217408Z"
        },
        "trusted": true
      },
      "execution_count": null,
      "outputs": []
    },
    {
      "cell_type": "markdown",
      "source": [
        "## Pre-process"
      ],
      "metadata": {
        "id": "T6nrw4He20TU"
      }
    },
    {
      "cell_type": "code",
      "source": [
        "covid19_data = pd.merge(covid19_data, India_stats, on='state', how='left')\n",
        "covid19_data = pd.merge(covid19_data, India_vaccinations, on='state', how='left')\n",
        "covid19_data = pd.merge(India_statewise, covid19_data, on='state', how='left')"
      ],
      "metadata": {
        "id": "G-Kf8apjwLnS",
        "execution": {
          "iopub.status.busy": "2022-04-12T17:30:35.220148Z",
          "iopub.execute_input": "2022-04-12T17:30:35.220437Z",
          "iopub.status.idle": "2022-04-12T17:30:35.252944Z",
          "shell.execute_reply.started": "2022-04-12T17:30:35.220394Z",
          "shell.execute_reply": "2022-04-12T17:30:35.252165Z"
        },
        "trusted": true
      },
      "execution_count": null,
      "outputs": []
    },
    {
      "cell_type": "markdown",
      "source": [
        "## Automated error correction\n",
        "A very simple, yet effective error correction code to catch some simple mistakes in the source MoHFW sourced COVID19 vaccine statistics for India."
      ],
      "metadata": {
        "id": "rPzajWvS5Keq"
      }
    },
    {
      "cell_type": "code",
      "source": [
        "def vac_dose_ecc(input_df):\n",
        "  for s in tqdm(input_df['state']):\n",
        "    dose_1 = int(input_df.loc[input_df['state']==s]['dose_1'].to_numpy()[0])\n",
        "    dose_2 = int(input_df.loc[input_df['state']==s]['dose_2'].to_numpy()[0])\n",
        "    if dose_1 < dose_2:\n",
        "      print(\n",
        "       f'\\nFound an entry for: {s} with, \\\n",
        "       \\n\\t second doses ({dose_2}) greater than first doses ({dose_1}) ...')\n",
        "      print('Whoops!!! Seems like a mathematical impossibility ...')\n",
        "      print(f'Autoswitching dose 1 and dose 2 columns for: {s} ...')\n",
        "      input_df.loc[input_df['state']==s, 'dose_1'] = dose_2\n",
        "      input_df.loc[input_df['state']==s, 'dose_2'] = dose_1\n",
        "  return input_df\n",
        "    \n",
        "covid19_data = vac_dose_ecc(covid19_data)"
      ],
      "metadata": {
        "execution": {
          "iopub.status.busy": "2022-04-12T17:30:35.257234Z",
          "iopub.execute_input": "2022-04-12T17:30:35.258038Z",
          "iopub.status.idle": "2022-04-12T17:30:35.378362Z",
          "shell.execute_reply.started": "2022-04-12T17:30:35.257984Z",
          "shell.execute_reply": "2022-04-12T17:30:35.377551Z"
        },
        "trusted": true,
        "id": "6785BpTB5Kex"
      },
      "execution_count": null,
      "outputs": []
    },
    {
      "cell_type": "code",
      "source": [
        "covid19_data['fully_vaccinated_percentage'] = (\n",
        "    (covid19_data['dose_2']/covid19_data['population'])*100).astype(np.uint8)\n",
        "covid19_data['partly_vaccinated_percentage'] = (\n",
        "    (covid19_data['dose_1']/covid19_data['population'])*100).astype(np.uint8)\n",
        "\n",
        "covid19_data = covid19_data.fillna(0)\n",
        "\n",
        "covid19_data['update_date'] = DATA_UPDATE_DATE\n",
        "covid19_data['data_source'] = DATA_SOURCE"
      ],
      "metadata": {
        "execution": {
          "iopub.status.busy": "2022-04-12T17:30:35.380722Z",
          "iopub.execute_input": "2022-04-12T17:30:35.380960Z",
          "iopub.status.idle": "2022-04-12T17:30:35.396565Z",
          "shell.execute_reply.started": "2022-04-12T17:30:35.380931Z",
          "shell.execute_reply": "2022-04-12T17:30:35.395464Z"
        },
        "trusted": true,
        "id": "YUmYm6JK5Ke4"
      },
      "execution_count": null,
      "outputs": []
    },
    {
      "cell_type": "code",
      "source": [
        "covid19_data.head(2)"
      ],
      "metadata": {
        "id": "Y6WhTBSSKmyG",
        "execution": {
          "iopub.status.busy": "2022-04-12T17:30:35.398107Z",
          "iopub.execute_input": "2022-04-12T17:30:35.399345Z",
          "iopub.status.idle": "2022-04-12T17:30:35.441551Z",
          "shell.execute_reply.started": "2022-04-12T17:30:35.399294Z",
          "shell.execute_reply": "2022-04-12T17:30:35.440534Z"
        },
        "trusted": true
      },
      "execution_count": null,
      "outputs": []
    },
    {
      "cell_type": "markdown",
      "source": [
        "## Set Altair rendering options"
      ],
      "metadata": {
        "id": "cH-sSFInlOJh"
      }
    },
    {
      "cell_type": "code",
      "source": [
        "alt.renderers.enable(embed_options={'actions': False})"
      ],
      "metadata": {
        "id": "QMwLtHI_Wnbz",
        "execution": {
          "iopub.status.busy": "2022-04-12T17:30:35.442662Z",
          "iopub.execute_input": "2022-04-12T17:30:35.443108Z",
          "iopub.status.idle": "2022-04-12T17:30:35.449383Z",
          "shell.execute_reply.started": "2022-04-12T17:30:35.443076Z",
          "shell.execute_reply": "2022-04-12T17:30:35.448484Z"
        },
        "trusted": true
      },
      "execution_count": null,
      "outputs": []
    },
    {
      "cell_type": "markdown",
      "source": [
        "## Plot vaccine statistics on the state-wise map of India"
      ],
      "metadata": {
        "id": "W8MlQljNmiEE"
      }
    },
    {
      "cell_type": "code",
      "source": [
        "map_data = alt.Data(\n",
        "    values=covid19_data.to_json(), format=alt.DataFormat(property='features', type='json'))"
      ],
      "metadata": {
        "id": "-M5yAm_exnHw",
        "execution": {
          "iopub.status.busy": "2022-04-12T17:30:35.450622Z",
          "iopub.execute_input": "2022-04-12T17:30:35.450868Z",
          "iopub.status.idle": "2022-04-12T17:30:35.493545Z",
          "shell.execute_reply.started": "2022-04-12T17:30:35.450834Z",
          "shell.execute_reply": "2022-04-12T17:30:35.492510Z"
        },
        "trusted": true
      },
      "execution_count": null,
      "outputs": []
    },
    {
      "cell_type": "code",
      "source": [
        "vac_plot = alt.Chart(map_data).mark_geoshape().encode( \n",
        "    color={'field' : 'properties.fully_vaccinated_percentage', \n",
        "           'type'  : 'quantitative', \n",
        "           'title' : 'Fully vaccinated (%)',\n",
        "           'scale' : alt.Scale(scheme='greens')}, \n",
        "    tooltip=custom_tooltips(),\n",
        ").properties(width=400, height=480\n",
        ").project('mercator')"
      ],
      "metadata": {
        "id": "yogYh0WRxyGv",
        "execution": {
          "iopub.status.busy": "2022-04-12T17:30:35.495428Z",
          "iopub.execute_input": "2022-04-12T17:30:35.495779Z",
          "iopub.status.idle": "2022-04-12T17:30:35.573161Z",
          "shell.execute_reply.started": "2022-04-12T17:30:35.495737Z",
          "shell.execute_reply": "2022-04-12T17:30:35.572075Z"
        },
        "trusted": true
      },
      "execution_count": null,
      "outputs": []
    },
    {
      "cell_type": "code",
      "source": [
        "vac_plot"
      ],
      "metadata": {
        "id": "axaDwq8tyWwK",
        "execution": {
          "iopub.status.busy": "2022-04-12T17:30:35.574959Z",
          "iopub.execute_input": "2022-04-12T17:30:35.575232Z",
          "iopub.status.idle": "2022-04-12T17:30:35.603642Z",
          "shell.execute_reply.started": "2022-04-12T17:30:35.575201Z",
          "shell.execute_reply": "2022-04-12T17:30:35.602520Z"
        },
        "trusted": true
      },
      "execution_count": null,
      "outputs": []
    },
    {
      "cell_type": "markdown",
      "source": [
        "## Save plot as HTML\n",
        "The saved HTML plot can be used for web deployment."
      ],
      "metadata": {
        "id": "Z68HtrPunZyS"
      }
    },
    {
      "cell_type": "code",
      "source": [
        "vac_plot.save('India_vaccination.html', embed_options={'actions': {\n",
        "    'export': True,\n",
        "    'source': False,\n",
        "    'compiled': False,\n",
        "    'editor': False\n",
        "  }})"
      ],
      "metadata": {
        "id": "pYGqKqCJXM5M",
        "execution": {
          "iopub.status.busy": "2022-04-12T17:30:35.604944Z",
          "iopub.execute_input": "2022-04-12T17:30:35.605256Z",
          "iopub.status.idle": "2022-04-12T17:30:35.622947Z",
          "shell.execute_reply.started": "2022-04-12T17:30:35.605224Z",
          "shell.execute_reply": "2022-04-12T17:30:35.621679Z"
        },
        "trusted": true
      },
      "execution_count": null,
      "outputs": []
    },
    {
      "cell_type": "code",
      "source": [
        ""
      ],
      "metadata": {
        "id": "e-keFtNCIIgX"
      },
      "execution_count": null,
      "outputs": []
    }
  ]
}