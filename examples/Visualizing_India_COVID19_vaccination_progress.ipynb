{
 "cells": [
  {
   "cell_type": "markdown",
   "metadata": {
    "id": "WX9sKOckd2Pq"
   },
   "source": [
    "#  [Visualizing India's SARS-CoV2 vaccination progress](https://www.moad.computer/blog/visualizing-indias-covid19-vaccination-progress)\n",
    "## Author: [Dr. Rahul Remanan](https://www.linkedin.com/in/rahulremanan/)\n",
    "## CEO, [Moad Computer](https://moad.computer)"
   ]
  },
  {
   "cell_type": "markdown",
   "metadata": {
    "id": "MZEGTnkI5Kce"
   },
   "source": [
    "[**Run this in Google Colab**](https://colab.research.google.com/github/MoadComputer/covid19-visualization/blob/main/examples/Visualizing_India_COVID19_vaccination_progress.ipynb)"
   ]
  },
  {
   "cell_type": "markdown",
   "metadata": {
    "id": "m2ka118ZF8PY"
   },
   "source": [
    "This interactive dashboard to visualize the India's progress in SARS-CoV2 vaccination status is built using [Altair](https://altair-viz.github.io/), a declarative visualization library in Python.\n",
    "\n",
    "The state-wise and union-territory-wise SARS-CoV2 vaccination statistics for India is sourced from the [Indian government's ministry of health and family welfare website](https://mohfw.gov.in).\n",
    "\n",
    "**(Update on 5th July, 2024: This interactive dashboard will no longer be updated due to a lack of publicly available SARS-CoV2 vacination statistics from the [Indian government's ministry of health and family welfare website](https://mohfw.gov.in) that was used as the data source for this application.)**\n",
    "\n",
    "This notebook is divided into two parts:\n",
    "\n",
    "\n",
    "*   Part 01 -- Demo geospatial data visualization using Altair \n",
    "*   Part 02 -- Visualizing vaccination statistics of India\n",
    "\n"
   ]
  },
  {
   "cell_type": "code",
   "execution_count": null,
   "metadata": {
    "id": "3Ex0YXdikxoQ"
   },
   "outputs": [],
   "source": [
    "DATA_UPDATE_DATE = '19-June-2024'\n",
    "DATA_SOURCE = 'https://mohfw.gov.in [No new data from July 5th, 2024 onwards]'"
   ]
  },
  {
   "cell_type": "markdown",
   "metadata": {
    "id": "A2tVcLTKdy1B"
   },
   "source": [
    "# Setup"
   ]
  },
  {
   "cell_type": "markdown",
   "metadata": {
    "id": "HCVht6TRi3Cp"
   },
   "source": [
    "## Helper functions"
   ]
  },
  {
   "cell_type": "code",
   "execution_count": null,
   "metadata": {
    "_kg_hide-input": true,
    "cellView": "form",
    "id": "zcmzXrpFcwSI"
   },
   "outputs": [],
   "source": [
    "#@title\n",
    "def colab_mode():\n",
    "  try:\n",
    "    from google import colab\n",
    "    return True\n",
    "  except:\n",
    "    return False\n",
    "\n",
    "def kaggle_mode():\n",
    "  try:\n",
    "    import kaggle_datasets\n",
    "    return True\n",
    "  except:\n",
    "    return False\n",
    "\n",
    "def apply_corrections(input_df):\n",
    "  for state in list(input_df['state'].values):\n",
    "    input_df.loc[input_df['state']==state,'state']=re.sub('[^A-Za-z ]+', '',str(state))\n",
    "  input_df.loc[input_df['state']=='Karanataka','state']='Karnataka'\n",
    "  input_df.loc[input_df['state']=='Himanchal Pradesh','state']='Himachal Pradesh'\n",
    "  input_df.loc[input_df['state']=='Telengana','state']='Telangana'\n",
    "  input_df.loc[input_df['state']=='Dadra and Nagar Haveli','state']='Dadra and Nagar Haveli and Daman and Diu'\n",
    "  input_df.loc[input_df['state']=='Dadar Nagar Haveli','state']='Dadra and Nagar Haveli and Daman and Diu'\n",
    "  input_df.loc[input_df['state']=='Dadra Nagar Haveli','state']='Dadra and Nagar Haveli and Daman and Diu'\n",
    "  input_df.loc[input_df['state']=='Daman & Diu','state']='Dadra and Nagar Haveli and Daman and Diu'\n",
    "  input_df.loc[input_df['state']=='Daman and Diu','state']='Dadra and Nagar Haveli and Daman and Diu'\n",
    "  return input_df\n",
    "\n",
    "def json_writer(json_input, json_output='output.json'):\n",
    "  with open(json_output, 'w') as f:\n",
    "    f.write(json_input)\n",
    "\n",
    "def custom_tooltips():\n",
    "  return [{'field' :'properties.state',\n",
    "           'type'  :'nominal',\n",
    "           'title' : 'State'},\n",
    "          {'field' :'properties.fully_vaccinated_percentage',\n",
    "           'type'  :'quantitative',\n",
    "           'title' :'Fully vaccinated (%)'},\n",
    "          {'field' :'properties.partly_vaccinated_percentage',\n",
    "           'type'  :'quantitative',\n",
    "           'title' :'Single dose (%)'},\n",
    "          {'field' :'properties.dose_1',\n",
    "           'type'  :'quantitative',\n",
    "           'title' :'1st dose administered'},\n",
    "          {'field' :'properties.dose_2',\n",
    "           'type'  :'quantitative',\n",
    "           'title' :'2nd dose administered'},\n",
    "          {'field' :'properties.population',\n",
    "           'type'  :'quantitative',\n",
    "           'title' :'Total population'},\n",
    "          {'field' :'properties.update_date',\n",
    "           'type'  :'nominal',\n",
    "           'title' :'Updated on'},\n",
    "          {'field' :'properties.data_source',\n",
    "           'type'  :'nominal',\n",
    "           'title' :'Data from'}]"
   ]
  },
  {
   "cell_type": "code",
   "execution_count": null,
   "metadata": {
    "id": "xmwGs90YlNFD"
   },
   "outputs": [],
   "source": [
    "if colab_mode():\n",
    "  !python3 -m pip uninstall pyarrow -y\n",
    "  !python3 -m pip install pyarrow\n",
    "  !python3 -m pip install -q git+https://github.com/altair-viz/altair\n",
    "  !python3 -m pip install -q geopandas\n",
    "if kaggle_mode():\n",
    "  !python3 -m pip install -q vega_datasets"
   ]
  },
  {
   "cell_type": "markdown",
   "metadata": {
    "id": "1ZZ3CWCEdwEv"
   },
   "source": [
    "# Import libraries"
   ]
  },
  {
   "cell_type": "code",
   "execution_count": null,
   "metadata": {
    "id": "Pyjrpj-kDica"
   },
   "outputs": [],
   "source": [
    "import re, json, geopandas, altair as alt, numpy as np, pandas as pd\n",
    "from tqdm import tqdm\n",
    "from vega_datasets import data"
   ]
  },
  {
   "cell_type": "markdown",
   "metadata": {
    "id": "_QZ20-HqeKAQ"
   },
   "source": [
    "# Part 01 -- [Demo visualization of US airport locations](https://github.com/altair-viz/altair_notebooks/blob/master/notebooks/examples/airports.ipynb)\n",
    "This is an example geospatial data visualization using Altair. \n",
    "\n",
    "It demonstrates Altair's ability to interactively superimpose relevant statistics on corresponding geographical data.\n",
    "\n",
    "The code below is adapted from the [official example notebook in Altair library](https://github.com/altair-viz/altair_notebooks/).\n",
    "\n",
    "To minimize data dependencies of this example script, Altair's built-in airport location data and mapping information are used here."
   ]
  },
  {
   "cell_type": "code",
   "execution_count": null,
   "metadata": {
    "id": "lVmuRUndk2PJ"
   },
   "outputs": [],
   "source": [
    "airports = data.airports.url\n",
    "states = alt.topo_feature(data.us_10m.url, feature='states')\n",
    "\n",
    "# The state-wise map of the US as background\n",
    "background = alt.Chart(states).mark_geoshape(\n",
    "    fill='lightblue',\n",
    "    stroke='white'\n",
    ").properties(\n",
    "    width=500,\n",
    "    height=300\n",
    ").project('albersUsa')\n",
    "\n",
    "# Overlay airport counts on the background\n",
    "points = alt.Chart(airports).transform_aggregate(\n",
    "    latitude='mean(latitude)',\n",
    "    longitude='mean(longitude)',\n",
    "    count='count()',\n",
    "    groupby=['state']\n",
    ").mark_circle().encode(\n",
    "    longitude='longitude:Q',\n",
    "    latitude='latitude:Q',\n",
    "    size=alt.Size('count:Q', title='Number of Airports'),\n",
    "    color=alt.value('red'),\n",
    "    tooltip=['state:N', 'count:Q']\n",
    ").properties(\n",
    "    title='Number of airports in each US state'\n",
    ")\n",
    "\n",
    "background + points"
   ]
  },
  {
   "cell_type": "markdown",
   "metadata": {
    "id": "otpY4tL_halb"
   },
   "source": [
    "# Part 02 -- Visualizing SARS-CoV2 vaccination progress in India\n",
    "\n",
    "This is an interactive dashboard for visualizing the India's progress in SARS-CoV2 vaccinations."
   ]
  },
  {
   "cell_type": "markdown",
   "metadata": {
    "id": "9AI1Ob4lzSWR"
   },
   "source": [
    "## Read map data and vaccination statistics\n",
    "The latest SARS-CoV2 vaccination data for India is obtained from the [Indian government's ministry of health and family welfare (MoHFW) website](https://mohfw.gov.in). To simplify the data-pipeline and make future usage more convenient, a portion of this data is also cached in the project's [GitHub repo](https://github.com/MoadComputer/covid19-visualization)."
   ]
  },
  {
   "cell_type": "code",
   "execution_count": null,
   "metadata": {
    "id": "T5Kf4yJ5WRRr"
   },
   "outputs": [],
   "source": [
    "REPO_URL = 'https://github.com/MoadComputer/covid19-visualization/raw/main/data'\n",
    "\n",
    "India_statewise = geopandas.read_file(\n",
    "  f'{REPO_URL}/GeoJSON_assets/India.geojson')\n",
    "India_stats = pd.read_csv(\n",
    "  f'{REPO_URL}/Coronavirus_stats/India/Population_stats_India_statewise.csv')\n",
    "covid19_data = pd.read_csv(\n",
    "  f'{REPO_URL}/Coronavirus_stats/India/COVID19_India_statewise.csv')\n",
    "preds_df = pd.read_csv(\n",
    "  f'{REPO_URL}/Coronavirus_stats/India/experimental/output_preds.csv')\n",
    "India_vaccinations = pd.read_csv(\n",
    "  f'{REPO_URL}/Coronavirus_stats/India/COVID19_vaccinations_India_statewise.csv')\n",
    "\n",
    "India_statewise = apply_corrections(India_statewise)\n",
    "India_stats = apply_corrections(India_stats)\n",
    "India_vaccinations = India_vaccinations[India_vaccinations.state != 'Miscellaneous']\n",
    "India_vaccinations = apply_corrections(India_vaccinations)\n",
    "\n",
    "covid19_data = apply_corrections(covid19_data)"
   ]
  },
  {
   "cell_type": "code",
   "execution_count": null,
   "metadata": {
    "id": "CSrOWHUOQ8FD"
   },
   "outputs": [],
   "source": [
    "json_writer(India_statewise.to_json(), 'India.geojson')"
   ]
  },
  {
   "cell_type": "markdown",
   "metadata": {
    "id": "T6nrw4He20TU"
   },
   "source": [
    "## Pre-process"
   ]
  },
  {
   "cell_type": "code",
   "execution_count": null,
   "metadata": {
    "id": "G-Kf8apjwLnS"
   },
   "outputs": [],
   "source": [
    "covid19_data = pd.merge(covid19_data, India_stats, on='state', how='left')\n",
    "covid19_data = pd.merge(covid19_data, India_vaccinations, on='state', how='left')\n",
    "covid19_data = pd.merge(India_statewise, covid19_data, on='state', how='left')"
   ]
  },
  {
   "cell_type": "markdown",
   "metadata": {
    "id": "rPzajWvS5Keq"
   },
   "source": [
    "## Automated error correction\n",
    "A very simple, yet effective error correction code to rectify some simple mistakes in the MoHFW sourced SARS-CoV2 vaccination statistics for India."
   ]
  },
  {
   "cell_type": "code",
   "execution_count": null,
   "metadata": {
    "id": "6785BpTB5Kex"
   },
   "outputs": [],
   "source": [
    "def vac_dose_ecc(input_df):\n",
    "  for s in tqdm(input_df['state']):\n",
    "    dose_1 = int(input_df.loc[input_df['state']==s]['dose_1'].to_numpy()[0])\n",
    "    dose_2 = int(input_df.loc[input_df['state']==s]['dose_2'].to_numpy()[0])\n",
    "    if dose_1 < dose_2:\n",
    "      print(\n",
    "       f'\\nFound an entry for: {s} with, \\\n",
    "       \\n\\t second doses ({dose_2}) greater than first doses ({dose_1}) ...')\n",
    "      print('Whoops!!! Seems like a mathematical impossibility ...')\n",
    "      print(f'Autoswitching dose 1 and dose 2 columns for: {s} ...')\n",
    "      input_df.loc[input_df['state']==s, 'dose_1'] = dose_2\n",
    "      input_df.loc[input_df['state']==s, 'dose_2'] = dose_1\n",
    "  return input_df\n",
    "\n",
    "covid19_data = vac_dose_ecc(covid19_data)"
   ]
  },
  {
   "cell_type": "code",
   "execution_count": null,
   "metadata": {
    "id": "YUmYm6JK5Ke4"
   },
   "outputs": [],
   "source": [
    "covid19_data['fully_vaccinated_percentage'] = (\n",
    "    (covid19_data['dose_2']/covid19_data['population'])*100).astype(np.uint8)\n",
    "covid19_data['partly_vaccinated_percentage'] = (\n",
    "    (covid19_data['dose_1']/covid19_data['population'])*100).astype(np.uint8)\n",
    "\n",
    "covid19_data = covid19_data.fillna(0)\n",
    "\n",
    "covid19_data['update_date'] = DATA_UPDATE_DATE\n",
    "covid19_data['data_source'] = DATA_SOURCE"
   ]
  },
  {
   "cell_type": "code",
   "execution_count": null,
   "metadata": {
    "id": "Y6WhTBSSKmyG"
   },
   "outputs": [],
   "source": [
    "covid19_data.head(2)"
   ]
  },
  {
   "cell_type": "markdown",
   "metadata": {
    "id": "dsszaLR9V7qe"
   },
   "source": [
    "## Enable background transparency"
   ]
  },
  {
   "cell_type": "code",
   "execution_count": null,
   "metadata": {
    "id": "drPfH8H9V7qf"
   },
   "outputs": [],
   "source": [
    "@alt.theme.register('transparent_theme', enable=True)\n",
    "def transparent_theme(font=None):\n",
    "    defaultFont=\"'Courier New', Courier, monospace\"\n",
    "    if font is not None:\n",
    "        defaultFont=font\n",
    "    return alt.theme.ThemeConfig({\n",
    "    'config': {\n",
    "      'background' : None,\n",
    "      'style': {\n",
    "#     'guide-label': {\n",
    "#       'font': defaultFont,\n",
    "#       'fontSize': 14.5,\n",
    "#       'fontWeight': 'bold',\n",
    "#     },\n",
    "    'guide-title': {\n",
    "      'font': defaultFont,\n",
    "      'fontSize': 13,\n",
    "      'fontWeight': 'bold',\n",
    "    },\n",
    "#     'group-title': {\n",
    "#       'font': defaultFont,\n",
    "#       'fontSize': 14.5,\n",
    "#       'fontWeight': 'bold',\n",
    "#     },\n",
    "#   },\n",
    "#   'title': {\n",
    "#     'font': defaultFont,\n",
    "#     'fontSize': 16.5,\n",
    "#     'fontWeight': 'bold',\n",
    "#     'dy': -3,\n",
    "#     'anchor': 'start',\n",
    "\n",
    "      },\n",
    "    }\n",
    "  }\n",
    "                                )\n",
    "alt.theme.enable('transparent_theme')"
   ]
  },
  {
   "cell_type": "markdown",
   "metadata": {
    "id": "cH-sSFInlOJh"
   },
   "source": [
    "## Set Altair rendering options"
   ]
  },
  {
   "cell_type": "code",
   "execution_count": null,
   "metadata": {
    "id": "QMwLtHI_Wnbz"
   },
   "outputs": [],
   "source": [
    "alt.renderers.enable(embed_options={'actions': False,\n",
    "                                    'theme': 'transparent_theme',\n",
    "                                    'fillOpacity': {'condition': {'param': 'select',\n",
    "                                                                  'value': 1},\n",
    "                                                    'value'    : 0.3},\n",
    "                                     'tooltip'   : {'theme'    : 'dark',\n",
    "                                                    'trigger'  :'mouseclick',\n",
    "                                                    'highlight': {'select': {'type': 'mouseclick',\n",
    "                                                                             'on'  : 'mouseclick'}}\n",
    "                                                   }\n",
    "                                   })"
   ]
  },
  {
   "cell_type": "markdown",
   "metadata": {
    "id": "W8MlQljNmiEE"
   },
   "source": [
    "## Plot vaccine statistics on the map of India"
   ]
  },
  {
   "cell_type": "code",
   "execution_count": null,
   "metadata": {
    "id": "-M5yAm_exnHw"
   },
   "outputs": [],
   "source": [
    "map_data = alt.Data(\n",
    "    values=covid19_data.to_json(),\n",
    "    format=alt.DataFormat(property='features', type='json')\n",
    ")"
   ]
  },
  {
   "cell_type": "code",
   "execution_count": null,
   "metadata": {
    "id": "bEKQqUvXV7qi"
   },
   "outputs": [],
   "source": [
    "vac_plot_params_1 = alt.param(name='highlight', \n",
    "                              select={'type': 'point',\n",
    "                                      'on'  : 'pointerover'})\n",
    "vac_plot_params_2 = alt.param(name='select', select='point')"
   ]
  },
  {
   "cell_type": "code",
   "execution_count": null,
   "metadata": {
    "id": "yogYh0WRxyGv"
   },
   "outputs": [],
   "source": [
    "vac_plot = alt.Chart(map_data).add_params(vac_plot_params_1,\n",
    "                                          vac_plot_params_2\n",
    ").mark_geoshape(blend='darken').encode(\n",
    "    color={'field' : 'properties.fully_vaccinated_percentage',\n",
    "           'type'  : 'quantitative',\n",
    "           'title' : 'Fully vaccinated (%)',\n",
    "           'scale' : alt.Scale(scheme='greens')},\n",
    "    fillOpacity={'value': 1.0},\n",
    "    opacity={\n",
    "      'condition': [\n",
    "        {\n",
    "          'param': 'select',\n",
    "          'empty': False,\n",
    "          'value': 0.3\n",
    "        },\n",
    "        {\n",
    "          'param': 'highlight',\n",
    "          'empty': False,\n",
    "          'value': 0.9\n",
    "        }\n",
    "      ],\n",
    "      'value': 1.0\n",
    "    },\n",
    "    tooltip=custom_tooltips(),\n",
    ").properties(width=480, height=560\n",
    ").project('mercator')"
   ]
  },
  {
   "cell_type": "code",
   "execution_count": null,
   "metadata": {
    "id": "axaDwq8tyWwK"
   },
   "outputs": [],
   "source": [
    "display(vac_plot)"
   ]
  },
  {
   "cell_type": "markdown",
   "metadata": {
    "id": "Z68HtrPunZyS"
   },
   "source": [
    "## Save plot as HTML\n",
    "The saved HTML plot can be used for web deployment. The [Vega embedding options](https://github.com/vega/vega-embed#Options) can be used to further customize the plots."
   ]
  },
  {
   "cell_type": "code",
   "execution_count": null,
   "metadata": {
    "id": "pYGqKqCJXM5M"
   },
   "outputs": [],
   "source": [
    "vac_plot.save('India_vaccination.html',\n",
    "              embed_options={'actions': False,\n",
    "                             'theme' : 'transparent_theme',\n",
    "                             'fillOpacity': {'condition': {'param': 'select',\n",
    "                                                           'value': 1},\n",
    "                                             'value'    : 0.3},\n",
    "                             'tooltip'   : {'theme'    : 'dark',\n",
    "                                            'trigger'  :'mouseclick',\n",
    "                                            'highlight': {'select': {'type': 'mouseclick',\n",
    "                                                                     'on'  : 'mouseclick'}}\n",
    "                                            }\n",
    "                             })"
   ]
  },
  {
   "cell_type": "code",
   "execution_count": null,
   "metadata": {
    "id": "fQjZm-klV7qm"
   },
   "outputs": [],
   "source": []
  }
 ],
 "metadata": {
  "colab": {
   "provenance": []
  },
  "kaggle": {
   "accelerator": "none",
   "dataSources": [],
   "isGpuEnabled": false,
   "isInternetEnabled": true,
   "language": "python",
   "sourceType": "notebook"
  },
  "kernelspec": {
   "display_name": "Python 3 (ipykernel)",
   "language": "python",
   "name": "python3"
  },
  "language_info": {
   "codemirror_mode": {
    "name": "ipython",
    "version": 3
   },
   "file_extension": ".py",
   "mimetype": "text/x-python",
   "name": "python",
   "nbconvert_exporter": "python",
   "pygments_lexer": "ipython3",
   "version": "3.12.7"
  }
 },
 "nbformat": 4,
 "nbformat_minor": 4
}
