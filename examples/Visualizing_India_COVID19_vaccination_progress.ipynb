{
  "metadata": {
    "kernelspec": {
      "language": "python",
      "display_name": "Python 3",
      "name": "python3"
    },
    "language_info": {
      "name": "python",
      "version": "3.10.13",
      "mimetype": "text/x-python",
      "codemirror_mode": {
        "name": "ipython",
        "version": 3
      },
      "pygments_lexer": "ipython3",
      "nbconvert_exporter": "python",
      "file_extension": ".py"
    },
    "kaggle": {
      "accelerator": "none",
      "dataSources": [],
      "isInternetEnabled": true,
      "language": "python",
      "sourceType": "notebook",
      "isGpuEnabled": false
    },
    "colab": {
      "provenance": []
    }
  },
  "nbformat_minor": 0,
  "nbformat": 4,
  "cells": [
    {
      "cell_type": "markdown",
      "source": [
        "#  [Visualizing India's COVID19 vaccination progress](https://www.moad.computer/blog/visualizing-indias-covid19-vaccination-progress)\n",
        "## Author: [Dr. Rahul Remanan](https://www.linkedin.com/in/rahulremanan/)\n",
        "## CEO, [Moad Computer](https://moad.computer)"
      ],
      "metadata": {
        "id": "WX9sKOckd2Pq"
      }
    },
    {
      "cell_type": "markdown",
      "source": [
        "[**Run this in Google Colab**](https://colab.research.google.com/github/MoadComputer/covid19-visualization/blob/main/examples/Visualizing_India_COVID19_vaccination_progress.ipynb)"
      ],
      "metadata": {
        "id": "MZEGTnkI5Kce"
      }
    },
    {
      "cell_type": "markdown",
      "source": [
        "The interactive dashboard built using [Altair](https://altair-viz.github.io/), a declarative visualization library in Python, visualizes the India's progress in COVID19 vaccination status.\n",
        "\n",
        "The state-wise vaccination statistics is sourced from the [Indian government's ministry of health and family welfare website](https://mohfw.gov.in).\n",
        "\n",
        "This notebook is divided into two parts:\n",
        "\n",
        "\n",
        "*   Part 01 -- Demo visualization using Altair\n",
        "*   Part 02 -- Visualizing vaccination statistics of India\n",
        "\n"
      ],
      "metadata": {
        "id": "m2ka118ZF8PY"
      }
    },
    {
      "cell_type": "code",
      "source": [
        "DATA_UPDATE_DATE = '10-February-2024'\n",
        "DATA_SOURCE = 'https://mohfw.gov.in [poor quality data]'"
      ],
      "metadata": {
        "id": "3Ex0YXdikxoQ",
        "trusted": true
      },
      "execution_count": null,
      "outputs": []
    },
    {
      "cell_type": "markdown",
      "source": [
        "# Setup"
      ],
      "metadata": {
        "id": "A2tVcLTKdy1B"
      }
    },
    {
      "cell_type": "markdown",
      "source": [
        "## Helper functions"
      ],
      "metadata": {
        "id": "HCVht6TRi3Cp"
      }
    },
    {
      "cell_type": "code",
      "source": [
        "#@title\n",
        "def colab_mode():\n",
        "  try:\n",
        "    from google import colab\n",
        "    return True\n",
        "  except:\n",
        "    return False\n",
        "\n",
        "def kaggle_mode():\n",
        "  try:\n",
        "    import kaggle_datasets\n",
        "    return True\n",
        "  except:\n",
        "    return False\n",
        "\n",
        "def apply_corrections(input_df):\n",
        "  for state in list(input_df['state'].values):\n",
        "    input_df.loc[input_df['state']==state,'state']=re.sub('[^A-Za-z ]+', '',str(state))\n",
        "  input_df.loc[input_df['state']=='Karanataka','state']='Karnataka'\n",
        "  input_df.loc[input_df['state']=='Himanchal Pradesh','state']='Himachal Pradesh'\n",
        "  input_df.loc[input_df['state']=='Telengana','state']='Telangana'\n",
        "  input_df.loc[input_df['state']=='Dadra and Nagar Haveli','state']='Dadra and Nagar Haveli and Daman and Diu'\n",
        "  input_df.loc[input_df['state']=='Dadar Nagar Haveli','state']='Dadra and Nagar Haveli and Daman and Diu'\n",
        "  input_df.loc[input_df['state']=='Dadra Nagar Haveli','state']='Dadra and Nagar Haveli and Daman and Diu'\n",
        "  input_df.loc[input_df['state']=='Daman & Diu','state']='Dadra and Nagar Haveli and Daman and Diu'\n",
        "  input_df.loc[input_df['state']=='Daman and Diu','state']='Dadra and Nagar Haveli and Daman and Diu'\n",
        "  return input_df\n",
        "\n",
        "def json_writer(json_input, json_output='output.json'):\n",
        "  with open(json_output, 'w') as f:\n",
        "    f.write(json_input)\n",
        "\n",
        "def custom_tooltips():\n",
        "  return [{'field' :'properties.state',\n",
        "           'type'  :'nominal',\n",
        "           'title' : 'State'},\n",
        "          {'field' :'properties.fully_vaccinated_percentage',\n",
        "           'type'  :'quantitative',\n",
        "           'title' :'Fully vaccinated (%)'},\n",
        "          {'field' :'properties.partly_vaccinated_percentage',\n",
        "           'type'  :'quantitative',\n",
        "           'title' :'Single dose (%)'},\n",
        "          {'field' :'properties.dose_1',\n",
        "           'type'  :'quantitative',\n",
        "           'title' :'1st dose administered'},\n",
        "          {'field' :'properties.dose_2',\n",
        "           'type'  :'quantitative',\n",
        "           'title' :'2nd dose administered'},\n",
        "          {'field' :'properties.population',\n",
        "           'type'  :'quantitative',\n",
        "           'title' :'Total population'},\n",
        "          {'field' :'properties.update_date',\n",
        "           'type'  :'nominal',\n",
        "           'title' :'Updated on'},\n",
        "          {'field' :'properties.data_source',\n",
        "           'type'  :'nominal',\n",
        "           'title' :'Data from'}]"
      ],
      "metadata": {
        "cellView": "form",
        "id": "zcmzXrpFcwSI",
        "_kg_hide-input": true,
        "trusted": true
      },
      "execution_count": null,
      "outputs": []
    },
    {
      "cell_type": "code",
      "source": [
        "if colab_mode():\n",
        "  !python3 -m pip uninstall pyarrow -y\n",
        "  !python3 -m pip install pyarrow\n",
        "  !python3 -m pip install -q git+https://github.com/altair-viz/altair\n",
        "  !python3 -m pip install -q geopandas\n",
        "if kaggle_mode():\n",
        "  !python3 -m pip install -q vega_datasets"
      ],
      "metadata": {
        "id": "xmwGs90YlNFD",
        "trusted": true
      },
      "execution_count": null,
      "outputs": []
    },
    {
      "cell_type": "markdown",
      "source": [
        "# Import libraries"
      ],
      "metadata": {
        "id": "1ZZ3CWCEdwEv"
      }
    },
    {
      "cell_type": "code",
      "source": [
        "import re, json, geopandas, altair as alt, numpy as np, pandas as pd\n",
        "from tqdm import tqdm\n",
        "from vega_datasets import data"
      ],
      "metadata": {
        "id": "Pyjrpj-kDica",
        "trusted": true
      },
      "execution_count": null,
      "outputs": []
    },
    {
      "cell_type": "markdown",
      "source": [
        "# Part 01 -- [Demo visualization of US airport locations](https://github.com/altair-viz/altair/blob/master/altair/examples/airports.py)\n",
        "This is an example visualization using Altair to demonstrate its ability to interactively superimpose relevant statistics on corresponding geographical data.\n",
        "\n",
        "It is adapted using the official example script in Altair library.\n",
        "\n",
        "To minimize data dependencies of this example script, Altair's built-in airport location data and mapping information are used here."
      ],
      "metadata": {
        "id": "_QZ20-HqeKAQ"
      }
    },
    {
      "cell_type": "code",
      "source": [
        "airports = data.airports.url\n",
        "states = alt.topo_feature(data.us_10m.url, feature='states')\n",
        "\n",
        "# The state-wise map of the US as background\n",
        "background = alt.Chart(states).mark_geoshape(\n",
        "    fill='lightblue',\n",
        "    stroke='white'\n",
        ").properties(\n",
        "    width=500,\n",
        "    height=300\n",
        ").project('albersUsa')\n",
        "\n",
        "# Overlay airport counts on the background\n",
        "points = alt.Chart(airports).transform_aggregate(\n",
        "    latitude='mean(latitude)',\n",
        "    longitude='mean(longitude)',\n",
        "    count='count()',\n",
        "    groupby=['state']\n",
        ").mark_circle().encode(\n",
        "    longitude='longitude:Q',\n",
        "    latitude='latitude:Q',\n",
        "    size=alt.Size('count:Q', title='Number of Airports'),\n",
        "    color=alt.value('red'),\n",
        "    tooltip=['state:N', 'count:Q']\n",
        ").properties(\n",
        "    title='Number of airports in each US state'\n",
        ")\n",
        "\n",
        "background + points"
      ],
      "metadata": {
        "id": "lVmuRUndk2PJ",
        "trusted": true
      },
      "execution_count": null,
      "outputs": []
    },
    {
      "cell_type": "markdown",
      "source": [
        "# Part 02 -- Visualizing COVID19 vaccination progress in India\n",
        "\n",
        "This is an interactive dashboard for visualizing the India's progress in COVID19 vaccinations. It is built using Altair and [GeoPandas](https://geopandas.org/en/stable/).\n",
        "\n",
        "The state-wise vaccination statistics is sourced from the [Indian government's ministry of health and family welfare website](https://mofw.gov.in)."
      ],
      "metadata": {
        "id": "otpY4tL_halb"
      }
    },
    {
      "cell_type": "markdown",
      "source": [
        "## Read map data and vaccination statistics\n",
        "The state-wise map data and the latest vaccination status for India are obtained from the Indian government's ministry of health and family welfare website and cached in the project's [GitHub repo](https://github.com/MoadComputer/covid19-visualization)."
      ],
      "metadata": {
        "id": "9AI1Ob4lzSWR"
      }
    },
    {
      "cell_type": "code",
      "source": [
        "REPO_URL = 'https://github.com/MoadComputer/covid19-visualization/raw/main/data'\n",
        "\n",
        "India_statewise = geopandas.read_file(\n",
        "  f'{REPO_URL}/GeoJSON_assets/India.geojson')\n",
        "India_stats = pd.read_csv(\n",
        "  f'{REPO_URL}/Coronavirus_stats/India/Population_stats_India_statewise.csv')\n",
        "covid19_data = pd.read_csv(\n",
        "  f'{REPO_URL}/Coronavirus_stats/India/COVID19_India_statewise.csv')\n",
        "preds_df = pd.read_csv(\n",
        "  f'{REPO_URL}/Coronavirus_stats/India/experimental/output_preds.csv')\n",
        "India_vaccinations = pd.read_csv(\n",
        "  f'{REPO_URL}/Coronavirus_stats/India/COVID19_vaccinations_India_statewise.csv')\n",
        "\n",
        "India_statewise = apply_corrections(India_statewise)\n",
        "India_stats = apply_corrections(India_stats)\n",
        "India_vaccinations = India_vaccinations[India_vaccinations.state != 'Miscellaneous']\n",
        "India_vaccinations = apply_corrections(India_vaccinations)\n",
        "\n",
        "covid19_data = apply_corrections(covid19_data)"
      ],
      "metadata": {
        "id": "T5Kf4yJ5WRRr",
        "trusted": true
      },
      "execution_count": null,
      "outputs": []
    },
    {
      "cell_type": "code",
      "source": [
        "json_writer(India_statewise.to_json(), 'India.geojson')"
      ],
      "metadata": {
        "id": "CSrOWHUOQ8FD",
        "trusted": true
      },
      "execution_count": null,
      "outputs": []
    },
    {
      "cell_type": "markdown",
      "source": [
        "## Pre-process"
      ],
      "metadata": {
        "id": "T6nrw4He20TU"
      }
    },
    {
      "cell_type": "code",
      "source": [
        "covid19_data = pd.merge(covid19_data, India_stats, on='state', how='left')\n",
        "covid19_data = pd.merge(covid19_data, India_vaccinations, on='state', how='left')\n",
        "covid19_data = pd.merge(India_statewise, covid19_data, on='state', how='left')"
      ],
      "metadata": {
        "id": "G-Kf8apjwLnS",
        "trusted": true
      },
      "execution_count": null,
      "outputs": []
    },
    {
      "cell_type": "markdown",
      "source": [
        "## Automated error correction\n",
        "A very simple, yet effective error correction code to catch some simple mistakes in the source MoHFW sourced COVID19 vaccine statistics for India."
      ],
      "metadata": {
        "id": "rPzajWvS5Keq"
      }
    },
    {
      "cell_type": "code",
      "source": [
        "def vac_dose_ecc(input_df):\n",
        "  for s in tqdm(input_df['state']):\n",
        "    dose_1 = int(input_df.loc[input_df['state']==s]['dose_1'].to_numpy()[0])\n",
        "    dose_2 = int(input_df.loc[input_df['state']==s]['dose_2'].to_numpy()[0])\n",
        "    if dose_1 < dose_2:\n",
        "      print(\n",
        "       f'\\nFound an entry for: {s} with, \\\n",
        "       \\n\\t second doses ({dose_2}) greater than first doses ({dose_1}) ...')\n",
        "      print('Whoops!!! Seems like a mathematical impossibility ...')\n",
        "      print(f'Autoswitching dose 1 and dose 2 columns for: {s} ...')\n",
        "      input_df.loc[input_df['state']==s, 'dose_1'] = dose_2\n",
        "      input_df.loc[input_df['state']==s, 'dose_2'] = dose_1\n",
        "  return input_df\n",
        "\n",
        "covid19_data = vac_dose_ecc(covid19_data)"
      ],
      "metadata": {
        "id": "6785BpTB5Kex",
        "trusted": true
      },
      "execution_count": null,
      "outputs": []
    },
    {
      "cell_type": "code",
      "source": [
        "covid19_data['fully_vaccinated_percentage'] = (\n",
        "    (covid19_data['dose_2']/covid19_data['population'])*100).astype(np.uint8)\n",
        "covid19_data['partly_vaccinated_percentage'] = (\n",
        "    (covid19_data['dose_1']/covid19_data['population'])*100).astype(np.uint8)\n",
        "\n",
        "covid19_data = covid19_data.fillna(0)\n",
        "\n",
        "covid19_data['update_date'] = DATA_UPDATE_DATE\n",
        "covid19_data['data_source'] = DATA_SOURCE"
      ],
      "metadata": {
        "id": "YUmYm6JK5Ke4",
        "trusted": true
      },
      "execution_count": null,
      "outputs": []
    },
    {
      "cell_type": "code",
      "source": [
        "covid19_data.head(2)"
      ],
      "metadata": {
        "id": "Y6WhTBSSKmyG",
        "trusted": true
      },
      "execution_count": null,
      "outputs": []
    },
    {
      "cell_type": "markdown",
      "source": [
        "## Enable background transparency"
      ],
      "metadata": {
        "id": "dsszaLR9V7qe"
      }
    },
    {
      "cell_type": "code",
      "source": [
        "def transparent_theme():\n",
        "  return {\n",
        "    'config': {\n",
        "      'background': None,\n",
        "    }\n",
        "  }\n",
        "alt.themes.register('transparent_theme', transparent_theme)\n",
        "alt.themes.enable('transparent_theme')\n"
      ],
      "metadata": {
        "trusted": true,
        "id": "drPfH8H9V7qf"
      },
      "execution_count": null,
      "outputs": []
    },
    {
      "cell_type": "markdown",
      "source": [
        "## Set Altair rendering options"
      ],
      "metadata": {
        "id": "cH-sSFInlOJh"
      }
    },
    {
      "cell_type": "code",
      "source": [
        "alt.renderers.enable(embed_options={'actions': False,\n",
        "                                    'theme': 'transparent_theme',\n",
        "                                    'fillOpacity': {'condition': {'param': 'select',\n",
        "                                                                  'value': 1},\n",
        "                                                    'value'    : 0.3},\n",
        "                                     'tooltip'   : {'theme'    : 'dark',\n",
        "                                                    'trigger'  :'mouseclick',\n",
        "                                                    'highlight': {'select': {'type': 'mouseclick',\n",
        "                                                                             'on'  : 'mouseclick'}}\n",
        "                                                   }\n",
        "                                   })"
      ],
      "metadata": {
        "id": "QMwLtHI_Wnbz",
        "trusted": true
      },
      "execution_count": null,
      "outputs": []
    },
    {
      "cell_type": "markdown",
      "source": [
        "## Plot vaccine statistics on the state-wise map of India"
      ],
      "metadata": {
        "id": "W8MlQljNmiEE"
      }
    },
    {
      "cell_type": "code",
      "source": [
        "map_data = alt.Data(\n",
        "    values=covid19_data.to_json(),\n",
        "    format=alt.DataFormat(property='features', type='json')\n",
        ")"
      ],
      "metadata": {
        "id": "-M5yAm_exnHw",
        "trusted": true
      },
      "execution_count": null,
      "outputs": []
    },
    {
      "cell_type": "code",
      "source": [
        "vac_plot_params_1 = alt.param(name='highlight', select={'type': 'point',\n",
        "                                                        'on'  : 'pointerover'})\n",
        "vac_plot_params_2 = alt.param(name='select', select='point')"
      ],
      "metadata": {
        "trusted": true,
        "id": "bEKQqUvXV7qi"
      },
      "execution_count": null,
      "outputs": []
    },
    {
      "cell_type": "code",
      "source": [
        "vac_plot = alt.Chart(map_data).add_params(vac_plot_params_1,\n",
        "                                          vac_plot_params_2\n",
        ").mark_geoshape(blend='darken').encode(\n",
        "    color={'field' : 'properties.fully_vaccinated_percentage',\n",
        "           'type'  : 'quantitative',\n",
        "           'title' : 'Fully vaccinated (%)',\n",
        "           'scale' : alt.Scale(scheme='greens')},\n",
        "    fillOpacity={'value': 1.0},\n",
        "    opacity={\n",
        "      'condition': [\n",
        "        {\n",
        "          'param': 'select',\n",
        "          'empty': False,\n",
        "          'value': 0.25\n",
        "        },\n",
        "        {\n",
        "          'param': 'highlight',\n",
        "          'empty': False,\n",
        "          'value': 0.95\n",
        "        }\n",
        "      ],\n",
        "      'value': 1.0\n",
        "    },\n",
        "    tooltip=custom_tooltips(),\n",
        ").properties(width=480, height=560\n",
        ").project('mercator')"
      ],
      "metadata": {
        "id": "yogYh0WRxyGv",
        "trusted": true
      },
      "execution_count": null,
      "outputs": []
    },
    {
      "cell_type": "code",
      "source": [
        "display(vac_plot)"
      ],
      "metadata": {
        "id": "axaDwq8tyWwK",
        "trusted": true
      },
      "execution_count": null,
      "outputs": []
    },
    {
      "cell_type": "markdown",
      "source": [
        "## Save plot as HTML\n",
        "The saved HTML plot can be used for web deployment. The [Vega embedding options](https://github.com/vega/vega-embed#Options) can be used to further customize the plots."
      ],
      "metadata": {
        "id": "Z68HtrPunZyS"
      }
    },
    {
      "cell_type": "code",
      "source": [
        "vac_plot.save('India_vaccination.html',\n",
        "              embed_options={'actions': False,\n",
        "                             'theme' : 'transparent_theme',\n",
        "                             'summary': {'background' : None},\n",
        "                             'fillOpacity': {'condition': {'param': 'select',\n",
        "                                                           'value': 1},\n",
        "                                             'value'    : 0.3},\n",
        "                             'tooltip'   : {'theme'    : 'dark',\n",
        "                                            'trigger'  :'mouseclick',\n",
        "                                            'highlight': {'select': {'type': 'mouseclick',\n",
        "                                                                     'on'  : 'mouseclick'}}\n",
        "                                            }\n",
        "                             })"
      ],
      "metadata": {
        "id": "pYGqKqCJXM5M",
        "trusted": true
      },
      "execution_count": null,
      "outputs": []
    },
    {
      "cell_type": "code",
      "source": [],
      "metadata": {
        "id": "fQjZm-klV7qm"
      },
      "execution_count": null,
      "outputs": []
    }
  ]
}