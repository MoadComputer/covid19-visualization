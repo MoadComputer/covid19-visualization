{
  "nbformat": 4,
  "nbformat_minor": 0,
  "metadata": {
    "colab": {
      "name": "COVID19_India.ipynb",
      "provenance": [],
      "collapsed_sections": []
    },
    "kernelspec": {
      "name": "python3",
      "display_name": "Python 3"
    }
  },
  "cells": [
    {
      "cell_type": "markdown",
      "metadata": {
        "id": "lsmq6rsyEFjl",
        "colab_type": "text"
      },
      "source": [
        "# Visualizing COVID19 outbreak in India\n",
        "Visualizing COVID19 outbreak in India using GeoPandas and Bokeh\n",
        "### [Run this notebook in Google Colab](https://colab.research.google.com/github/MoadComputer/covid19-visualization/blob/master/examples/COVID19_India.ipynb)"
      ]
    },
    {
      "cell_type": "markdown",
      "metadata": {
        "id": "68r3_XAAGVFi",
        "colab_type": "text"
      },
      "source": [
        "## Install dependencies"
      ]
    },
    {
      "cell_type": "code",
      "metadata": {
        "id": "XMlFPsweDIZL",
        "colab_type": "code",
        "colab": {}
      },
      "source": [
        "%%capture\n",
        "! python3 -m pip install fiona geopandas visvalingamwyatt"
      ],
      "execution_count": 0,
      "outputs": []
    },
    {
      "cell_type": "markdown",
      "metadata": {
        "id": "xKYVwNzEGSLF",
        "colab_type": "text"
      },
      "source": [
        "## Import libraries"
      ]
    },
    {
      "cell_type": "code",
      "metadata": {
        "id": "lrYp4UZ7GIzx",
        "colab_type": "code",
        "colab": {}
      },
      "source": [
        "import os\n",
        "import math\n",
        "import json\n",
        "import bokeh\n",
        "import geopandas\n",
        "import pandas as pd\n",
        "import numpy as np\n",
        "\n",
        "from bokeh.io.doc import curdoc\n",
        "from bokeh.palettes import brewer\n",
        "from bokeh.plotting import figure\n",
        "from bokeh.plotting import show as plt_show\n",
        "from bokeh.io import output_notebook, show, output_file\n",
        "from bokeh.layouts import widgetbox, row, column, gridplot\n",
        "from bokeh.tile_providers import Vendors, get_provider\n",
        "from bokeh.models import Slider, HoverTool, Select, Div, Range1d, WMTSTileSource\n",
        "from bokeh.models import GeoJSONDataSource, LinearColorMapper, ColorBar, NumeralTickFormatter"
      ],
      "execution_count": 0,
      "outputs": []
    },
    {
      "cell_type": "markdown",
      "metadata": {
        "id": "N2ZlT3kgGsiM",
        "colab_type": "text"
      },
      "source": [
        "## Load GeoJSON file of India"
      ]
    },
    {
      "cell_type": "code",
      "metadata": {
        "id": "5KKPyIgsGRHR",
        "colab_type": "code",
        "colab": {}
      },
      "source": [
        "India_statewise = geopandas.read_file('https://github.com/MoadComputer/covid19-visualization/raw/master/data/GeoJSON_assets/India_statewise.geojson')"
      ],
      "execution_count": 0,
      "outputs": []
    },
    {
      "cell_type": "markdown",
      "metadata": {
        "id": "6fAcuJakWjOc",
        "colab_type": "text"
      },
      "source": [
        "## Simplify GeoJSON geometry\n",
        "GeoJSON geometry simplication is performed using Visvalingam-Wyatt polyline simplification algorithm. Enable geometry simplification by setting the flag: ``` enable_minifiedGeoJSON=True ```\n",
        "\n",
        "The motivation for simplifying GeoJSON geometry is to improve the map rendering times. The compromise here is in the level of geometrical details. \n",
        "\n",
        "If the map rendering times are not important (offline applications), use the original GeoJSON file. The GeoJSON simplification steps can be turned-off, by setting the flag: ``` enable_minifiedGeoJSON=False ```\n",
        "\n",
        "."
      ]
    },
    {
      "cell_type": "code",
      "metadata": {
        "id": "ucrPOekq3pFT",
        "colab_type": "code",
        "colab": {}
      },
      "source": [
        "enable_minifiedGeoJSON=True"
      ],
      "execution_count": 0,
      "outputs": []
    },
    {
      "cell_type": "code",
      "metadata": {
        "id": "LupcELAAdH6p",
        "colab_type": "code",
        "colab": {}
      },
      "source": [
        "%%capture\n",
        "if not os.path.exists('./India_statewise.geojson') and enable_minifiedGeoJSON:\n",
        "  ! wget https://github.com/MoadComputer/covid19-visualization/raw/master/data/GeoJSON_assets/India_statewise.geojson -O ./India_statewise.geojson"
      ],
      "execution_count": 0,
      "outputs": []
    },
    {
      "cell_type": "code",
      "metadata": {
        "id": "L-cEOsmuWiRZ",
        "colab_type": "code",
        "colab": {}
      },
      "source": [
        "%%capture\n",
        "if enable_minifiedGeoJSON:\n",
        "  # Simplify using ratio of points\n",
        "  ! vwsimplify --ratio 0.61803398875 ./India_statewise.geojson -o ./India_statewise_minified.geojson"
      ],
      "execution_count": 0,
      "outputs": []
    },
    {
      "cell_type": "code",
      "metadata": {
        "id": "Mj86f9-MMuc4",
        "colab_type": "code",
        "outputId": "f8565dcb-dcdf-4f11-d652-cfb5045dd144",
        "colab": {
          "base_uri": "https://localhost:8080/",
          "height": 34
        }
      },
      "source": [
        "if os.path.exists('./India_statewise_minified.geojson'):\n",
        "  # Use atomified GeoJSON to generate the interactive map\n",
        "  India_statewise = geopandas.read_file('./India_statewise_minified.geojson')\n",
        "  print ('Loaded minified GeoJSON ...')"
      ],
      "execution_count": 7,
      "outputs": [
        {
          "output_type": "stream",
          "text": [
            "Loaded minified GeoJSON ...\n"
          ],
          "name": "stdout"
        }
      ]
    },
    {
      "cell_type": "code",
      "metadata": {
        "id": "5DH2t-oB9D9F",
        "colab_type": "code",
        "outputId": "871da084-4173-41f0-d165-956b29465ead",
        "colab": {
          "base_uri": "https://localhost:8080/",
          "height": 282
        }
      },
      "source": [
        "India_statewise.plot()"
      ],
      "execution_count": 8,
      "outputs": [
        {
          "output_type": "execute_result",
          "data": {
            "text/plain": [
              "<matplotlib.axes._subplots.AxesSubplot at 0x7f6dc4f455f8>"
            ]
          },
          "metadata": {
            "tags": []
          },
          "execution_count": 8
        },
        {
          "output_type": "display_data",
          "data": {
            "image/png": "[encoded data removed]",
            "text/plain": [
              "<Figure size 432x288 with 1 Axes>"
            ]
          },
          "metadata": {
            "tags": []
          }
        }
      ]
    },
    {
      "cell_type": "markdown",
      "metadata": {
        "id": "_UZCOWV3JXdy",
        "colab_type": "text"
      },
      "source": [
        "## Load COVID19 India data\n",
        "The COVID19 data is aggregated from the [Ministry of Health and Family Welfare, Government of India](https://www.mohfw.gov.in/#state-data) website."
      ]
    },
    {
      "cell_type": "code",
      "metadata": {
        "id": "jgvJJKs0JJRP",
        "colab_type": "code",
        "outputId": "427b8b5a-613e-4e42-ca50-d2f3a84ac717",
        "colab": {
          "base_uri": "https://localhost:8080/",
          "height": 204
        }
      },
      "source": [
        "covid19_data = pd.read_csv('https://github.com/MoadComputer/covid19-visualization/raw/master/data/India_statewise/COVID19_India_statewise.csv')\n",
        "covid19_data.loc[covid19_data['state'] == 'Telengana', 'state'] = 'Telangana'\n",
        "covid19_data.head()"
      ],
      "execution_count": 9,
      "outputs": [
        {
          "output_type": "execute_result",
          "data": {
            "text/html": [
              "<div>\n",
              "<style scoped>\n",
              "    .dataframe tbody tr th:only-of-type {\n",
              "        vertical-align: middle;\n",
              "    }\n",
              "\n",
              "    .dataframe tbody tr th {\n",
              "        vertical-align: top;\n",
              "    }\n",
              "\n",
              "    .dataframe thead th {\n",
              "        text-align: right;\n",
              "    }\n",
              "</style>\n",
              "<table border=\"1\" class=\"dataframe\">\n",
              "  <thead>\n",
              "    <tr style=\"text-align: right;\">\n",
              "      <th></th>\n",
              "      <th>ID</th>\n",
              "      <th>state</th>\n",
              "      <th>total_cases</th>\n",
              "      <th>discharged</th>\n",
              "      <th>deaths</th>\n",
              "    </tr>\n",
              "  </thead>\n",
              "  <tbody>\n",
              "    <tr>\n",
              "      <th>0</th>\n",
              "      <td>1</td>\n",
              "      <td>Andhra Pradesh</td>\n",
              "      <td>266</td>\n",
              "      <td>1</td>\n",
              "      <td>3</td>\n",
              "    </tr>\n",
              "    <tr>\n",
              "      <th>1</th>\n",
              "      <td>2</td>\n",
              "      <td>Andaman and Nicobar Islands</td>\n",
              "      <td>10</td>\n",
              "      <td>0</td>\n",
              "      <td>0</td>\n",
              "    </tr>\n",
              "    <tr>\n",
              "      <th>2</th>\n",
              "      <td>3</td>\n",
              "      <td>Arunachal Pradesh</td>\n",
              "      <td>1</td>\n",
              "      <td>0</td>\n",
              "      <td>0</td>\n",
              "    </tr>\n",
              "    <tr>\n",
              "      <th>3</th>\n",
              "      <td>4</td>\n",
              "      <td>Assam</td>\n",
              "      <td>26</td>\n",
              "      <td>0</td>\n",
              "      <td>0</td>\n",
              "    </tr>\n",
              "    <tr>\n",
              "      <th>4</th>\n",
              "      <td>5</td>\n",
              "      <td>Bihar</td>\n",
              "      <td>32</td>\n",
              "      <td>0</td>\n",
              "      <td>1</td>\n",
              "    </tr>\n",
              "  </tbody>\n",
              "</table>\n",
              "</div>"
            ],
            "text/plain": [
              "   ID                        state  total_cases  discharged  deaths\n",
              "0   1               Andhra Pradesh          266           1       3\n",
              "1   2  Andaman and Nicobar Islands           10           0       0\n",
              "2   3            Arunachal Pradesh            1           0       0\n",
              "3   4                        Assam           26           0       0\n",
              "4   5                        Bihar           32           0       1"
            ]
          },
          "metadata": {
            "tags": []
          },
          "execution_count": 9
        }
      ]
    },
    {
      "cell_type": "markdown",
      "metadata": {
        "id": "xx6Nea6BKGsZ",
        "colab_type": "text"
      },
      "source": [
        "## Display the list of states with no COVID19 reports"
      ]
    },
    {
      "cell_type": "code",
      "metadata": {
        "id": "Bb0_DVUMJ82h",
        "colab_type": "code",
        "outputId": "f205991d-0d3e-48e3-d44e-879ca18ee42b",
        "colab": {
          "base_uri": "https://localhost:8080/",
          "height": 272
        }
      },
      "source": [
        "noCOVID19_list = list(set(list(India_statewise.state.values)) -set(list(covid19_data.state)))\n",
        "print('A total of: {} states with no reports of COVID19 ...'.format(len(noCOVID19_list)))\n",
        "print('\\nStates in India with no COVID19 reports:')\n",
        "for noCOVID19_state in noCOVID19_list:\n",
        "  print('\\n{} ...'.format(noCOVID19_state))"
      ],
      "execution_count": 10,
      "outputs": [
        {
          "output_type": "stream",
          "text": [
            "A total of: 6 states with no reports of COVID19 ...\n",
            "\n",
            "States in India with no COVID19 reports:\n",
            "\n",
            "Sikkim ...\n",
            "\n",
            "Nagaland ...\n",
            "\n",
            "Dadra and Nagar Haveli ...\n",
            "\n",
            "Meghalaya ...\n",
            "\n",
            "Daman and Diu ...\n",
            "\n",
            "Lakshadweep ...\n"
          ],
          "name": "stdout"
        }
      ]
    },
    {
      "cell_type": "markdown",
      "metadata": {
        "id": "b8dP3qtOL-wu",
        "colab_type": "text"
      },
      "source": [
        "## Combining geographical and COVID19 data\n",
        "\n",
        "\n",
        "The function: ``` covid19_json(covid_df, geo_df) ``` combines the COVID19 dataframe and the GeoPandas dataframe. The output is a dictionary that returns: ```{'json_data': json_data, 'data_frame': merged_df}```\n",
        "\n"
      ]
    },
    {
      "cell_type": "code",
      "metadata": {
        "id": "I4cQBlg3KnAq",
        "colab_type": "code",
        "colab": {}
      },
      "source": [
        "def covid19_json(covid_df, geo_df):\n",
        "  merged_df = pd.merge(geo_df, covid_df, on='state', how='left')\n",
        "  merged_df = merged_df.fillna(0)\n",
        "  merged_json = json.loads(merged_df.to_json())\n",
        "  json_data = json.dumps(merged_json)\n",
        "  return {'json_data': json_data, 'data_frame': merged_df}"
      ],
      "execution_count": 0,
      "outputs": []
    },
    {
      "cell_type": "code",
      "metadata": {
        "id": "MyGAY_NlMGY4",
        "colab_type": "code",
        "colab": {}
      },
      "source": [
        "merged_data = covid19_json(covid19_data, India_statewise)\n",
        "merged_json = merged_data['json_data']"
      ],
      "execution_count": 0,
      "outputs": []
    },
    {
      "cell_type": "code",
      "metadata": {
        "id": "TisDQ1-vOdZ_",
        "colab_type": "code",
        "outputId": "44003931-e9c9-45c3-b558-5b058c73774b",
        "colab": {
          "base_uri": "https://localhost:8080/",
          "height": 282
        }
      },
      "source": [
        "merged_data['data_frame'].plot()"
      ],
      "execution_count": 13,
      "outputs": [
        {
          "output_type": "execute_result",
          "data": {
            "text/plain": [
              "<matplotlib.axes._subplots.AxesSubplot at 0x7f6dc221c208>"
            ]
          },
          "metadata": {
            "tags": []
          },
          "execution_count": 13
        },
        {
          "output_type": "display_data",
          "data": {
            "image/png": "[encoded data removed]",
            "text/plain": [
              "<Figure size 432x288 with 1 Axes>"
            ]
          },
          "metadata": {
            "tags": []
          }
        }
      ]
    },
    {
      "cell_type": "code",
      "metadata": {
        "id": "kRQU9PK4MuJk",
        "colab_type": "code",
        "colab": {}
      },
      "source": [
        "def covid19_plot(covid19_geosource, \n",
        "                 input_df=None,\n",
        "                 input_field=None,\n",
        "                 plot_title=None):\n",
        "  palette = brewer['Oranges'][8]\n",
        "  palette = palette[::-1]\n",
        "  hover = HoverTool(tooltips = [('State','@state'),\n",
        "                                ('Total cases', '@total_cases'),\n",
        "                                ('Total discharged/migrated', '@discharged'),\n",
        "                                ('Total deaths', '@deaths')])\n",
        "  color_mapper = LinearColorMapper(palette = palette, \n",
        "                                   low = 0, \n",
        "                                   high = int(10*(np.ceil(np.max(input_df[input_field].values)/10))))\n",
        "  format_tick = NumeralTickFormatter(format=str(input_df[input_field].values))\n",
        "  color_bar = ColorBar(color_mapper=color_mapper, \n",
        "                       label_standoff=10, \n",
        "                       formatter=format_tick,\n",
        "                       border_line_color=None, \n",
        "                       location = (0, 0))\n",
        "  plt = figure(title = plot_title,\n",
        "               tools='save', \n",
        "               plot_height = 640, plot_width = 640,\n",
        "               toolbar_location = 'left',\n",
        "               #lod_factor=int(1e7),\n",
        "               #lod_threshold=int(2),\n",
        "               output_backend=\"webgl\"\n",
        "             )\n",
        "  plt.xgrid.grid_line_color = None\n",
        "  plt.ygrid.grid_line_color = None\n",
        "  plt.axis.visible = False\n",
        "  plt.patches('xs','ys', \n",
        "              source = covid19_geosource, \n",
        "              fill_color = {'field' : 'deaths', \n",
        "                          'transform' : color_mapper},\n",
        "              line_color = 'red', \n",
        "              line_width = 1.25, \n",
        "              fill_alpha = 1)\n",
        "  plt.add_layout(color_bar, 'right')\n",
        "  plt.add_tools(hover)\n",
        "  plt.title.text_font_size = '20pt'\n",
        "  return plt"
      ],
      "execution_count": 0,
      "outputs": []
    },
    {
      "cell_type": "markdown",
      "metadata": {
        "id": "pPMJ2WRfNuMq",
        "colab_type": "text"
      },
      "source": [
        "## Generate COVID19 plot"
      ]
    },
    {
      "cell_type": "code",
      "metadata": {
        "id": "oWtC8q_rNHwe",
        "colab_type": "code",
        "colab": {}
      },
      "source": [
        "covid19_geosource=GeoJSONDataSource(geojson=merged_json)\n",
        "plot_title='COVID19 outbreak in India'\n",
        "app_title='COVID19 India'"
      ],
      "execution_count": 0,
      "outputs": []
    },
    {
      "cell_type": "code",
      "metadata": {
        "id": "DyO1JPUf1xdY",
        "colab_type": "code",
        "colab": {}
      },
      "source": [
        "_covid19_plot = covid19_plot(covid19_geosource, \n",
        "                             input_df=covid19_data,\n",
        "                             input_field='deaths',\n",
        "                             plot_title=plot_title)"
      ],
      "execution_count": 0,
      "outputs": []
    },
    {
      "cell_type": "code",
      "metadata": {
        "id": "eOjaFPRnyiXK",
        "colab_type": "code",
        "colab": {}
      },
      "source": [
        "curdoc().title=app_title\n",
        "covid19_layout = column(_covid19_plot)\n",
        "curdoc().add_root(covid19_layout)"
      ],
      "execution_count": 0,
      "outputs": []
    },
    {
      "cell_type": "markdown",
      "metadata": {
        "id": "jo_7gOcNOBgH",
        "colab_type": "text"
      },
      "source": [
        "## Display the interactive COVID19 map for India\n",
        "This generates an interactive COVID19 India outbreak map, within the notebook.\n",
        "![Bokeh static output](https://github.com/MoadComputer/covid19-visualization/raw/master/examples/COVID19_India_Bokeh_output.png)\n",
        "\n",
        "The image above is a static screenshot of the Bokeh output. It shows the hover-tool functionality and the save-tool for generating a ```.png``` output. By hovering (devices with a pointer) or single-tapping (touch devices) over the corresponding states, an exapnded summary of COVID19 outbreak in India is displayed."
      ]
    },
    {
      "cell_type": "code",
      "metadata": {
        "id": "Oj07jd09NxRd",
        "colab_type": "code",
        "colab": {}
      },
      "source": [
        "output_notebook()\n",
        "show(_covid19_plot)"
      ],
      "execution_count": 0,
      "outputs": []
    },
    {
      "cell_type": "markdown",
      "metadata": {
        "id": "1vyhAcNAg7sA",
        "colab_type": "text"
      },
      "source": [
        "## [Heroku hosted app](https://covid19india-visualization.herokuapp.com/COVID19_India)\n",
        "The iframe displays a web version of this notebook, using Heroku."
      ]
    },
    {
      "cell_type": "code",
      "metadata": {
        "id": "joAr2fzzOK17",
        "colab_type": "code",
        "colab": {}
      },
      "source": [
        "import IPython\n",
        "URL = 'https://covid19india-visualization.herokuapp.com/COVID19_India'\n",
        "FRAME_WIDTH=680\n",
        "FRAME_HEIGHT=575\n",
        "iframe = '<iframe src={} width={} height={}></iframe>'.format(URL, \n",
        "                                                              FRAME_WIDTH, \n",
        "                                                              FRAME_HEIGHT)\n",
        "IPython.display.HTML(iframe)"
      ],
      "execution_count": 0,
      "outputs": []
    },
    {
      "cell_type": "code",
      "metadata": {
        "id": "ut0ciKcZuLup",
        "colab_type": "code",
        "colab": {}
      },
      "source": [
        ""
      ],
      "execution_count": 0,
      "outputs": []
    }
  ]
}