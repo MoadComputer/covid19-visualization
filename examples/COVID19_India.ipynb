{
 "cells": [
  {
   "cell_type": "markdown",
   "metadata": {
    "colab_type": "text",
    "id": "lsmq6rsyEFjl"
   },
   "source": [
    "# [**Visualizing COVID19 outbreak in India**](https://github.com/MoadComputer/covid19-visualization/blob/master/examples/COVID19_India.ipynb)\n",
    "## Author: [Dr. Rahul Remanan](https://www.linkedin.com/in/rahulremanan/), CEO [Moad Computer](https://moad.computer)\n",
    "### Contact: rahul@moad.computer"
   ]
  },
  {
   "cell_type": "markdown",
   "metadata": {
    "colab_type": "text",
    "id": "V8w7p1S5lD7E"
   },
   "source": [
    "This notebook visualizes the COVID19 outbreak in India using GeoPandas and Bokeh.\n",
    "## **[Run this notebook in Google Colab](https://colab.research.google.com/github/MoadComputer/covid19-visualization/blob/master/examples/COVID19_India.ipynb)**"
   ]
  },
  {
   "cell_type": "code",
   "execution_count": 1,
   "metadata": {
    "colab": {},
    "colab_type": "code",
    "id": "pcxDRHM9CaV3"
   },
   "outputs": [],
   "source": [
    "setup=True"
   ]
  },
  {
   "cell_type": "markdown",
   "metadata": {
    "colab_type": "text",
    "id": "68r3_XAAGVFi"
   },
   "source": [
    "## Install dependencies"
   ]
  },
  {
   "cell_type": "code",
   "execution_count": 2,
   "metadata": {
    "colab": {},
    "colab_type": "code",
    "id": "PiwZwCe82MwN"
   },
   "outputs": [],
   "source": [
    "try:\n",
    "  import geopandas\n",
    "  setup=False\n",
    "except:\n",
    "  print ('GeoPandas package not detected. Trying to install GeoPandas ...')"
   ]
  },
  {
   "cell_type": "code",
   "execution_count": 3,
   "metadata": {
    "colab": {},
    "colab_type": "code",
    "id": "XMlFPsweDIZL"
   },
   "outputs": [],
   "source": [
    "%%capture\n",
    "if setup:\n",
    "  ! python3 -m pip install fiona geopandas visvalingamwyatt"
   ]
  },
  {
   "cell_type": "markdown",
   "metadata": {
    "colab_type": "text",
    "id": "xKYVwNzEGSLF"
   },
   "source": [
    "## Import libraries"
   ]
  },
  {
   "cell_type": "code",
   "execution_count": 4,
   "metadata": {
    "colab": {},
    "colab_type": "code",
    "id": "lrYp4UZ7GIzx"
   },
   "outputs": [],
   "source": [
    "import os\n",
    "import math\n",
    "import json\n",
    "import bokeh\n",
    "import geopandas\n",
    "import numpy as np\n",
    "import pandas as pd\n",
    "\n",
    "from bokeh.io.doc import curdoc\n",
    "from bokeh.plotting import figure\n",
    "from bokeh.palettes import brewer, OrRd\n",
    "from bokeh.plotting import show as plt_show\n",
    "from bokeh.tile_providers import Vendors, get_provider\n",
    "from bokeh.io import output_notebook, show, output_file\n",
    "from bokeh.layouts import widgetbox, row, column, gridplot\n",
    "from bokeh.models import GeoJSONDataSource, LinearColorMapper, ColorBar, NumeralTickFormatter\n",
    "from bokeh.models import Slider, HoverTool, Select, Div, Range1d, WMTSTileSource, BoxZoomTool"
   ]
  },
  {
   "cell_type": "markdown",
   "metadata": {
    "colab_type": "text",
    "id": "N2ZlT3kgGsiM"
   },
   "source": [
    "## Load GeoJSON file of India"
   ]
  },
  {
   "cell_type": "code",
   "execution_count": 5,
   "metadata": {
    "colab": {},
    "colab_type": "code",
    "id": "5KKPyIgsGRHR"
   },
   "outputs": [],
   "source": [
    "India_statewise = geopandas.read_file('https://github.com/MoadComputer/covid19-visualization/raw/master/data/GeoJSON_assets/India_statewise.geojson')"
   ]
  },
  {
   "cell_type": "markdown",
   "metadata": {
    "colab_type": "text",
    "id": "6fAcuJakWjOc"
   },
   "source": [
    "## Simplify GeoJSON geometry\n",
    "GeoJSON geometry simplication is performed using Visvalingam-Wyatt polyline simplification algorithm. Enable geometry simplification by setting the flag: ``` enable_minifiedGeoJSON=True ```\n",
    "\n",
    "The motivation for simplifying GeoJSON geometry is to improve the map rendering times. The compromise here is in the level of geometrical details. \n",
    "\n",
    "If the map rendering times are not important (offline applications), use the original GeoJSON file. The GeoJSON simplification steps can be turned-off, by setting the flag: ``` enable_minifiedGeoJSON=False ```\n",
    "\n",
    "."
   ]
  },
  {
   "cell_type": "code",
   "execution_count": 6,
   "metadata": {
    "colab": {},
    "colab_type": "code",
    "id": "ucrPOekq3pFT"
   },
   "outputs": [],
   "source": [
    "enable_minifiedGeoJSON=True"
   ]
  },
  {
   "cell_type": "code",
   "execution_count": 7,
   "metadata": {
    "colab": {},
    "colab_type": "code",
    "id": "LupcELAAdH6p"
   },
   "outputs": [],
   "source": [
    "%%capture\n",
    "if not os.path.exists('./India_statewise.geojson') and enable_minifiedGeoJSON:\n",
    "  ! wget https://github.com/MoadComputer/covid19-visualization/raw/master/data/GeoJSON_assets/India_statewise.geojson -O ./India_statewise.geojson"
   ]
  },
  {
   "cell_type": "code",
   "execution_count": 8,
   "metadata": {
    "colab": {},
    "colab_type": "code",
    "id": "L-cEOsmuWiRZ"
   },
   "outputs": [],
   "source": [
    "%%capture\n",
    "if enable_minifiedGeoJSON:\n",
    "  # Simplify using ratio of points\n",
    "  ! vwsimplify --ratio 0.61803398875 ./India_statewise.geojson -o ./India_statewise_minified.geojson"
   ]
  },
  {
   "cell_type": "code",
   "execution_count": 9,
   "metadata": {
    "colab": {
     "base_uri": "https://localhost:8080/",
     "height": 34
    },
    "colab_type": "code",
    "id": "Mj86f9-MMuc4",
    "outputId": "302c9a2d-c693-4c21-c5ec-af0a183dd197"
   },
   "outputs": [],
   "source": [
    "if os.path.exists('./India_statewise_minified.geojson'):\n",
    "  # Use atomified GeoJSON to generate the interactive map\n",
    "  India_statewise = geopandas.read_file('./India_statewise_minified.geojson')\n",
    "  print ('Loaded minified GeoJSON ...')"
   ]
  },
  {
   "cell_type": "markdown",
   "metadata": {
    "colab_type": "text",
    "id": "RSGRFnKeubbK"
   },
   "source": [
    "## Set map projection and summarize GeoJSON data\n",
    "\n",
    "Map projections project the surface of the earth or a portion of it on a flat surface, such as a computer screen. Map projections approximate the earth's spherical shape (3D) onto a plane (2D). Note: The use of projections doesn't mean that the earth is flat, but, on the contrary.\n",
    "\n",
    "The coordinate reference system (CRS) is used to define, using coordinates, the relationship between the two-dimensional, projected map in your GIS and the real places on the earth. The specific type of map projection and coordinate reference system to use, depends on the regional extent of the area you want to work in, on the analysis you want to do and often on the availability of data.[1](https://docs.qgis.org/3.10/en/docs/gentle_gis_introduction/coordinate_reference_systems.html)\n",
    "\n",
    "In this notebook, the EPSG:3395 CRS is used. It uses the elliptical version of the Marcator projection, with metre (m) as the measurement unit and [Greenwich](https://en.wikipedia.org/wiki/Greenwich) as the prime meridian. This system is useful for very small scale mapping, for parts of the world between 80°S and 84°N. This system excludes the polar areas.[2](https://epsg.io/3395)"
   ]
  },
  {
   "cell_type": "code",
   "execution_count": 10,
   "metadata": {
    "colab": {
     "base_uri": "https://localhost:8080/",
     "height": 204
    },
    "colab_type": "code",
    "id": "qS1WZiv6lMir",
    "outputId": "4cd1f50c-3b3a-415f-a641-87bb47f193a4"
   },
   "outputs": [
    {
     "data": {
      "text/html": [
       "<div>\n",
       "<style scoped>\n",
       "    .dataframe tbody tr th:only-of-type {\n",
       "        vertical-align: middle;\n",
       "    }\n",
       "\n",
       "    .dataframe tbody tr th {\n",
       "        vertical-align: top;\n",
       "    }\n",
       "\n",
       "    .dataframe thead th {\n",
       "        text-align: right;\n",
       "    }\n",
       "</style>\n",
       "<table border=\"1\" class=\"dataframe\">\n",
       "  <thead>\n",
       "    <tr style=\"text-align: right;\">\n",
       "      <th></th>\n",
       "      <th>state</th>\n",
       "      <th>geometry</th>\n",
       "    </tr>\n",
       "  </thead>\n",
       "  <tbody>\n",
       "    <tr>\n",
       "      <th>0</th>\n",
       "      <td>Jammu and Kashmir</td>\n",
       "      <td>POLYGON ((8248815.186 4158474.460, 8267604.320...</td>\n",
       "    </tr>\n",
       "    <tr>\n",
       "      <th>1</th>\n",
       "      <td>Ladakh</td>\n",
       "      <td>POLYGON ((8548889.055 3905752.225, 8536723.949...</td>\n",
       "    </tr>\n",
       "    <tr>\n",
       "      <th>2</th>\n",
       "      <td>Andaman and Nicobar Islands</td>\n",
       "      <td>MULTIPOLYGON (((10298818.467 1212439.225, 1030...</td>\n",
       "    </tr>\n",
       "    <tr>\n",
       "      <th>3</th>\n",
       "      <td>Telangana</td>\n",
       "      <td>POLYGON ((8935333.898 2108061.096, 8943036.679...</td>\n",
       "    </tr>\n",
       "    <tr>\n",
       "      <th>4</th>\n",
       "      <td>Andhra Pradesh</td>\n",
       "      <td>POLYGON ((8628301.070 1783835.012, 8660560.315...</td>\n",
       "    </tr>\n",
       "  </tbody>\n",
       "</table>\n",
       "</div>"
      ],
      "text/plain": [
       "                         state  \\\n",
       "0            Jammu and Kashmir   \n",
       "1                       Ladakh   \n",
       "2  Andaman and Nicobar Islands   \n",
       "3                    Telangana   \n",
       "4               Andhra Pradesh   \n",
       "\n",
       "                                            geometry  \n",
       "0  POLYGON ((8248815.186 4158474.460, 8267604.320...  \n",
       "1  POLYGON ((8548889.055 3905752.225, 8536723.949...  \n",
       "2  MULTIPOLYGON (((10298818.467 1212439.225, 1030...  \n",
       "3  POLYGON ((8935333.898 2108061.096, 8943036.679...  \n",
       "4  POLYGON ((8628301.070 1783835.012, 8660560.315...  "
      ]
     },
     "execution_count": 10,
     "metadata": {},
     "output_type": "execute_result"
    }
   ],
   "source": [
    "India_statewise = India_statewise.to_crs(\"EPSG:3395\")\n",
    "India_statewise.head()"
   ]
  },
  {
   "cell_type": "markdown",
   "metadata": {
    "colab_type": "text",
    "id": "_UZCOWV3JXdy"
   },
   "source": [
    "## Load COVID19 India data\n",
    "The COVID19 data is aggregated from the [Ministry of Health and Family Welfare, Government of India](https://www.mohfw.gov.in/#state-data) website."
   ]
  },
  {
   "cell_type": "code",
   "execution_count": 11,
   "metadata": {
    "colab": {
     "base_uri": "https://localhost:8080/",
     "height": 204
    },
    "colab_type": "code",
    "id": "jgvJJKs0JJRP",
    "outputId": "ec89d18b-48ef-4d67-9c68-e45868e88e43"
   },
   "outputs": [
    {
     "data": {
      "text/html": [
       "<div>\n",
       "<style scoped>\n",
       "    .dataframe tbody tr th:only-of-type {\n",
       "        vertical-align: middle;\n",
       "    }\n",
       "\n",
       "    .dataframe tbody tr th {\n",
       "        vertical-align: top;\n",
       "    }\n",
       "\n",
       "    .dataframe thead th {\n",
       "        text-align: right;\n",
       "    }\n",
       "</style>\n",
       "<table border=\"1\" class=\"dataframe\">\n",
       "  <thead>\n",
       "    <tr style=\"text-align: right;\">\n",
       "      <th></th>\n",
       "      <th>ID</th>\n",
       "      <th>state</th>\n",
       "      <th>total_cases</th>\n",
       "      <th>discharged</th>\n",
       "      <th>deaths</th>\n",
       "    </tr>\n",
       "  </thead>\n",
       "  <tbody>\n",
       "    <tr>\n",
       "      <th>0</th>\n",
       "      <td>1</td>\n",
       "      <td>Andhra Pradesh</td>\n",
       "      <td>348</td>\n",
       "      <td>6</td>\n",
       "      <td>4</td>\n",
       "    </tr>\n",
       "    <tr>\n",
       "      <th>1</th>\n",
       "      <td>2</td>\n",
       "      <td>Andaman and Nicobar Islands</td>\n",
       "      <td>11</td>\n",
       "      <td>0</td>\n",
       "      <td>0</td>\n",
       "    </tr>\n",
       "    <tr>\n",
       "      <th>2</th>\n",
       "      <td>3</td>\n",
       "      <td>Arunachal Pradesh</td>\n",
       "      <td>1</td>\n",
       "      <td>0</td>\n",
       "      <td>0</td>\n",
       "    </tr>\n",
       "    <tr>\n",
       "      <th>3</th>\n",
       "      <td>4</td>\n",
       "      <td>Assam</td>\n",
       "      <td>29</td>\n",
       "      <td>0</td>\n",
       "      <td>0</td>\n",
       "    </tr>\n",
       "    <tr>\n",
       "      <th>4</th>\n",
       "      <td>5</td>\n",
       "      <td>Bihar</td>\n",
       "      <td>39</td>\n",
       "      <td>0</td>\n",
       "      <td>1</td>\n",
       "    </tr>\n",
       "  </tbody>\n",
       "</table>\n",
       "</div>"
      ],
      "text/plain": [
       "   ID                        state  total_cases  discharged  deaths\n",
       "0   1               Andhra Pradesh          348           6       4\n",
       "1   2  Andaman and Nicobar Islands           11           0       0\n",
       "2   3            Arunachal Pradesh            1           0       0\n",
       "3   4                        Assam           29           0       0\n",
       "4   5                        Bihar           39           0       1"
      ]
     },
     "execution_count": 11,
     "metadata": {},
     "output_type": "execute_result"
    }
   ],
   "source": [
    "covid19_data = pd.read_csv('https://github.com/MoadComputer/covid19-visualization/raw/master/data/India_statewise/COVID19_India_statewise.csv')\n",
    "covid19_data.loc[covid19_data['state'] == 'Telengana', 'state'] = 'Telangana'\n",
    "covid19_data.head()"
   ]
  },
  {
   "cell_type": "markdown",
   "metadata": {
    "colab_type": "text",
    "id": "xx6Nea6BKGsZ"
   },
   "source": [
    "## Display the list of states with no COVID19 reports"
   ]
  },
  {
   "cell_type": "code",
   "execution_count": 12,
   "metadata": {
    "colab": {
     "base_uri": "https://localhost:8080/",
     "height": 272
    },
    "colab_type": "code",
    "id": "Bb0_DVUMJ82h",
    "outputId": "9ea1108b-1e19-49a1-f5a1-089a6edabfd9"
   },
   "outputs": [
    {
     "name": "stdout",
     "output_type": "stream",
     "text": [
      "A total of: 6 states with no reports of COVID19 ...\n",
      "\n",
      "States in India with no COVID19 reports:\n",
      "\n",
      "Meghalaya ...\n",
      "\n",
      "Sikkim ...\n",
      "\n",
      "Dadra and Nagar Haveli ...\n",
      "\n",
      "Lakshadweep ...\n",
      "\n",
      "Nagaland ...\n",
      "\n",
      "Daman and Diu ...\n"
     ]
    }
   ],
   "source": [
    "noCOVID19_list = list(set(list(India_statewise.state.values)) -set(list(covid19_data.state)))\n",
    "print('A total of: {} states with no reports of COVID19 ...'.format(len(noCOVID19_list)))\n",
    "print('\\nStates in India with no COVID19 reports:')\n",
    "for noCOVID19_state in noCOVID19_list:\n",
    "  print('\\n{} ...'.format(noCOVID19_state))"
   ]
  },
  {
   "cell_type": "markdown",
   "metadata": {
    "colab_type": "text",
    "id": "b8dP3qtOL-wu"
   },
   "source": [
    "## Combining geographical and COVID19 data\n",
    "\n",
    "\n",
    "The function: ``` covid19_json(covid_df, geo_df) ``` combines the COVID19 dataframe and the GeoPandas dataframe. The output is a dictionary that returns: ```{'json_data': json_data, 'data_frame': merged_df}```\n",
    "\n"
   ]
  },
  {
   "cell_type": "code",
   "execution_count": 13,
   "metadata": {
    "colab": {},
    "colab_type": "code",
    "id": "I4cQBlg3KnAq"
   },
   "outputs": [],
   "source": [
    "def covid19_json(covid_df, geo_df):\n",
    "  merged_df = pd.merge(geo_df, covid_df, on='state', how='left')\n",
    "  merged_df = merged_df.fillna(0)\n",
    "  merged_json = json.loads(merged_df.to_json())\n",
    "  json_data = json.dumps(merged_json)\n",
    "  return {'json_data': json_data, 'data_frame': merged_df}"
   ]
  },
  {
   "cell_type": "code",
   "execution_count": 14,
   "metadata": {
    "colab": {},
    "colab_type": "code",
    "id": "MyGAY_NlMGY4"
   },
   "outputs": [],
   "source": [
    "merged_data = covid19_json(covid19_data, India_statewise)\n",
    "merged_json = merged_data['json_data']"
   ]
  },
  {
   "cell_type": "code",
   "execution_count": 15,
   "metadata": {
    "colab": {
     "base_uri": "https://localhost:8080/",
     "height": 306
    },
    "colab_type": "code",
    "id": "TisDQ1-vOdZ_",
    "outputId": "f4e10e8b-8953-4a8e-ec8d-d906e35129ad"
   },
   "outputs": [
    {
     "data": {
      "text/plain": [
       "<matplotlib.axes._subplots.AxesSubplot at 0x1d0b2bdf408>"
      ]
     },
     "execution_count": 15,
     "metadata": {},
     "output_type": "execute_result"
    },
    {
     "data": {
      "image/png": "[encoded data removed]",
      "text/plain": [
       "<Figure size 432x288 with 1 Axes>"
      ]
     },
     "metadata": {
      "needs_background": "light"
     },
     "output_type": "display_data"
    }
   ],
   "source": [
    "merged_data['data_frame'].plot()"
   ]
  },
  {
   "cell_type": "code",
   "execution_count": 16,
   "metadata": {
    "colab": {},
    "colab_type": "code",
    "id": "kRQU9PK4MuJk"
   },
   "outputs": [],
   "source": [
    "def covid19_plot(covid19_geosource, \n",
    "                 input_df=None,\n",
    "                 input_field=None,\n",
    "                 plot_title=None,\n",
    "                 map_overlay=True,\n",
    "                 palette_type='OrRd',\n",
    "                 custom_hovertool=True,\n",
    "                 enable_toolbar=True):\n",
    "  if palette_type.lower()=='OrRd'.lower():\n",
    "    palette = OrRd[9]\n",
    "    palette = palette[::-1]\n",
    "  else:\n",
    "    palette = brewer['Oranges']\n",
    "    palette = palette[::-1]\n",
    "  \n",
    "  if custom_hovertool:\n",
    "    hover  = HoverTool(tooltips =\"\"\"<strong><font face=\"Arial\" size=\"3\">@state</font></strong> <br>\n",
    "                                    <font face=\"Arial\" size=\"3\">Cases: @total_cases</font><br>\n",
    "                                    <font face=\"Arial\" size=\"3\">Deaths: @deaths </font>\"\"\")\n",
    "  else:\n",
    "    hover = HoverTool(tooltips = [('State','@state'),\n",
    "                                  ('Cases', '@total_cases'),\n",
    "                                  #('Discharged/migrated', '@discharged'),\n",
    "                                  ('Deaths', '@deaths')])\n",
    "  \n",
    "  color_mapper = LinearColorMapper(palette = palette, \n",
    "                                   low = 0, \n",
    "                                   high = int(10*(np.ceil(np.max(input_df[input_field].values)/10))))\n",
    "  format_tick = NumeralTickFormatter(format=str(input_df[input_field].values))\n",
    "  color_bar = ColorBar(color_mapper=color_mapper, \n",
    "                       label_standoff=10, \n",
    "                       formatter=format_tick,\n",
    "                       border_line_color=None, \n",
    "                       major_label_text_font_size='16px',\n",
    "                       location = (0, 0))\n",
    "  if map_overlay:\n",
    "    xmin = 8450000\n",
    "    xmax = 10000000\n",
    "    ymin = 850000\n",
    "    ymax = 4550000\n",
    "\n",
    "  plt = figure(title = plot_title,\n",
    "               x_range=(xmin, xmax) if map_overlay else None,\n",
    "               y_range=(ymin, ymax) if map_overlay else None,\n",
    "               tools='save' if enable_toolbar else '', \n",
    "               plot_height = 640, plot_width = 640,\n",
    "               toolbar_location = 'left' if enable_toolbar else None,\n",
    "               #lod_factor=int(1e7),\n",
    "               #lod_threshold=int(2),\n",
    "               output_backend=\"webgl\")\n",
    "  \n",
    "  if map_overlay:\n",
    "    wmts = WMTSTileSource(url=\"http://c.tile.openstreetmap.org/{Z}/{X}/{Y}.png\")\n",
    "    plt.add_tile(wmts)\n",
    "    plt.xaxis.axis_label = 'longitude'\n",
    "    plt.yaxis.axis_label = 'latitude'\n",
    "    \n",
    "  plt.xgrid.grid_line_color = None\n",
    "  plt.ygrid.grid_line_color = None\n",
    "  plt.axis.visible = False\n",
    "  plt.patches('xs','ys', \n",
    "              source = covid19_geosource, \n",
    "              fill_color = {'field' : 'deaths', \n",
    "                            'transform' : color_mapper},\n",
    "              line_color = 'purple', \n",
    "              line_width = 0.5, \n",
    "              fill_alpha = 0.85)\n",
    "  plt.add_layout(color_bar, 'right')\n",
    "  plt.add_tools(hover)\n",
    "  plt.title.text_font_size = '34pt'\n",
    "  return plt"
   ]
  },
  {
   "cell_type": "markdown",
   "metadata": {
    "colab_type": "text",
    "id": "pPMJ2WRfNuMq"
   },
   "source": [
    "## Generate COVID19 plot"
   ]
  },
  {
   "cell_type": "code",
   "execution_count": 17,
   "metadata": {
    "colab": {},
    "colab_type": "code",
    "id": "oWtC8q_rNHwe"
   },
   "outputs": [],
   "source": [
    "covid19_geosource=GeoJSONDataSource(geojson=merged_json)\n",
    "plot_title='COVID19 outbreak in India'\n",
    "app_title='COVID19 India'"
   ]
  },
  {
   "cell_type": "code",
   "execution_count": 18,
   "metadata": {
    "colab": {},
    "colab_type": "code",
    "id": "DyO1JPUf1xdY"
   },
   "outputs": [],
   "source": [
    "_covid19_plot = covid19_plot(covid19_geosource, \n",
    "                             input_df=covid19_data,\n",
    "                             input_field='deaths',\n",
    "                             plot_title=plot_title)"
   ]
  },
  {
   "cell_type": "code",
   "execution_count": 19,
   "metadata": {
    "colab": {},
    "colab_type": "code",
    "id": "eOjaFPRnyiXK"
   },
   "outputs": [],
   "source": [
    "curdoc().title=app_title\n",
    "covid19_layout = column(_covid19_plot)\n",
    "curdoc().add_root(covid19_layout)"
   ]
  },
  {
   "cell_type": "markdown",
   "metadata": {
    "colab_type": "text",
    "id": "jo_7gOcNOBgH"
   },
   "source": [
    "## Display the interactive COVID19 map for India\n",
    "This generates an interactive COVID19 India outbreak map, within the notebook.\n",
    "![Bokeh static output](https://github.com/MoadComputer/covid19-visualization/raw/master/examples/COVID19_India_Bokeh_output.png)\n",
    "\n",
    "The image above is a static screenshot of the Bokeh output. It shows the hover-tool functionality and the save-tool for generating a ```.png``` output. By hovering (devices with a pointer) or single-tapping (touch devices) over the corresponding states, an exapnded summary of COVID19 outbreak in India is displayed."
   ]
  },
  {
   "cell_type": "code",
   "execution_count": 20,
   "metadata": {
    "colab": {},
    "colab_type": "code",
    "id": "Oj07jd09NxRd"
   },
   "outputs": [
    {
     "data": {
      "text/html": [
       "\n",
       "    <div class=\"bk-root\">\n",
       "        <a href=\"https://bokeh.org\" target=\"_blank\" class=\"bk-logo bk-logo-small bk-logo-notebook\"></a>\n",
       "        <span id=\"1047\">Loading BokehJS ...</span>\n",
       "    </div>"
      ]
     },
     "metadata": {},
     "output_type": "display_data"
    },
    {
     "data": {
      "application/javascript": [
       "\n",
       "(function(root) {\n",
       "  function now() {\n",
       "    return new Date();\n",
       "  }\n",
       "\n",
       "  var force = true;\n",
       "\n",
       "  if (typeof root._bokeh_onload_callbacks === \"undefined\" || force === true) {\n",
       "    root._bokeh_onload_callbacks = [];\n",
       "    root._bokeh_is_loading = undefined;\n",
       "  }\n",
       "\n",
       "  var JS_MIME_TYPE = 'application/javascript';\n",
       "  var HTML_MIME_TYPE = 'text/html';\n",
       "  var EXEC_MIME_TYPE = 'application/vnd.bokehjs_exec.v0+json';\n",
       "  var CLASS_NAME = 'output_bokeh rendered_html';\n",
       "\n",
       "  /**\n",
       "   * Render data to the DOM node\n",
       "   */\n",
       "  function render(props, node) {\n",
       "    var script = document.createElement(\"script\");\n",
       "    node.appendChild(script);\n",
       "  }\n",
       "\n",
       "  /**\n",
       "   * Handle when an output is cleared or removed\n",
       "   */\n",
       "  function handleClearOutput(event, handle) {\n",
       "    var cell = handle.cell;\n",
       "\n",
       "    var id = cell.output_area._bokeh_element_id;\n",
       "    var server_id = cell.output_area._bokeh_server_id;\n",
       "    // Clean up Bokeh references\n",
       "    if (id != null && id in Bokeh.index) {\n",
       "      Bokeh.index[id].model.document.clear();\n",
       "      delete Bokeh.index[id];\n",
       "    }\n",
       "\n",
       "    if (server_id !== undefined) {\n",
       "      // Clean up Bokeh references\n",
       "      var cmd = \"from bokeh.io.state import curstate; print(curstate().uuid_to_server['\" + server_id + \"'].get_sessions()[0].document.roots[0]._id)\";\n",
       "      cell.notebook.kernel.execute(cmd, {\n",
       "        iopub: {\n",
       "          output: function(msg) {\n",
       "            var id = msg.content.text.trim();\n",
       "            if (id in Bokeh.index) {\n",
       "              Bokeh.index[id].model.document.clear();\n",
       "              delete Bokeh.index[id];\n",
       "            }\n",
       "          }\n",
       "        }\n",
       "      });\n",
       "      // Destroy server and session\n",
       "      var cmd = \"import bokeh.io.notebook as ion; ion.destroy_server('\" + server_id + \"')\";\n",
       "      cell.notebook.kernel.execute(cmd);\n",
       "    }\n",
       "  }\n",
       "\n",
       "  /**\n",
       "   * Handle when a new output is added\n",
       "   */\n",
       "  function handleAddOutput(event, handle) {\n",
       "    var output_area = handle.output_area;\n",
       "    var output = handle.output;\n",
       "\n",
       "    // limit handleAddOutput to display_data with EXEC_MIME_TYPE content only\n",
       "    if ((output.output_type != \"display_data\") || (!output.data.hasOwnProperty(EXEC_MIME_TYPE))) {\n",
       "      return\n",
       "    }\n",
       "\n",
       "    var toinsert = output_area.element.find(\".\" + CLASS_NAME.split(' ')[0]);\n",
       "\n",
       "    if (output.metadata[EXEC_MIME_TYPE][\"id\"] !== undefined) {\n",
       "      toinsert[toinsert.length - 1].firstChild.textContent = output.data[JS_MIME_TYPE];\n",
       "      // store reference to embed id on output_area\n",
       "      output_area._bokeh_element_id = output.metadata[EXEC_MIME_TYPE][\"id\"];\n",
       "    }\n",
       "    if (output.metadata[EXEC_MIME_TYPE][\"server_id\"] !== undefined) {\n",
       "      var bk_div = document.createElement(\"div\");\n",
       "      bk_div.innerHTML = output.data[HTML_MIME_TYPE];\n",
       "      var script_attrs = bk_div.children[0].attributes;\n",
       "      for (var i = 0; i < script_attrs.length; i++) {\n",
       "        toinsert[toinsert.length - 1].firstChild.setAttribute(script_attrs[i].name, script_attrs[i].value);\n",
       "        toinsert[toinsert.length - 1].firstChild.textContent = bk_div.children[0].textContent\n",
       "      }\n",
       "      // store reference to server id on output_area\n",
       "      output_area._bokeh_server_id = output.metadata[EXEC_MIME_TYPE][\"server_id\"];\n",
       "    }\n",
       "  }\n",
       "\n",
       "  function register_renderer(events, OutputArea) {\n",
       "\n",
       "    function append_mime(data, metadata, element) {\n",
       "      // create a DOM node to render to\n",
       "      var toinsert = this.create_output_subarea(\n",
       "        metadata,\n",
       "        CLASS_NAME,\n",
       "        EXEC_MIME_TYPE\n",
       "      );\n",
       "      this.keyboard_manager.register_events(toinsert);\n",
       "      // Render to node\n",
       "      var props = {data: data, metadata: metadata[EXEC_MIME_TYPE]};\n",
       "      render(props, toinsert[toinsert.length - 1]);\n",
       "      element.append(toinsert);\n",
       "      return toinsert\n",
       "    }\n",
       "\n",
       "    /* Handle when an output is cleared or removed */\n",
       "    events.on('clear_output.CodeCell', handleClearOutput);\n",
       "    events.on('delete.Cell', handleClearOutput);\n",
       "\n",
       "    /* Handle when a new output is added */\n",
       "    events.on('output_added.OutputArea', handleAddOutput);\n",
       "\n",
       "    /**\n",
       "     * Register the mime type and append_mime function with output_area\n",
       "     */\n",
       "    OutputArea.prototype.register_mime_type(EXEC_MIME_TYPE, append_mime, {\n",
       "      /* Is output safe? */\n",
       "      safe: true,\n",
       "      /* Index of renderer in `output_area.display_order` */\n",
       "      index: 0\n",
       "    });\n",
       "  }\n",
       "\n",
       "  // register the mime type if in Jupyter Notebook environment and previously unregistered\n",
       "  if (root.Jupyter !== undefined) {\n",
       "    var events = require('base/js/events');\n",
       "    var OutputArea = require('notebook/js/outputarea').OutputArea;\n",
       "\n",
       "    if (OutputArea.prototype.mime_types().indexOf(EXEC_MIME_TYPE) == -1) {\n",
       "      register_renderer(events, OutputArea);\n",
       "    }\n",
       "  }\n",
       "\n",
       "  \n",
       "  if (typeof (root._bokeh_timeout) === \"undefined\" || force === true) {\n",
       "    root._bokeh_timeout = Date.now() + 5000;\n",
       "    root._bokeh_failed_load = false;\n",
       "  }\n",
       "\n",
       "  var NB_LOAD_WARNING = {'data': {'text/html':\n",
       "     \"<div style='background-color: #fdd'>\\n\"+\n",
       "     \"<p>\\n\"+\n",
       "     \"BokehJS does not appear to have successfully loaded. If loading BokehJS from CDN, this \\n\"+\n",
       "     \"may be due to a slow or bad network connection. Possible fixes:\\n\"+\n",
       "     \"</p>\\n\"+\n",
       "     \"<ul>\\n\"+\n",
       "     \"<li>re-rerun `output_notebook()` to attempt to load from CDN again, or</li>\\n\"+\n",
       "     \"<li>use INLINE resources instead, as so:</li>\\n\"+\n",
       "     \"</ul>\\n\"+\n",
       "     \"<code>\\n\"+\n",
       "     \"from bokeh.resources import INLINE\\n\"+\n",
       "     \"output_notebook(resources=INLINE)\\n\"+\n",
       "     \"</code>\\n\"+\n",
       "     \"</div>\"}};\n",
       "\n",
       "  function display_loaded() {\n",
       "    var el = document.getElementById(\"1047\");\n",
       "    if (el != null) {\n",
       "      el.textContent = \"BokehJS is loading...\";\n",
       "    }\n",
       "    if (root.Bokeh !== undefined) {\n",
       "      if (el != null) {\n",
       "        el.textContent = \"BokehJS \" + root.Bokeh.version + \" successfully loaded.\";\n",
       "      }\n",
       "    } else if (Date.now() < root._bokeh_timeout) {\n",
       "      setTimeout(display_loaded, 100)\n",
       "    }\n",
       "  }\n",
       "\n",
       "\n",
       "  function run_callbacks() {\n",
       "    try {\n",
       "      root._bokeh_onload_callbacks.forEach(function(callback) {\n",
       "        if (callback != null)\n",
       "          callback();\n",
       "      });\n",
       "    } finally {\n",
       "      delete root._bokeh_onload_callbacks\n",
       "    }\n",
       "    console.debug(\"Bokeh: all callbacks have finished\");\n",
       "  }\n",
       "\n",
       "  function load_libs(css_urls, js_urls, callback) {\n",
       "    if (css_urls == null) css_urls = [];\n",
       "    if (js_urls == null) js_urls = [];\n",
       "\n",
       "    root._bokeh_onload_callbacks.push(callback);\n",
       "    if (root._bokeh_is_loading > 0) {\n",
       "      console.debug(\"Bokeh: BokehJS is being loaded, scheduling callback at\", now());\n",
       "      return null;\n",
       "    }\n",
       "    if (js_urls == null || js_urls.length === 0) {\n",
       "      run_callbacks();\n",
       "      return null;\n",
       "    }\n",
       "    console.debug(\"Bokeh: BokehJS not loaded, scheduling load and callback at\", now());\n",
       "    root._bokeh_is_loading = css_urls.length + js_urls.length;\n",
       "\n",
       "    function on_load() {\n",
       "      root._bokeh_is_loading--;\n",
       "      if (root._bokeh_is_loading === 0) {\n",
       "        console.debug(\"Bokeh: all BokehJS libraries/stylesheets loaded\");\n",
       "        run_callbacks()\n",
       "      }\n",
       "    }\n",
       "\n",
       "    function on_error() {\n",
       "      console.error(\"failed to load \" + url);\n",
       "    }\n",
       "\n",
       "    for (var i = 0; i < css_urls.length; i++) {\n",
       "      var url = css_urls[i];\n",
       "      const element = document.createElement(\"link\");\n",
       "      element.onload = on_load;\n",
       "      element.onerror = on_error;\n",
       "      element.rel = \"stylesheet\";\n",
       "      element.type = \"text/css\";\n",
       "      element.href = url;\n",
       "      console.debug(\"Bokeh: injecting link tag for BokehJS stylesheet: \", url);\n",
       "      document.body.appendChild(element);\n",
       "    }\n",
       "\n",
       "    const hashes = {\"https://cdn.bokeh.org/bokeh/release/bokeh-2.0.1.min.js\": \"JpP8FXbgAZLkfur7LiK3j9AGBhHNIvF742meBJrjO2ShJDhCG2I1uVvW+0DUtrmc\", \"https://cdn.bokeh.org/bokeh/release/bokeh-widgets-2.0.1.min.js\": \"xZlADit0Q04ISQEdKg2k3L4W9AwQBAuDs9nJL9fM/WwzL1tEU9VPNezOFX0nLEAz\", \"https://cdn.bokeh.org/bokeh/release/bokeh-tables-2.0.1.min.js\": \"4BuPRZkdMKSnj3zoxiNrQ86XgNw0rYmBOxe7nshquXwwcauupgBF2DHLVG1WuZlV\", \"https://cdn.bokeh.org/bokeh/release/bokeh-gl-2.0.1.min.js\": \"Dv1SQ87hmDqK6S5OhBf0bCuwAEvL5QYL0PuR/F1SPVhCS/r/abjkbpKDYL2zeM19\"};\n",
       "\n",
       "    for (var i = 0; i < js_urls.length; i++) {\n",
       "      var url = js_urls[i];\n",
       "      var element = document.createElement('script');\n",
       "      element.onload = on_load;\n",
       "      element.onerror = on_error;\n",
       "      element.async = false;\n",
       "      element.src = url;\n",
       "      if (url in hashes) {\n",
       "        element.crossOrigin = \"anonymous\";\n",
       "        element.integrity = \"sha384-\" + hashes[url];\n",
       "      }\n",
       "      console.debug(\"Bokeh: injecting script tag for BokehJS library: \", url);\n",
       "      document.head.appendChild(element);\n",
       "    }\n",
       "  };var element = document.getElementById(\"1047\");\n",
       "  if (element == null) {\n",
       "    console.error(\"Bokeh: ERROR: autoload.js configured with elementid '1047' but no matching script tag was found. \")\n",
       "    return false;\n",
       "  }\n",
       "\n",
       "  function inject_raw_css(css) {\n",
       "    const element = document.createElement(\"style\");\n",
       "    element.appendChild(document.createTextNode(css));\n",
       "    document.body.appendChild(element);\n",
       "  }\n",
       "\n",
       "  \n",
       "  var js_urls = [\"https://cdn.bokeh.org/bokeh/release/bokeh-2.0.1.min.js\", \"https://cdn.bokeh.org/bokeh/release/bokeh-widgets-2.0.1.min.js\", \"https://cdn.bokeh.org/bokeh/release/bokeh-tables-2.0.1.min.js\", \"https://cdn.bokeh.org/bokeh/release/bokeh-gl-2.0.1.min.js\"];\n",
       "  var css_urls = [];\n",
       "  \n",
       "\n",
       "  var inline_js = [\n",
       "    function(Bokeh) {\n",
       "      Bokeh.set_log_level(\"info\");\n",
       "    },\n",
       "    function(Bokeh) {\n",
       "    \n",
       "    \n",
       "    }\n",
       "  ];\n",
       "\n",
       "  function run_inline_js() {\n",
       "    \n",
       "    if (root.Bokeh !== undefined || force === true) {\n",
       "      \n",
       "    for (var i = 0; i < inline_js.length; i++) {\n",
       "      inline_js[i].call(root, root.Bokeh);\n",
       "    }\n",
       "    if (force === true) {\n",
       "        display_loaded();\n",
       "      }} else if (Date.now() < root._bokeh_timeout) {\n",
       "      setTimeout(run_inline_js, 100);\n",
       "    } else if (!root._bokeh_failed_load) {\n",
       "      console.log(\"Bokeh: BokehJS failed to load within specified timeout.\");\n",
       "      root._bokeh_failed_load = true;\n",
       "    } else if (force !== true) {\n",
       "      var cell = $(document.getElementById(\"1047\")).parents('.cell').data().cell;\n",
       "      cell.output_area.append_execute_result(NB_LOAD_WARNING)\n",
       "    }\n",
       "\n",
       "  }\n",
       "\n",
       "  if (root._bokeh_is_loading === 0) {\n",
       "    console.debug(\"Bokeh: BokehJS loaded, going straight to plotting\");\n",
       "    run_inline_js();\n",
       "  } else {\n",
       "    load_libs(css_urls, js_urls, function() {\n",
       "      console.debug(\"Bokeh: BokehJS plotting callback run at\", now());\n",
       "      run_inline_js();\n",
       "    });\n",
       "  }\n",
       "}(window));"
      ],
      "application/vnd.bokehjs_load.v0+json": "\n(function(root) {\n  function now() {\n    return new Date();\n  }\n\n  var force = true;\n\n  if (typeof root._bokeh_onload_callbacks === \"undefined\" || force === true) {\n    root._bokeh_onload_callbacks = [];\n    root._bokeh_is_loading = undefined;\n  }\n\n  \n\n  \n  if (typeof (root._bokeh_timeout) === \"undefined\" || force === true) {\n    root._bokeh_timeout = Date.now() + 5000;\n    root._bokeh_failed_load = false;\n  }\n\n  var NB_LOAD_WARNING = {'data': {'text/html':\n     \"<div style='background-color: #fdd'>\\n\"+\n     \"<p>\\n\"+\n     \"BokehJS does not appear to have successfully loaded. If loading BokehJS from CDN, this \\n\"+\n     \"may be due to a slow or bad network connection. Possible fixes:\\n\"+\n     \"</p>\\n\"+\n     \"<ul>\\n\"+\n     \"<li>re-rerun `output_notebook()` to attempt to load from CDN again, or</li>\\n\"+\n     \"<li>use INLINE resources instead, as so:</li>\\n\"+\n     \"</ul>\\n\"+\n     \"<code>\\n\"+\n     \"from bokeh.resources import INLINE\\n\"+\n     \"output_notebook(resources=INLINE)\\n\"+\n     \"</code>\\n\"+\n     \"</div>\"}};\n\n  function display_loaded() {\n    var el = document.getElementById(\"1047\");\n    if (el != null) {\n      el.textContent = \"BokehJS is loading...\";\n    }\n    if (root.Bokeh !== undefined) {\n      if (el != null) {\n        el.textContent = \"BokehJS \" + root.Bokeh.version + \" successfully loaded.\";\n      }\n    } else if (Date.now() < root._bokeh_timeout) {\n      setTimeout(display_loaded, 100)\n    }\n  }\n\n\n  function run_callbacks() {\n    try {\n      root._bokeh_onload_callbacks.forEach(function(callback) {\n        if (callback != null)\n          callback();\n      });\n    } finally {\n      delete root._bokeh_onload_callbacks\n    }\n    console.debug(\"Bokeh: all callbacks have finished\");\n  }\n\n  function load_libs(css_urls, js_urls, callback) {\n    if (css_urls == null) css_urls = [];\n    if (js_urls == null) js_urls = [];\n\n    root._bokeh_onload_callbacks.push(callback);\n    if (root._bokeh_is_loading > 0) {\n      console.debug(\"Bokeh: BokehJS is being loaded, scheduling callback at\", now());\n      return null;\n    }\n    if (js_urls == null || js_urls.length === 0) {\n      run_callbacks();\n      return null;\n    }\n    console.debug(\"Bokeh: BokehJS not loaded, scheduling load and callback at\", now());\n    root._bokeh_is_loading = css_urls.length + js_urls.length;\n\n    function on_load() {\n      root._bokeh_is_loading--;\n      if (root._bokeh_is_loading === 0) {\n        console.debug(\"Bokeh: all BokehJS libraries/stylesheets loaded\");\n        run_callbacks()\n      }\n    }\n\n    function on_error() {\n      console.error(\"failed to load \" + url);\n    }\n\n    for (var i = 0; i < css_urls.length; i++) {\n      var url = css_urls[i];\n      const element = document.createElement(\"link\");\n      element.onload = on_load;\n      element.onerror = on_error;\n      element.rel = \"stylesheet\";\n      element.type = \"text/css\";\n      element.href = url;\n      console.debug(\"Bokeh: injecting link tag for BokehJS stylesheet: \", url);\n      document.body.appendChild(element);\n    }\n\n    const hashes = {\"https://cdn.bokeh.org/bokeh/release/bokeh-2.0.1.min.js\": \"JpP8FXbgAZLkfur7LiK3j9AGBhHNIvF742meBJrjO2ShJDhCG2I1uVvW+0DUtrmc\", \"https://cdn.bokeh.org/bokeh/release/bokeh-widgets-2.0.1.min.js\": \"xZlADit0Q04ISQEdKg2k3L4W9AwQBAuDs9nJL9fM/WwzL1tEU9VPNezOFX0nLEAz\", \"https://cdn.bokeh.org/bokeh/release/bokeh-tables-2.0.1.min.js\": \"4BuPRZkdMKSnj3zoxiNrQ86XgNw0rYmBOxe7nshquXwwcauupgBF2DHLVG1WuZlV\", \"https://cdn.bokeh.org/bokeh/release/bokeh-gl-2.0.1.min.js\": \"Dv1SQ87hmDqK6S5OhBf0bCuwAEvL5QYL0PuR/F1SPVhCS/r/abjkbpKDYL2zeM19\"};\n\n    for (var i = 0; i < js_urls.length; i++) {\n      var url = js_urls[i];\n      var element = document.createElement('script');\n      element.onload = on_load;\n      element.onerror = on_error;\n      element.async = false;\n      element.src = url;\n      if (url in hashes) {\n        element.crossOrigin = \"anonymous\";\n        element.integrity = \"sha384-\" + hashes[url];\n      }\n      console.debug(\"Bokeh: injecting script tag for BokehJS library: \", url);\n      document.head.appendChild(element);\n    }\n  };var element = document.getElementById(\"1047\");\n  if (element == null) {\n    console.error(\"Bokeh: ERROR: autoload.js configured with elementid '1047' but no matching script tag was found. \")\n    return false;\n  }\n\n  function inject_raw_css(css) {\n    const element = document.createElement(\"style\");\n    element.appendChild(document.createTextNode(css));\n    document.body.appendChild(element);\n  }\n\n  \n  var js_urls = [\"https://cdn.bokeh.org/bokeh/release/bokeh-2.0.1.min.js\", \"https://cdn.bokeh.org/bokeh/release/bokeh-widgets-2.0.1.min.js\", \"https://cdn.bokeh.org/bokeh/release/bokeh-tables-2.0.1.min.js\", \"https://cdn.bokeh.org/bokeh/release/bokeh-gl-2.0.1.min.js\"];\n  var css_urls = [];\n  \n\n  var inline_js = [\n    function(Bokeh) {\n      Bokeh.set_log_level(\"info\");\n    },\n    function(Bokeh) {\n    \n    \n    }\n  ];\n\n  function run_inline_js() {\n    \n    if (root.Bokeh !== undefined || force === true) {\n      \n    for (var i = 0; i < inline_js.length; i++) {\n      inline_js[i].call(root, root.Bokeh);\n    }\n    if (force === true) {\n        display_loaded();\n      }} else if (Date.now() < root._bokeh_timeout) {\n      setTimeout(run_inline_js, 100);\n    } else if (!root._bokeh_failed_load) {\n      console.log(\"Bokeh: BokehJS failed to load within specified timeout.\");\n      root._bokeh_failed_load = true;\n    } else if (force !== true) {\n      var cell = $(document.getElementById(\"1047\")).parents('.cell').data().cell;\n      cell.output_area.append_execute_result(NB_LOAD_WARNING)\n    }\n\n  }\n\n  if (root._bokeh_is_loading === 0) {\n    console.debug(\"Bokeh: BokehJS loaded, going straight to plotting\");\n    run_inline_js();\n  } else {\n    load_libs(css_urls, js_urls, function() {\n      console.debug(\"Bokeh: BokehJS plotting callback run at\", now());\n      run_inline_js();\n    });\n  }\n}(window));"
     },
     "metadata": {},
     "output_type": "display_data"
    },
    {
     "data": {
      "text/html": [
       "\n",
       "\n",
       "\n",
       "\n",
       "\n",
       "\n",
       "  <div class=\"bk-root\" id=\"5b029d25-aa05-4c54-9e90-f93223dc4c2e\" data-root-id=\"1007\"></div>\n"
      ]
     },
     "metadata": {},
     "output_type": "display_data"
    },
    {
     "data": {
      "application/javascript": [
       "(function(root) {\n",
       "  function embed_document(root) {\n",
       "    \n",
       "  var docs_json = {\"316203d7-4bd6-4a08-b862-a9d35cdcf427\":{\"roots\":{\"references\":[{\"attributes\":{\"below\":[{\"id\":\"1018\"}],\"center\":[{\"id\":\"1021\"},{\"id\":\"1025\"}],\"left\":[{\"id\":\"1022\"}],\"output_backend\":\"webgl\",\"plot_height\":640,\"plot_width\":640,\"renderers\":[{\"id\":\"1030\"},{\"id\":\"1035\"}],\"right\":[{\"id\":\"1005\"}],\"title\":{\"id\":\"1008\"},\"toolbar\":{\"id\":\"1027\"},\"toolbar_location\":\"left\",\"x_range\":{\"id\":\"1010\"},\"x_scale\":{\"id\":\"1014\"},\"y_range\":{\"id\":\"1012\"},\"y_scale\":{\"id\":\"1016\"}},\"id\":\"1007\",\"subtype\":\"Figure\",\"type\":\"Plot\"},{\"attributes\":{\"geojson\":\"{\\\"type\\\": \\\"FeatureCollection\\\", \\\"features\\\": [{\\\"id\\\": \\\"0\\\", \\\"type\\\": \\\"Feature\\\", \\\"properties\\\": {\\\"ID\\\": 13.0, \\\"deaths\\\": 4.0, \\\"discharged\\\": 4.0, \\\"state\\\": \\\"Jammu and Kashmir\\\", \\\"total_cases\\\": 158.0}, \\\"geometry\\\": {\\\"type\\\": \\\"Polygon\\\", \\\"coordinates\\\": [[[8248815.185709445, 4158474.459791491], [8267604.320213096, 4151119.4597635115], [8295607.948387651, 4153723.212333044], [8308200.377014849, 4131324.583604694], [8340898.122026263, 4114159.6990794716], [8366928.610445398, 4120714.6559946123], [8374775.148876403, 4111617.606663806], [8374188.384285712, 4091994.5138035296], [8387711.333427008, 4079633.956141618], [8393623.103614684, 4078038.2097098893], [8397232.389732279, 4051799.4461803916], [8419206.523256399, 4034711.3793882285], [8431526.473941471, 4031418.6526037534], [8437295.16127387, 4018746.12160317], [8453946.887304181, 4003204.4504711633], [8466637.643213088, 4003041.014570115], [8483709.822960127, 3976396.85465911], [8488064.196161995, 3952697.800406024], [8504523.784751197, 3960624.7343362262], [8534269.911164032, 3928831.9292923575], [8536723.949338568, 3916904.0305474107], [8548889.054611947, 3905752.2253971086], [8543520.560848951, 3895649.0508780745], [8532058.438159933, 3893426.239586111], [8523211.54426812, 3899681.070050907], [8505057.45039006, 3896187.4454187127], [8488618.010628691, 3876314.2661713427], [8472647.448562544, 3872475.903630536], [8464074.511937572, 3861166.567266182], [8440770.555776436, 3852736.853126886], [8452372.495745894, 3839994.6129567004], [8453589.329099754, 3825037.6638276796], [8440269.061470412, 3804448.345821022], [8429913.565839369, 3795415.024231093], [8402734.578203717, 3782270.8186255293], [8384366.194305884, 3784445.4637219594], [8361212.074179354, 3802251.343651821], [8343020.799591371, 3798736.524510383], [8330044.954466544, 3804328.0378247565], [8313455.233392604, 3804391.8692059214], [8310042.9570413185, 3832242.985474616], [8306285.478949081, 3839750.7607746464], [8280356.275236568, 3840090.7851322936], [8257481.344392949, 3856587.7982745753], [8243804.297795615, 3860380.2398544857], [8233003.190242926, 3870309.9967729286], [8217902.812636308, 3872787.5602820287], [8202972.085933662, 3883723.7282891064], [8199589.309247435, 3899164.758064867], [8188498.882338174, 3920811.1296015866], [8195291.152388415, 3948592.374678058], [8189014.514219528, 3961674.008590688], [8191574.973827263, 3991477.4325328674], [8183646.688373475, 4005792.4797125934], [8181212.57638779, 4034373.406182088], [8170888.695492131, 4053059.0117704235], [8176166.352550639, 4081923.493530555], [8195222.356943105, 4083495.5152008813], [8212462.295162768, 4111927.9960523583], [8241021.087886801, 4122831.173390627], [8245909.238047024, 4131407.9536419385], [8248815.185709445, 4158474.459791491]]]}}, {\\\"id\\\": \\\"1\\\", \\\"type\\\": \\\"Feature\\\", \\\"properties\\\": {\\\"ID\\\": 17.0, \\\"deaths\\\": 0.0, \\\"discharged\\\": 10.0, \\\"state\\\": \\\"Ladakh\\\", \\\"total_cases\\\": 15.0}, \\\"geometry\\\": {\\\"type\\\": \\\"Polygon\\\", \\\"coordinates\\\": [[[8548889.054611947, 3905752.2253971086], [8536723.949338568, 3916904.0305474107], [8534269.911164032, 3928831.9292923575], [8504523.784751197, 3960624.7343362262], [8488064.196161995, 3952697.800406024], [8483709.822960127, 3976396.85465911], [8466637.643213088, 4003041.014570115], [8453946.887304181, 4003204.4504711633], [8437295.16127387, 4018746.12160317], [8431526.473941471, 4031418.6526037534], [8419206.523256399, 4034711.3793882285], [8397232.389732279, 4051799.4461803916], [8393623.103614684, 4078038.2097098893], [8387711.333427008, 4079633.956141618], [8374188.384285712, 4091994.5138035296], [8374775.148876403, 4111617.606663806], [8366928.610445398, 4120714.6559946123], [8340898.122026263, 4114159.6990794716], [8308200.377014849, 4131324.583604694], [8295607.948387651, 4153723.212333044], [8267604.320213096, 4151119.4597635115], [8248815.185709445, 4158474.459791491], [8212740.430361433, 4171218.895272234], [8203007.041144332, 4180948.028842901], [8210750.032856662, 4210905.509137637], [8182516.300838111, 4211834.4375342205], [8158654.540408417, 4223960.039515764], [8141385.252805007, 4236529.532442022], [8142972.968749748, 4252503.982468221], [8135816.741628108, 4258602.126829835], [8112093.043527059, 4258298.197546726], [8103211.038132018, 4253274.009114409], [8072400.144018026, 4262356.008586008], [8080476.786181709, 4277257.235617514], [8073918.828854083, 4289570.276939539], [8077888.118771586, 4307079.506289805], [8092085.521092875, 4312704.453058027], [8124184.996310262, 4340204.393692868], [8136840.703388819, 4358475.147715643], [8135022.883711393, 4371947.157863975], [8172633.344089027, 4379036.335011612], [8201281.262870938, 4372461.534319062], [8215593.717002894, 4375769.861063512], [8231735.49612693, 4389943.840683848], [8248141.894593637, 4389993.93416646], [8281506.940619074, 4412560.247915298], [8313111.692649782, 4420566.849881769], [8338998.366305563, 4408193.636611783], [8360110.386701153, 4412574.5912026325], [8388067.994285015, 4401708.026787642], [8394660.4671113, 4378378.670084511], [8412470.498603405, 4381066.777323185], [8436965.044325806, 4370154.180599399], [8446341.772796214, 4360708.583833338], [8458175.439647844, 4336703.242745348], [8476899.552770881, 4333824.547625219], [8486886.056127315, 4319419.930087525], [8503568.579140026, 4318026.741730992], [8507998.076634217, 4308371.844764448], [8534747.639315384, 4301620.751297628], [8544734.14278314, 4290591.096465359], [8546989.159630582, 4263218.667709448], [8553685.179175535, 4256276.933633187], [8572553.687927023, 4250836.957701068], [8581573.75553941, 4239972.306800305], [8610405.757351989, 4237185.55010497], [8628227.293936092, 4218141.997650121], [8629313.983190283, 4205641.132239827], [8651633.730755718, 4204063.464456344], [8663512.619211458, 4208645.982750125], [8672451.685641648, 4203049.083435084], [8679281.025082326, 4217435.9001933895], [8698206.229073107, 4212517.592135701], [8713348.574127754, 4237481.684794288], [8740947.681521658, 4243191.3726152405], [8756189.991479035, 4255516.128203697], [8787551.029744808, 4259020.366908427], [8807338.514511274, 4253146.563159157], [8821159.163251733, 4273690.189236894], [8837300.044138793, 4274198.911461967], [8841621.132812917, 4261147.1546407975], [8877289.567455443, 4248185.033987671], [8890962.717870599, 4245794.814939179], [8905467.647520963, 4253301.04545336], [8918408.09304772, 4231344.702411556], [8938362.445730884, 4221173.123853285], [8942143.74619415, 4203492.564970974], [8925990.50884361, 4161952.085232573], [8924582.762563039, 4137865.934862495], [8913702.284213413, 4116186.803214722], [8913244.761106253, 4100854.1314410763], [8890048.673531694, 4097346.482350267], [8880175.859212732, 4088417.73496816], [8882631.121901669, 4069928.149153794], [8858828.89969974, 4070583.5439584814], [8856534.27103602, 4060001.3912886656], [8859276.181413747, 4036812.215075959], [8836057.162024088, 4009373.5866490398], [8795884.18418661, 4011634.4411693155], [8783740.452255461, 4001729.3369976114], [8796488.760341108, 3974973.7632154836], [8796524.27125867, 3965647.378562458], [8785250.278509092, 3956040.672893002], [8786820.105968257, 3929351.7051384184], [8793510.518684424, 3915815.506735375], [8805073.608151596, 3911017.9786872533], [8821025.913821252, 3911443.357418303], [8844879.676947417, 3906240.4787428114], [8836250.746618576, 3883233.389043817], [8836927.791761579, 3868375.871916062], [8845896.914454287, 3861479.6349434485], [8864025.516168952, 3837412.4899354996], [8844125.264758311, 3810439.8299407945], [8832033.630348856, 3818260.598781266], [8815962.101504557, 3803934.5500000766], [8807051.978141973, 3790969.0595720517], [8789803.579641009, 3788705.981782369], [8775006.436327312, 3798118.7500428883], [8766362.366547726, 3830044.30152803], [8751831.054178042, 3818793.9610147905], [8732330.551058842, 3815356.0695745843], [8717831.076063525, 3833708.917741995], [8695281.532091495, 3827054.5889170067], [8682269.953410124, 3817822.7234479203], [8674110.346054468, 3831156.0975916344], [8675761.548061404, 3839569.4887780324], [8658352.515535226, 3853832.7529626326], [8652926.914873453, 3867977.570099192], [8638332.484352492, 3863690.2235728614], [8624245.336751075, 3853471.8819758412], [8609355.352982057, 3848298.6542544356], [8591087.935862372, 3860327.054481272], [8588758.686837014, 3869217.8183217132], [8564389.514468476, 3876303.297224739], [8551123.23679217, 3894821.055388256], [8548889.054611947, 3905752.2253971086]]]}}, {\\\"id\\\": \\\"2\\\", \\\"type\\\": \\\"Feature\\\", \\\"properties\\\": {\\\"ID\\\": 2.0, \\\"deaths\\\": 0.0, \\\"discharged\\\": 0.0, \\\"state\\\": \\\"Andaman and Nicobar Islands\\\", \\\"total_cases\\\": 11.0}, \\\"geometry\\\": {\\\"type\\\": \\\"MultiPolygon\\\", \\\"coordinates\\\": [[[[10298818.467404634, 1212439.225298764], [10306829.359050058, 1199975.8566658203], [10304672.580530135, 1176239.3519240106], [10296938.98898013, 1168923.7052933702], [10289790.808742676, 1173112.0800114824], [10283813.451130321, 1186397.7964495164], [10283258.850939486, 1199372.908673601], [10298818.467404634, 1212439.225298764]]], [[[10319400.296709029, 1363477.2193703465], [10329074.988926962, 1328401.4587857083], [10322419.786636919, 1282339.5779717772], [10315302.417521179, 1281101.8357302074], [10309016.948691692, 1291033.9387256347], [10306767.736806631, 1304886.6016675872], [10298571.978430927, 1319638.904118683], [10308862.893083125, 1328170.8328229706], [10313268.883488107, 1357099.361875642], [10319400.296709029, 1363477.2193703465]]], [[[10327842.544058437, 1371935.0565860379], [10340197.803865416, 1366103.7961237784], [10326548.476946482, 1344001.6320343325], [10327842.544058437, 1371935.0565860379]]], [[[10341461.059855657, 1440583.9864644099], [10350149.79617877, 1418164.6261254463], [10349995.740570204, 1398161.2480941159], [10340074.559378564, 1373407.4885298042], [10321433.830742098, 1370866.8678860632], [10319092.185491897, 1384467.532571247], [10321680.319715803, 1426088.9202946231], [10329567.966874374, 1437661.2257481029], [10341461.059855657, 1440583.9864644099]]], [[[10356003.909304269, 1515291.8650439633], [10360718.010926384, 1486781.3486927568], [10356127.153791122, 1457953.234808318], [10343402.160523586, 1456273.7334367095], [10335052.346539317, 1436185.492015178], [10329413.911265807, 1451525.3490033299], [10335976.680190712, 1477303.836381735], [10334497.74634848, 1491825.7758289103], [10343648.649497291, 1511142.4715603462], [10356003.909304269, 1515291.8650439633]]], [[[10447112.396210104, 802760.3751628825], [10456971.955158317, 771783.6508591719], [10452473.531388195, 754229.0068400607], [10440179.89382464, 757694.0199488865], [10435681.470054518, 771726.830150545], [10427331.656070251, 777437.6250415521], [10429087.890007902, 797160.4192171359], [10447112.396210104, 802760.3751628825]]], [[[10395010.78939314, 890284.1161819416], [10405486.570775615, 875903.6768731835], [10394702.678176006, 874309.2953888559], [10387277.197843134, 883278.4192287646], [10395010.78939314, 890284.1161819416]]], [[[10329074.988926962, 1026696.5396754923], [10334004.76840107, 1017639.6084094825], [10322851.142340904, 1013269.0302222286], [10321649.50859409, 1023267.8015266688], [10329074.988926962, 1026696.5396754923]]]]}}, {\\\"id\\\": \\\"3\\\", \\\"type\\\": \\\"Feature\\\", \\\"properties\\\": {\\\"ID\\\": 27.0, \\\"deaths\\\": 7.0, \\\"discharged\\\": 35.0, \\\"state\\\": \\\"Telangana\\\", \\\"total_cases\\\": 442.0}, \\\"geometry\\\": {\\\"type\\\": \\\"Polygon\\\", \\\"coordinates\\\": [[[8935333.898231871, 2108061.0960852434], [8943036.678660166, 2093170.0939129253], [8959921.17335898, 2097397.9880735856], [8976004.578893254, 2084806.3059378308], [8984939.80419007, 2071598.1458737815], [8992858.262470353, 2052663.9323428648], [8987343.071683697, 2044346.8755216673], [9011252.502133114, 2038675.430727335], [9017353.10423232, 2005539.6859128317], [9025086.695782326, 1999493.8561555976], [9034638.143513408, 2007199.6380151813], [9045144.736017598, 2002516.5478866524], [9059718.396587927, 2001864.5570453266], [9070440.666944107, 2001420.0297351975], [9101282.599778987, 2011943.1019449905], [9105318.856723413, 2006221.4356407549], [9086246.772382963, 1996767.8889290146], [9072874.745559448, 1976689.8202688505], [9071796.356299488, 1960327.859364895], [9059749.207709638, 1949476.2758875384], [9038058.17802357, 1946254.4073278576], [9035007.876973964, 1935262.3836093692], [9015227.136834113, 1929089.2660436474], [9006353.53378072, 1931629.182623979], [8997202.630631912, 1912705.241026479], [8981704.636410188, 1916305.6941240628], [8967932.065004403, 1924305.5979464245], [8960845.507010374, 1920054.352353662], [8954837.338276306, 1901966.5043317734], [8970581.821471736, 1899842.995174785], [8968209.365099821, 1880917.609327631], [8956377.894361965, 1884070.6907451923], [8941095.577992234, 1893414.758477249], [8934748.486919323, 1909577.470880622], [8910654.189739626, 1904326.2051260376], [8904646.021005558, 1892530.2887696938], [8910900.678713331, 1878884.5566972117], [8899161.641340615, 1865865.7347627808], [8881445.246355545, 1876527.632255955], [8866378.607837806, 1869281.6873428053], [8849586.546504129, 1865630.1714963845], [8841729.710467273, 1860095.164055303], [8823859.259873636, 1857651.9616223332], [8819884.625172637, 1852795.7994587764], [8818590.558060683, 1820536.7505843306], [8796468.17267063, 1821095.0785497827], [8784020.479498511, 1814954.2358828424], [8785530.224462455, 1806994.2067489778], [8769200.329954477, 1795661.1521723547], [8753763.957976181, 1803470.368737932], [8745167.655018207, 1799447.992180648], [8728067.4824674, 1802266.516779934], [8712785.16609767, 1796952.7164193497], [8709950.542900058, 1785712.698240148], [8694175.248582916, 1773158.6015883223], [8670419.873742066, 1780989.4374491496], [8660560.314793853, 1777469.6294298437], [8628301.070360167, 1783835.0117091264], [8625866.991744826, 1821712.1940835188], [8637359.540143838, 1828883.7382491832], [8629348.648498414, 1835587.1027314344], [8617424.74439542, 1834734.369679264], [8603282.439529074, 1839380.6914464333], [8622138.846017536, 1862980.259420639], [8617979.344586257, 1869370.0380281464], [8623617.779859765, 1882508.8267847714], [8622077.223774107, 1897808.1622755444], [8627191.869978493, 1909193.9079026137], [8623093.990790643, 1920379.0703229187], [8613480.920816135, 1924305.5979464245], [8613943.087641831, 1933785.397376794], [8622416.146112952, 1948293.8814135212], [8629564.326350408, 1950274.4298005446], [8644692.587111572, 1968729.139734716], [8620567.478810163, 1975713.0668720528], [8622570.201721517, 1989362.1955708454], [8644322.853651013, 2020780.7486699466], [8639146.585203202, 2026447.169096184], [8638129.818186667, 2042030.5948881593], [8632830.305252004, 2058279.899866479], [8630303.793271523, 2063867.721424726], [8638099.007064953, 2088139.4895446114], [8652641.856513567, 2088615.704668309], [8653196.456704406, 2103145.813152105], [8659143.003195047, 2105290.511860594], [8671713.940854019, 2125587.4664864917], [8666630.105771344, 2135460.4735897845], [8657017.03579684, 2138862.013792849], [8656400.813362574, 2148293.9888935615], [8665674.960998237, 2154415.313409277], [8667431.19493589, 2176408.549991445], [8677229.131640676, 2181013.61798683], [8688013.024240285, 2172761.173440589], [8703326.151731728, 2169323.7141150087], [8703788.318557424, 2187384.8137991643], [8717653.32332835, 2195643.6501273727], [8714726.2667656, 2221910.566756732], [8721350.65793393, 2224728.1444203346], [8727173.959937718, 2239182.4522904856], [8776903.110382771, 2230064.7290177858], [8778536.099833569, 2217984.654311832], [8790798.926275408, 2217175.5996629987], [8796283.305940352, 2204325.323467318], [8815293.768037375, 2194775.703477826], [8822657.626126822, 2212681.4908620426], [8846597.867697952, 2199325.3866960085], [8854639.57046509, 2205343.438099246], [8880798.212799566, 2211093.8311546636], [8895649.173465313, 2198726.681210694], [8902550.864729064, 2188013.0763044874], [8889764.249218099, 2153220.7549881833], [8897312.974037824, 2145995.2645037635], [8897990.818715515, 2115808.9039655067], [8906926.044012332, 2113752.454592314], [8917432.636516523, 2103324.529061389], [8935333.898231871, 2108061.0960852434]]]}}, {\\\"id\\\": \\\"4\\\", \\\"type\\\": \\\"Feature\\\", \\\"properties\\\": {\\\"ID\\\": 1.0, \\\"deaths\\\": 4.0, \\\"discharged\\\": 6.0, \\\"state\\\": \\\"Andhra Pradesh\\\", \\\"total_cases\\\": 348.0}, \\\"geometry\\\": {\\\"type\\\": \\\"Polygon\\\", \\\"coordinates\\\": [[[8628301.070360167, 1783835.0117091264], [8660560.314793853, 1777469.6294298437], [8670419.873742066, 1780989.4374491496], [8694175.248582916, 1773158.6015883223], [8709950.542900058, 1785712.698240148], [8712785.16609767, 1796952.7164193497], [8728067.4824674, 1802266.516779934], [8745167.655018207, 1799447.992180648], [8753763.957976181, 1803470.368737932], [8769200.329954477, 1795661.1521723547], [8785530.224462455, 1806994.2067489778], [8784020.479498511, 1814954.2358828424], [8796468.17267063, 1821095.0785497827], [8818590.558060683, 1820536.7505843306], [8819884.625172637, 1852795.7994587764], [8823859.259873636, 1857651.9616223332], [8841729.710467273, 1860095.164055303], [8849586.546504129, 1865630.1714963845], [8866378.607837806, 1869281.6873428053], [8881445.246355545, 1876527.632255955], [8899161.641340615, 1865865.7347627808], [8910900.678713331, 1878884.5566972117], [8904646.021005558, 1892530.2887696938], [8910654.189739626, 1904326.2051260376], [8934748.486919323, 1909577.470880622], [8941095.577992234, 1893414.758477249], [8956377.894361965, 1884070.6907451923], [8968209.365099821, 1880917.609327631], [8970581.821471736, 1899842.995174785], [8954837.338276306, 1901966.5043317734], [8960845.507010374, 1920054.352353662], [8967932.065004403, 1924305.5979464245], [8981704.636410188, 1916305.6941240628], [8997202.630631912, 1912705.241026479], [9006353.53378072, 1931629.182623979], [9015227.136834113, 1929089.2660436474], [9035007.876973964, 1935262.3836093692], [9038058.17802357, 1946254.4073278576], [9059749.207709638, 1949476.2758875384], [9071796.356299488, 1960327.859364895], [9072874.745559448, 1976689.8202688505], [9086246.772382963, 1996767.8889290146], [9105318.856723413, 2006221.4356407549], [9101282.599778987, 2011943.1019449905], [9106058.323644528, 2016924.927290036], [9135975.922828013, 2031373.1995165704], [9154739.89595133, 2022471.6089239025], [9165647.033037793, 2029859.6528407221], [9165431.3551858, 2061281.673108715], [9175722.269837998, 2079926.5886816557], [9175968.758811703, 2080878.6339580687], [9186444.54019418, 2083050.658991913], [9187861.851792986, 2071925.2686435413], [9195102.46539558, 2066989.2616863188], [9193777.587161912, 2054238.6211820936], [9213589.13842348, 2062916.492204182], [9217163.228542207, 2075523.9753728448], [9236882.346438631, 2065681.1280504474], [9245201.34930119, 2086681.1523483524], [9240425.625435648, 2092931.9297751312], [9254321.441328285, 2114408.1105100485], [9260144.743332075, 2111100.253595604], [9283900.118172927, 2121562.156728156], [9274410.29268527, 2137131.330607917], [9292342.365522334, 2141070.352636633], [9306792.78160581, 2151906.8268172527], [9320380.486281315, 2138175.689791711], [9327282.177545065, 2141935.851836191], [9338066.070144674, 2118819.46106557], [9353317.57539269, 2117478.0661611757], [9360373.322265005, 2111219.4458937226], [9381848.674099082, 2116434.8230011663], [9398640.735432757, 2130926.019380525], [9398486.679824192, 2139011.217898568], [9398301.813093914, 2139160.4231601716], [9407606.77185129, 2145428.0891347327], [9430869.16874473, 2152265.1619226346], [9432132.424734969, 2151488.777667244], [9435552.459245132, 2149368.8116698302], [9416418.752661254, 2126124.2376236212], [9390506.599300481, 2089240.7544984445], [9367891.235963019, 2068208.2818687267], [9358586.277205642, 2056496.8820162355], [9314064.206330117, 2034133.4883798668], [9289785.04242014, 2012743.6702705962], [9277553.027100014, 1992146.4234839145], [9257433.364621315, 1973315.7762785968], [9206502.580429452, 1948146.0867843262], [9177077.959193379, 1928321.444197335], [9161888.076188786, 1913059.3570431436], [9156126.396428425, 1900816.2441680422], [9168173.545018272, 1890849.8961431673], [9161549.15384994, 1875319.807435814], [9156403.696523841, 1872462.537335031], [9161549.15384994, 1861154.9508932813], [9122018.48469195, 1838498.4036394272], [9096876.609374005, 1828824.945733569], [9077311.547086144, 1834205.103550656], [9060581.107995896, 1832352.7712940862], [9043881.480027357, 1821712.1940835188], [9033097.58742775, 1789938.0585868102], [9016644.448432919, 1773334.5460480796], [9009958.43502116, 1760552.7511098117], [8997079.386145059, 1759937.2929958377], [8993043.129200635, 1776853.7186678855], [8968640.720803805, 1776912.3761222174], [8943375.600999007, 1763894.095605902], [8935672.820570717, 1755365.8309439695], [8927908.417898998, 1731497.4718902977], [8914782.88004919, 1708208.9552286395], [8911208.789930461, 1681350.1501451079], [8917987.23670736, 1648861.3914900934], [8927538.684438441, 1631598.276637277], [8924457.572267124, 1605027.1572694266], [8919681.848401584, 1582847.7385532635], [8922023.493651783, 1567083.5397488296], [8932807.386251392, 1543339.043845425], [8931451.696896011, 1526234.2753814147], [8911516.901147595, 1516365.5894152252], [8917709.936611941, 1509140.5470620643], [8940386.922192832, 1498756.1486946866], [8929633.840714935, 1504876.076358022], [8910623.378617913, 1509459.684410856], [8901318.419860536, 1501395.3780237653], [8897251.351794397, 1488288.78034205], [8868935.930939998, 1476898.1448415746], [8857166.082445567, 1478462.9882621837], [8853869.29242226, 1485447.9212085342], [8840682.132329023, 1486694.3840357254], [8841051.865789583, 1471074.2363745263], [8827494.972235788, 1463166.1300198247], [8819422.458346939, 1465425.3570968541], [8811226.699971236, 1450946.3332762027], [8792216.237874214, 1458764.0650467656], [8772065.764273802, 1458706.1478130757], [8751976.912916817, 1447154.0781670494], [8752469.890864227, 1440381.4090558512], [8744397.376975378, 1415764.6376959619], [8723938.792157834, 1406108.8941665706], [8708225.12008412, 1414868.308382958], [8707485.653163007, 1422039.734108102], [8709765.676169781, 1432800.278116255], [8721381.469055643, 1441973.1281927847], [8729392.360701067, 1437545.4791211735], [8733182.128671786, 1453696.765455564], [8739097.864040714, 1456128.9536037934], [8746061.177547889, 1480984.3135676538], [8722459.858315606, 1490463.1081458228], [8725263.670391502, 1516191.469011493], [8710720.820942888, 1515407.9412696373], [8700614.77302097, 1523476.4791764005], [8691833.603332717, 1524057.0440114513], [8694729.848773753, 1547202.9525151877], [8673069.6302094, 1552171.6746895013], [8630365.41551495, 1530502.1683794586], [8618872.867115939, 1544123.4002191862], [8598321.848933255, 1551822.961554674], [8589633.112610143, 1542845.201878569], [8575521.618865512, 1537587.8136881744], [8568126.949654354, 1542264.2232415958], [8575583.241108939, 1555397.4925513985], [8565261.515335027, 1576651.4290431312], [8586552.000438826, 1563681.8327646118], [8606486.796187244, 1566705.550192035], [8614990.66578008, 1582731.362118497], [8628424.314847019, 1583516.9133312218], [8627191.869978493, 1593614.8543346117], [8615545.265970917, 1601445.702113924], [8602912.70606852, 1601649.511144999], [8584056.299580062, 1596700.327168659], [8583840.621728068, 1589161.954886235], [8564676.104022479, 1591286.443691286], [8556449.534525063, 1618046.9789192127], [8544987.797247764, 1631948.0851489159], [8553091.122258326, 1653529.1737746692], [8556511.156768488, 1674019.604850814], [8545295.908464897, 1674691.235744223], [8548993.243070476, 1688536.8289285009], [8557866.846123869, 1681437.779667682], [8583809.810606353, 1681408.5697914837], [8589910.412705561, 1697450.1265318978], [8588061.745402772, 1710899.421941545], [8575829.730082644, 1719265.2134357996], [8574628.09633583, 1750326.5459015372], [8580143.287122488, 1782573.5278306508], [8599307.804828078, 1788089.3669792186], [8628301.070360167, 1783835.0117091264]]]}}, {\\\"id\\\": \\\"5\\\", \\\"type\\\": \\\"Feature\\\", \\\"properties\\\": {\\\"ID\\\": 3.0, \\\"deaths\\\": 0.0, \\\"discharged\\\": 0.0, \\\"state\\\": \\\"Arunachal Pradesh\\\", \\\"total_cases\\\": 1.0}, \\\"geometry\\\": {\\\"type\\\": \\\"Polygon\\\", \\\"coordinates\\\": [[[10601815.038331913, 3065140.128069619], [10595899.302962985, 3087279.472743937], [10600952.326923944, 3089875.245023238], [10597131.747831512, 3109422.455807791], [10626309.880093882, 3120935.6126694367], [10630007.214699462, 3135030.9304874893], [10641037.596272774, 3132617.191863045], [10675792.541565226, 3139891.4568719473], [10688332.668102484, 3150826.0069763227], [10672896.296124188, 3162755.9239348075], [10673450.896315025, 3173008.0962282103], [10664176.748679362, 3179825.9364768043], [10662235.648011433, 3198640.593060831], [10684173.166671207, 3224961.3853825363], [10642886.263575565, 3223618.542368226], [10632780.215653647, 3214094.6133337077], [10618144.932839893, 3209111.6260277866], [10610596.208020167, 3212752.8579954114], [10559850.29055858, 3196279.3506756998], [10519703.398966324, 3176002.426355617], [10496040.457490614, 3177818.4591882876], [10442583.161318269, 3122744.338146305], [10445849.140219864, 3113798.225736596], [10427947.878504515, 3100484.973404213], [10404808.726097926, 3096493.495694237], [10391436.699274411, 3099502.83645364], [10354863.897800883, 3093738.1463536858], [10338503.192171192, 3105048.0722314827], [10314747.81733034, 3108851.805469969], [10306552.058954637, 3099344.433793461], [10291054.064732915, 3099186.032945569], [10263077.566217361, 3090540.0940408437], [10253402.873999426, 3090888.3609991176], [10252879.084930303, 3105048.0722314827], [10244498.45982432, 3113861.6528962217], [10249181.75032472, 3138588.793740818], [10243266.014955793, 3161132.841444752], [10202780.201024693, 3164220.046737952], [10192643.34198106, 3176862.6221139254], [10199514.222123098, 3192100.326536897], [10200007.200070508, 3203970.8634853447], [10222252.829947414, 3204800.915771286], [10227891.265220923, 3194078.0240106937], [10247548.760873925, 3198736.3278254615], [10258764.009177517, 3208504.849927202], [10269794.390750831, 3211634.83092958], [10275617.692754619, 3201257.588054192], [10303809.869122166, 3206493.1039904165], [10323713.853748871, 3227583.514779521], [10315179.173034325, 3236797.0212601884], [10328551.199857838, 3251974.785352212], [10341060.515273385, 3254602.231472309], [10355141.197896302, 3266592.548017672], [10377201.961042928, 3271051.6083697644], [10373905.17101962, 3282446.6849166052], [10383425.80762899, 3292373.2337615546], [10389711.276458476, 3308644.5555317844], [10407859.02714753, 3314984.9008079343], [10420275.909197938, 3311444.228011493], [10446681.040506119, 3317946.926673543], [10456756.277306326, 3314115.737882512], [10463473.101839796, 3334862.65888531], [10481312.741311718, 3349217.980983253], [10487937.13248005, 3365592.754665014], [10512031.429659747, 3383703.443640952], [10526142.923404375, 3383962.3523064274], [10533968.94831952, 3399149.9987059883], [10561082.735427108, 3378299.9141195267], [10603201.538809005, 3363621.517418271], [10625940.146633321, 3359615.338316948], [10636015.383433528, 3382247.1794701824], [10653485.289444894, 3393027.4424562682], [10681893.143664435, 3403492.6310649794], [10696990.593303883, 3412863.476698889], [10712735.076499315, 3385807.2274175673], [10710886.409196522, 3372445.952522304], [10703399.306620223, 3361650.580697601], [10712057.231821623, 3345990.6839807085], [10725275.20303657, 3359033.8992885547], [10735196.384228213, 3359679.9442660334], [10744686.209715867, 3350541.4048028705], [10754391.713055514, 3329382.7817837824], [10751896.012196748, 3319718.023512751], [10731283.371770639, 3299638.1709959456], [10727955.77062562, 3278465.31564054], [10760646.370763287, 3287457.211737924], [10773771.908613095, 3275447.980580399], [10786712.579732627, 3277405.9599334667], [10797588.905697376, 3268645.453991389], [10812008.510659136, 3273682.8380135396], [10839707.709079273, 3257230.1972765005], [10834808.74072688, 3249379.8909307867], [10842357.465546606, 3233213.2360403156], [10840139.064783257, 3218632.0177888256], [10826551.36010775, 3217577.4136857474], [10799745.684217297, 3196438.8810578533], [10786774.201976053, 3178041.497536706], [10788191.51357486, 3161705.6719910433], [10817123.156863522, 3121094.2632871717], [10804983.574908534, 3117889.8752872944], [10783107.678492187, 3128902.1345218867], [10785202.83476868, 3137413.3260279633], [10775990.309376445, 3148186.9281977257], [10755747.402410895, 3150476.220231309], [10745764.59897583, 3141162.4671687223], [10712765.887621026, 3139541.9497233815], [10690735.935596114, 3128457.6650760043], [10681893.143664435, 3112561.4544222546], [10666117.849347292, 3106854.7149488255], [10659401.024813822, 3092629.8269227054], [10636107.816798668, 3083956.326020109], [10622489.301001448, 3066435.89257392], [10609024.840812795, 3061411.5247374927], [10601815.038331913, 3065140.128069619]]]}}, {\\\"id\\\": \\\"6\\\", \\\"type\\\": \\\"Feature\\\", \\\"properties\\\": {\\\"ID\\\": 4.0, \\\"deaths\\\": 0.0, \\\"discharged\\\": 0.0, \\\"state\\\": \\\"Assam\\\", \\\"total_cases\\\": 29.0}, \\\"geometry\\\": {\\\"type\\\": \\\"Polygon\\\", \\\"coordinates\\\": [[[10253402.873999426, 3090888.3609991176], [10263077.566217361, 3090540.0940408437], [10291054.064732915, 3099186.032945569], [10306552.058954637, 3099344.433793461], [10314747.81733034, 3108851.805469969], [10338503.192171192, 3105048.0722314827], [10354863.897800883, 3093738.1463536858], [10391436.699274411, 3099502.83645364], [10404808.726097926, 3096493.495694237], [10427947.878504515, 3100484.973404213], [10445849.140219864, 3113798.225736596], [10442583.161318269, 3122744.338146305], [10496040.457490614, 3177818.4591882876], [10519703.398966324, 3176002.426355617], [10559850.29055858, 3196279.3506756998], [10610596.208020167, 3212752.8579954114], [10618144.932839893, 3209111.6260277866], [10632780.215653647, 3214094.6133337077], [10642886.263575565, 3223618.542368226], [10684173.166671207, 3224961.3853825363], [10662235.648011433, 3198640.593060831], [10664176.748679362, 3179825.9364768043], [10673450.896315025, 3173008.0962282103], [10672896.296124188, 3162755.9239348075], [10688332.668102484, 3150826.0069763227], [10675792.541565226, 3139891.4568719473], [10641037.596272774, 3132617.191863045], [10630007.214699462, 3135030.9304874893], [10626309.880093882, 3120935.6126694367], [10597131.747831512, 3109422.455807791], [10585022.976998238, 3098203.98813144], [10562684.913756194, 3095701.672556353], [10553688.066215947, 3080760.524655928], [10540470.095000999, 3070892.976093971], [10524694.80068386, 3068205.911461655], [10509658.973287832, 3056483.7092876104], [10508180.0394456, 3045749.5971986046], [10484794.398065306, 3037199.7481093053], [10482360.319449967, 3022226.3510497804], [10476074.850620482, 3020619.6240660814], [10465475.82475115, 3003335.2047104947], [10459005.489191385, 2981264.3618936986], [10462117.412484417, 2971277.661784169], [10439532.860268665, 2961423.3938477226], [10438762.582225835, 2976175.9281944768], [10431367.913014675, 2962301.844183459], [10413220.16232562, 2943646.2802892094], [10411772.039605102, 2942549.6441536313], [10389649.654215049, 2924639.2219788665], [10403576.2812294, 2911783.6247507483], [10405486.570775615, 2895534.8274521586], [10404531.426002508, 2894254.4381944872], [10395996.745287962, 2887760.523515262], [10376770.605338946, 2841169.330191485], [10374983.560279582, 2840329.2261641594], [10365247.24581822, 2833547.8947594054], [10364353.72328854, 2818099.1796554243], [10356281.20939969, 2788086.3845692766], [10352768.741524387, 2784986.0778572196], [10333973.957279356, 2784490.0875430466], [10326579.288068196, 2799283.772173784], [10318383.529692493, 2779283.16661782], [10300728.75695085, 2757916.2416873826], [10290006.486594668, 2754512.679139047], [10288404.308265584, 2766738.0854720618], [10275956.615093466, 2766521.347604586], [10270287.36869824, 2766397.4987756484], [10271704.680297047, 2781855.4105428327], [10267483.556622343, 2796801.642118034], [10270657.102158798, 2819714.7991711036], [10274600.925738085, 2825557.3361380384], [10268685.190369155, 2846740.105955865], [10285384.818337694, 2840049.2019975805], [10296384.388789294, 2842631.8463527756], [10288804.852847854, 2861595.32537452], [10299804.423299454, 2874812.4684683746], [10310588.315899063, 2872068.316481107], [10324576.565156842, 2883079.1906872853], [10329567.966874374, 2892755.5877546216], [10306089.89212894, 2918288.2035496207], [10314932.684060618, 2928926.9441966326], [10315209.984156039, 2928457.4239091864], [10314901.872938907, 2929333.8740501013], [10306798.547928343, 2925390.2644744758], [10284090.75122574, 2949287.4370984137], [10259688.34282891, 2939667.453852181], [10259688.34282891, 2941578.407244863], [10258425.086838672, 2957314.2129654326], [10264032.71099047, 2966820.4362818366], [10259811.587315764, 2975987.5023910343], [10269856.012994258, 2983934.9427283006], [10274970.659198642, 2989780.5427126293], [10256206.686075322, 2986008.9141857573], [10228384.243168335, 2984060.6294047795], [10221266.874052592, 2994999.6054315944], [10211468.937347807, 2987643.1642862274], [10210236.49247928, 2974699.9923491087], [10200222.8779225, 2973538.1922731954], [10193536.864510743, 2983746.414784696], [10182259.993963724, 2962992.092780853], [10167070.110959133, 2959698.0224490683], [10160753.831007933, 2949224.7454808736], [10152619.694875658, 2960733.220476794], [10132376.787910108, 2958537.4343506778], [10131606.509867277, 2966098.6214177785], [10117032.84929695, 2974417.3836679924], [10101195.932736384, 2969927.7925373833], [10078241.647060072, 2975171.019195734], [10071894.55598716, 2982238.280684744], [10054856.005679779, 2977212.314397275], [10031963.342246898, 2975579.2549805213], [10019269.160101073, 2965408.22372237], [10006975.522537518, 2946779.98453724], [10019392.404587926, 2929740.815300196], [10004695.499530744, 2924952.151640396], [10006112.811129551, 2932151.393400806], [9998101.919484127, 2957816.0348180253], [10005558.210938714, 2970430.0546395276], [9990738.06139468, 2999811.6390189454], [9987441.271371372, 3000818.2830469264], [9992247.806358624, 3019454.073563078], [10004233.332705049, 3035685.9248997886], [10003339.810175367, 3066878.3762691915], [10039758.556040328, 3075604.4914341853], [10043918.057471605, 3086488.1752490704], [10064376.642289149, 3091901.5509437337], [10090997.451449325, 3076047.2659950852], [10136074.122515688, 3076711.454218848], [10139987.13497326, 3081519.8565007984], [10167501.466663118, 3076711.454218848], [10211006.770522108, 3080792.162655524], [10229955.610375708, 3093674.8114285567], [10247548.760873925, 3085222.1929836306], [10253402.873999426, 3090888.3609991176]]]}}, {\\\"id\\\": \\\"7\\\", \\\"type\\\": \\\"Feature\\\", \\\"properties\\\": {\\\"ID\\\": 5.0, \\\"deaths\\\": 1.0, \\\"discharged\\\": 0.0, \\\"state\\\": \\\"Bihar\\\", \\\"total_cases\\\": 39.0}, \\\"geometry\\\": {\\\"type\\\": \\\"Polygon\\\", \\\"coordinates\\\": [[[9807935.676270464, 3046475.4695148263], [9816408.734741583, 3047390.7532848944], [9822447.714597363, 3035812.0706218854], [9825189.904429836, 3022037.314874821], [9792714.98214416, 2991635.292104479], [9779312.14419893, 2985883.2103803204], [9775830.487445343, 2972093.923381284], [9785535.990784992, 2952296.9548361376], [9800941.551641574, 2942800.2965156133], [9798445.850782808, 2929552.994845415], [9803683.741474045, 2918507.158101223], [9803961.041569464, 2916505.4103033547], [9791174.426058501, 2923575.311463735], [9772348.830691757, 2912596.5385886156], [9772472.075178608, 2884639.4695783365], [9760948.715657882, 2895628.518856212], [9745728.02153158, 2898158.4129308076], [9737316.585303884, 2884889.1295422167], [9736854.418478187, 2881300.6742985174], [9721572.102108458, 2884233.781164792], [9717196.922825187, 2868607.669345354], [9704471.92955765, 2865521.828974235], [9704133.007218804, 2864773.843301408], [9701205.950656055, 2840889.2902604635], [9696615.093520792, 2839053.6030589417], [9689744.213378757, 2811824.7659159834], [9677666.253667194, 2812601.1604023557], [9668607.783883523, 2802883.584998888], [9661613.659254635, 2810768.933658176], [9631757.682314577, 2801083.571359738], [9623808.41291258, 2780770.676305616], [9606184.451292649, 2793885.6596204867], [9606061.206805795, 2807229.3301150952], [9591918.901939452, 2806918.8782278607], [9579101.475306774, 2830780.253598927], [9570166.250009956, 2825184.3402551906], [9559875.335357757, 2833330.1965646883], [9548690.89817588, 2833143.6006340766], [9535626.982569497, 2818005.97613758], [9536150.77163862, 2806701.5657097846], [9493261.690213893, 2799066.569525454], [9480998.863772053, 2788148.3971655373], [9450834.775614863, 2783839.124839478], [9442053.60592661, 2799749.2169308392], [9414570.085358465, 2786071.1131644873], [9401444.547508657, 2777114.142370481], [9388226.576293709, 2784087.1073412597], [9386655.209086336, 2795498.6868827227], [9370078.825604653, 2801859.413000959], [9363053.88985405, 2794475.0150382193], [9356028.95410345, 2810396.304651404], [9342872.605131926, 2802573.222512396], [9319302.097021352, 2797329.06066677], [9294961.310867952, 2800028.4906657436], [9299829.468098633, 2811917.9311402906], [9292927.776834883, 2825712.75382804], [9283376.329103801, 2830780.253598927], [9282513.617695834, 2831650.9169737785], [9278693.0386034, 2846428.8345132116], [9276905.993544037, 2880146.3136064587], [9298874.323325524, 2895972.059121745], [9301215.968575725, 2896096.984848599], [9317022.07401458, 2906188.252691634], [9326604.332867375, 2906469.533130885], [9342040.70484567, 2926454.307724466], [9359356.555248471, 2935783.6695838976], [9386316.286747491, 2940012.0333711514], [9393649.333715225, 2948064.9996229187], [9394666.10073176, 2946999.3692695], [9408315.427650692, 2940701.2170026163], [9419869.59829313, 2955024.8724297914], [9410010.039344916, 2964686.4797579315], [9383820.585888725, 2973820.783629747], [9358555.466083929, 2992578.477472792], [9356213.820833728, 2993144.418626845], [9351160.796872769, 3002328.382609917], [9369924.769996088, 3013375.8647120344], [9369924.769996088, 3026511.8490022793], [9359418.177491896, 3027741.018360953], [9346662.373102646, 3043130.456627327], [9356152.198590301, 3047453.8785019354], [9360250.077778153, 3059421.236616301], [9381294.073908245, 3054620.4359807675], [9396175.845695704, 3059168.521866985], [9377812.417154657, 3070671.6688710023], [9378890.806414617, 3084810.773576272], [9356275.443077154, 3091648.2465212937], [9355320.298304047, 3108471.385012164], [9344259.105609018, 3115225.407402979], [9349188.885083126, 3126679.9310854026], [9339267.703891486, 3138557.023017027], [9340161.226421168, 3139065.3634406617], [9335077.391338496, 3147773.624687992], [9336402.269572161, 3157441.8446382345], [9356860.854389705, 3159191.7615536307], [9363177.134340903, 3169027.2971835323], [9379352.973240316, 3160337.283441285], [9383512.474671593, 3152002.628166118], [9420362.57624054, 3145898.01968277], [9427849.67881684, 3131728.0267832773], [9422611.788125603, 3109929.7203532187], [9458198.633704308, 3099154.352993452], [9459153.778477417, 3093738.1463536858], [9483463.753509106, 3087912.5431957687], [9484388.087160502, 3075446.361071803], [9499608.781286806, 3071967.946824207], [9529988.54729599, 3086329.9211582234], [9544161.663284043, 3078704.2089259787], [9542960.02953723, 3063623.2881089174], [9557133.145525286, 3055630.9941472095], [9576883.074543428, 3062675.346692705], [9590994.568288058, 3055662.5752640916], [9608002.307473725, 3056894.2943469933], [9634068.516443064, 3046791.077871501], [9656868.746510807, 3033163.2475093836], [9666512.627607029, 3034487.596850136], [9677573.820302056, 3044108.6327609774], [9693164.247888919, 3047232.941483464], [9695259.404165413, 3035906.680654529], [9719969.923779372, 3025660.9482417293], [9737008.474086754, 3034676.7997691045], [9750503.74539712, 3028749.647479496], [9779558.633172637, 3034203.797233009], [9799431.806677628, 3027425.8365337774], [9806949.72037564, 3034329.929690828], [9807935.676270464, 3046475.4695148263]]]}}, {\\\"id\\\": \\\"8\\\", \\\"type\\\": \\\"Feature\\\", \\\"properties\\\": {\\\"ID\\\": 6.0, \\\"deaths\\\": 0.0, \\\"discharged\\\": 7.0, \\\"state\\\": \\\"Chandigarh\\\", \\\"total_cases\\\": 18.0}, \\\"geometry\\\": {\\\"type\\\": \\\"Polygon\\\", \\\"coordinates\\\": [[[8551550.566172669, 3570219.305340349], [8550010.010087011, 3569496.7015349185], [8548715.942975057, 3568084.4619499855], [8552474.899824064, 3580241.5961992294], [8551550.566172669, 3570219.305340349]]]}}, {\\\"id\\\": \\\"9\\\", \\\"type\\\": \\\"Feature\\\", \\\"properties\\\": {\\\"ID\\\": 7.0, \\\"deaths\\\": 0.0, \\\"discharged\\\": 9.0, \\\"state\\\": \\\"Chhattisgarh\\\", \\\"total_cases\\\": 10.0}, \\\"geometry\\\": {\\\"type\\\": \\\"Polygon\\\", \\\"coordinates\\\": [[[9113298.937247122, 2262567.228437577], [9112436.225839153, 2246593.9181075357], [9134004.01103837, 2233873.231443153], [9133326.166360682, 2204175.605394642], [9141491.113614671, 2190705.86701924], [9148577.6716087, 2189957.831010404], [9146143.59299336, 2165438.6387564763], [9154863.140438184, 2130568.08148608], [9147221.982253319, 2128360.9442113005], [9144387.359055707, 2114527.323049308], [9136931.06760112, 2107375.861254759], [9123189.307317048, 2103652.179135835], [9117027.082974417, 2088318.0688663952], [9101713.955482973, 2072252.3968079793], [9075647.746513633, 2054506.0334891353], [9075062.335201083, 2042654.1826435535], [9066157.921025978, 2010994.3209341364], [9059718.396587927, 2001864.5570453266], [9045144.736017598, 2002516.5478866524], [9034638.143513408, 2007199.6380151813], [9025086.695782326, 1999493.8561555976], [9017353.10423232, 2005539.6859128317], [9011252.502133114, 2038675.430727335], [8987343.071683697, 2044346.8755216673], [8992858.262470353, 2052663.9323428648], [8984939.80419007, 2071598.1458737815], [8976004.578893254, 2084806.3059378308], [8959921.17335898, 2097397.9880735856], [8943036.678660166, 2093170.0939129253], [8935333.898231871, 2108061.0960852434], [8944115.067920124, 2118938.7006493513], [8935364.709353585, 2139548.362250542], [8947997.269255983, 2162181.76334639], [8948798.358420525, 2169532.9329966498], [8967839.631639263, 2187624.1494292426], [8972800.222235084, 2177544.7614146546], [8988976.061134495, 2174614.6706029125], [8999390.220273545, 2183914.7881484507], [9003426.47721797, 2201870.0981091084], [8985833.326719753, 2212351.965482165], [8979547.857890267, 2222030.454979403], [8965621.230875915, 2231893.9119655415], [8960075.228967546, 2245903.6557557513], [8966145.019945038, 2256260.3128505717], [8963834.185816552, 2273083.592304241], [8955792.483049413, 2275488.184511858], [8948182.135986263, 2286914.34433307], [8974217.53383389, 2296812.8173145712], [8973786.178129904, 2328108.542942108], [8966052.5865799, 2351910.7508988786], [8965128.252928503, 2368431.245329675], [8952742.181999812, 2377710.073448083], [8956470.327727104, 2397069.428637865], [8976651.612449229, 2406787.483840239], [8978654.335360585, 2415814.1209492553], [8986850.093736287, 2432607.7732102163], [8984292.770634094, 2456371.352843237], [8995846.941276532, 2465424.2050112295], [8998342.642135298, 2489142.588711429], [9007647.600892676, 2509969.4132301714], [9016798.504041484, 2502871.979030621], [9021389.361176746, 2524264.8539000936], [9029554.308430737, 2530700.300421391], [9029122.952726752, 2548250.4015039885], [9041200.912438313, 2549533.055733197], [9053833.47234071, 2557994.978713316], [9059872.452196492, 2549471.974688319], [9069916.877874983, 2554389.726534803], [9071426.62283893, 2556314.465821128], [9083658.638159055, 2559583.985951262], [9097369.587321414, 2576430.8569408963], [9104178.845220026, 2587294.2558133346], [9104363.711950304, 2600554.412114458], [9121556.31786625, 2610177.1428752583], [9121309.828892546, 2624683.4178823866], [9141090.569032397, 2627813.3435962065], [9149070.64955611, 2654135.1604886176], [9125253.652471831, 2665635.861685297], [9118875.750277206, 2679453.9371042554], [9108954.569085566, 2676929.462954486], [9098047.431999104, 2683426.1874498576], [9084244.049471606, 2676867.895479613], [9085137.572001288, 2695009.9660572745], [9093394.952620417, 2702315.8556708694], [9083319.715820212, 2722586.835563891], [9107229.146269629, 2712957.136747797], [9128273.14239972, 2719468.8746887166], [9133264.544117255, 2714314.809308693], [9150364.716668062, 2715672.600574256], [9188816.996566093, 2711105.9562427597], [9201079.823007934, 2724686.4103278616], [9218118.373315314, 2731573.7807556684], [9234355.834458154, 2720611.0251668477], [9260606.910157772, 2726477.449184159], [9275550.304188658, 2748326.3183295424], [9275981.659892643, 2748109.840851413], [9295300.233206797, 2739762.320541377], [9303157.069243655, 2719438.006924769], [9316929.64064944, 2714314.809308693], [9322752.94265323, 2690849.910252261], [9343642.883174755, 2683179.8170999885], [9353286.764270976, 2686690.960044332], [9347032.106563205, 2661237.546697715], [9358647.899449067, 2655057.3682349543], [9354211.097922372, 2633307.539020312], [9365241.479495686, 2625143.6626568637], [9367305.824650468, 2610974.1875017914], [9392077.966507854, 2612323.122311045], [9392016.344264427, 2599053.2939547654], [9375932.938730154, 2583529.494359694], [9367521.50250246, 2571414.7235945417], [9359787.910952454, 2571689.959133803], [9351376.47472476, 2558942.252915592], [9351129.985751057, 2557811.6416516216], [9355474.353912612, 2551029.6123372507], [9350975.930142488, 2539701.9299811656], [9335354.691433914, 2536619.4631692637], [9322537.264801236, 2524356.3356068484], [9311414.449862786, 2522343.854733292], [9301554.890914569, 2507471.259111684], [9299090.001177516, 2491181.4979699366], [9306361.425901823, 2484882.9809070406], [9303372.747095648, 2475211.594303336], [9301585.702036282, 2475758.8829863616], [9292311.55440062, 2470013.2372397603], [9293297.510295441, 2452545.0894953515], [9280510.894784477, 2447505.4535773834], [9277583.838221727, 2434215.2480120575], [9283345.517982088, 2423996.702081], [9269572.946576305, 2421086.893984628], [9260976.643618328, 2393105.057552812], [9252873.318607766, 2388566.8115038928], [9237282.891020905, 2395253.5738319517], [9198984.66673144, 2394285.1955755204], [9197474.921767494, 2380914.981451915], [9181976.927545771, 2364684.836973973], [9178125.537331624, 2355503.470166459], [9166787.04454118, 2362811.9324014843], [9165369.732942373, 2357677.5717340554], [9168974.634182815, 2331605.980409867], [9164537.832656119, 2324099.394432776], [9175968.758811703, 2308643.9536765576], [9172024.93523242, 2297986.552244565], [9174243.335995765, 2282252.80527111], [9172240.61308441, 2264189.35807808], [9194794.35417845, 2256740.7633503214], [9207334.480715707, 2256440.4803126855], [9205947.980238613, 2238042.4909890117], [9177447.692653935, 2247014.0904712784], [9165985.955376636, 2238402.4711676165], [9157328.030175237, 2255089.2674869583], [9134651.044594346, 2264309.5215548817], [9129782.887363665, 2262717.419581675], [9130029.376337372, 2264339.5625475165], [9129320.72053797, 2263708.7120698756], [9120847.662066847, 2270108.3488626457], [9114130.837533379, 2263858.9125899053], [9113298.937247122, 2262567.228437577]]]}}, {\\\"id\\\": \\\"10\\\", \\\"type\\\": \\\"Feature\\\", \\\"properties\\\": {\\\"ID\\\": 0.0, \\\"deaths\\\": 0.0, \\\"discharged\\\": 0.0, \\\"state\\\": \\\"Dadra and Nagar Haveli\\\", \\\"total_cases\\\": 0.0}, \\\"geometry\\\": {\\\"type\\\": \\\"Polygon\\\", \\\"coordinates\\\": [[[8149804.350154689, 2272993.426273777], [8150574.628197519, 2270949.7825993556], [8144504.837220025, 2267043.454170144], [8126788.442234954, 2272302.1682009757], [8123029.485385947, 2283455.668368973], [8149681.105667836, 2281681.473232628], [8149804.350154689, 2272993.426273777]]]}}, {\\\"id\\\": \\\"11\\\", \\\"type\\\": \\\"Feature\\\", \\\"properties\\\": {\\\"ID\\\": 0.0, \\\"deaths\\\": 0.0, \\\"discharged\\\": 0.0, \\\"state\\\": \\\"Daman and Diu\\\", \\\"total_cases\\\": 0.0}, \\\"geometry\\\": {\\\"type\\\": \\\"Polygon\\\", \\\"coordinates\\\": [[[7887478.45988879, 2347383.154331251], [7887478.45988879, 2347202.0745870834], [7889265.504948154, 2343248.961957525], [7875154.011203522, 2343430.0012661163], [7867697.719748937, 2349163.870589331], [7874784.277742964, 2373840.778743773], [7890343.894208114, 2371271.797703623], [7891853.639172059, 2352242.8203200633], [7887478.45988879, 2347383.154331251]]]}}, {\\\"id\\\": \\\"12\\\", \\\"type\\\": \\\"Feature\\\", \\\"properties\\\": {\\\"ID\\\": 8.0, \\\"deaths\\\": 12.0, \\\"discharged\\\": 25.0, \\\"state\\\": \\\"Delhi\\\", \\\"total_cases\\\": 720.0}, \\\"geometry\\\": {\\\"type\\\": \\\"Polygon\\\", \\\"coordinates\\\": [[[8595795.336952776, 3334088.889416695], [8593515.313946001, 3329028.2808596967], [8608027.352272904, 3315113.6705958275], [8604299.206545608, 3301824.867591883], [8609105.741532864, 3293755.1914322563], [8608212.219003182, 3292823.1575324866], [8590064.468314126, 3280231.097363235], [8583594.132754363, 3290991.4212043025], [8571608.60640794, 3297066.0527226306], [8553522.477962313, 3298962.9412077856], [8565723.682160726, 3314115.737882512], [8564645.292900765, 3330091.812550964], [8565846.92664758, 3331864.5582273398], [8577154.608316312, 3338893.4520230824], [8592036.380103769, 3337506.718302202], [8592406.113564327, 3338087.193500151], [8595795.336952776, 3334088.889416695]]]}}, {\\\"id\\\": \\\"13\\\", \\\"type\\\": \\\"Feature\\\", \\\"properties\\\": {\\\"ID\\\": 9.0, \\\"deaths\\\": 0.0, \\\"discharged\\\": 0.0, \\\"state\\\": \\\"Goa\\\", \\\"total_cases\\\": 7.0}, \\\"geometry\\\": {\\\"type\\\": \\\"Polygon\\\", \\\"coordinates\\\": [[[8251665.918538419, 1752728.8592638692], [8266054.7123784665, 1753197.6323195444], [8266177.956865319, 1734278.4181273044], [8275667.782352976, 1711718.3201243856], [8268920.146697792, 1689822.4773815519], [8271292.603069705, 1682723.0492182851], [8264544.967414522, 1672004.8237731813], [8248492.373001963, 1666195.0142334877], [8229050.555200954, 1690757.5376446026], [8231885.178398566, 1695024.212436176], [8223566.175536011, 1720581.7785836041], [8225414.8428388005, 1726960.8453681148], [8211765.515919867, 1734454.0679081234], [8202029.201458507, 1761256.1518820932], [8213860.672196362, 1761109.6082886343], [8222672.653006328, 1769669.3148875877], [8231546.25605972, 1763219.9257547718], [8237893.3471326325, 1748012.356912431], [8251665.918538419, 1752728.8592638692]]]}}, {\\\"id\\\": \\\"14\\\", \\\"type\\\": \\\"Feature\\\", \\\"properties\\\": {\\\"ID\\\": 10.0, \\\"deaths\\\": 17.0, \\\"discharged\\\": 26.0, \\\"state\\\": \\\"Gujarat\\\", \\\"total_cases\\\": 241.0}, \\\"geometry\\\": {\\\"type\\\": \\\"MultiPolygon\\\", \\\"coordinates\\\": [[[[8039500.534421553, 2497512.827541853], [8043536.791365978, 2482418.986757092], [8042612.457714584, 2465819.2382626403], [8049051.982152635, 2451239.4983569887], [8039962.701247252, 2428847.4780029147], [8034046.965878322, 2422844.8441391583], [8020336.016715964, 2395616.729599363], [7992390.329322121, 2383455.1376955127], [7974550.689850198, 2373417.6265334515], [7960408.384983856, 2369942.120156607], [7952366.68221672, 2360999.63404729], [7939610.877827467, 2358341.9340564106], [7920261.493391599, 2347835.861802973], [7899525.6084786365, 2344516.2759790653], [7891668.772441781, 2342011.9095224743], [7887478.45988879, 2347383.154331251], [7891853.639172059, 2352242.8203200633], [7890343.894208114, 2371271.797703623], [7874784.277742964, 2373840.778743773], [7867697.719748937, 2349163.870589331], [7857530.049583592, 2350703.2783702593], [7821111.303718628, 2373326.9523902326], [7792241.282673392, 2401186.0699756886], [7760413.393943691, 2439341.9785103397], [7704583.641399433, 2491211.9313295293], [7675775.242597622, 2525210.18923737], [7673926.575294832, 2532835.83610169], [7681937.466940256, 2548128.2491829805], [7688746.724838864, 2542815.501730333], [7702334.429514371, 2545990.7305679726], [7698914.39500421, 2532164.6379969385], [7705908.5196330985, 2526338.563358643], [7718910.812996054, 2535002.161576442], [7728092.527266579, 2533354.507867546], [7739061.286596465, 2540861.8192727254], [7747842.456284718, 2537199.28915006], [7778499.522389319, 2549074.95343547], [7786356.358426177, 2558728.3474965747], [7810512.2778493, 2561478.7732472336], [7840953.666101907, 2610974.1875017914], [7830785.995936563, 2606958.7106570746], [7817876.135938747, 2612568.3953534593], [7804165.186776388, 2604384.428223942], [7777421.133129359, 2600033.600195439], [7764819.384348673, 2593693.296719089], [7760659.882917395, 2585488.285537985], [7733792.584783515, 2588120.783918443], [7716538.356624141, 2595193.9166944036], [7703012.274192062, 2595928.9650746887], [7642345.175538836, 2633982.9337957515], [7634858.072962537, 2642028.4728484238], [7640650.563844613, 2656717.4775424665], [7626200.147761137, 2671050.856130246], [7624197.424849781, 2691897.523768449], [7639941.908045209, 2706849.077235858], [7644501.954058758, 2719252.801631646], [7633379.139120305, 2721506.283033543], [7630636.949287833, 2731573.7807556684], [7653129.068138444, 2731450.2134412504], [7654792.868710955, 2770516.0111555248], [7664097.827468332, 2761320.560875817], [7672355.208087461, 2767419.2816552045], [7682584.500496232, 2763827.862125204], [7690564.581019942, 2768564.9983314876], [7703289.57428748, 2764570.8451780635], [7715583.211851033, 2769586.926314434], [7736842.885833119, 2766954.826415756], [7747904.078528144, 2769741.7698585517], [7761707.461055644, 2757266.412254488], [7795045.09474929, 2756554.725935962], [7804627.353602084, 2770608.922752118], [7856359.226958491, 2787063.2133286954], [7858423.572113274, 2765190.025318019], [7882055.702467272, 2763053.9598476384], [7903500.243179636, 2779778.9870135244], [7903746.732153342, 2808812.7341920384], [7915609.0140129095, 2818720.551215665], [7922788.005372078, 2814868.4615536197], [7926762.640073077, 2813719.238821949], [7936837.876873283, 2809837.378424437], [7958035.928611942, 2817912.773197807], [7977323.690804383, 2812973.843979881], [7992636.818295826, 2817508.9004714317], [8007703.456813565, 2812166.374557003], [8024464.707025528, 2815334.387673371], [8047850.348405822, 2801424.936772354], [8054844.473034711, 2803131.879581672], [8066737.566015993, 2785451.0834925873], [8075364.680095678, 2797329.06066677], [8088336.162336922, 2791435.427748414], [8096562.731834339, 2779871.955137308], [8118962.417319809, 2776835.2902528555], [8124200.308011049, 2790784.1669567684], [8146384.315644528, 2778570.453113361], [8135538.800801494, 2758473.260292659], [8151252.472875209, 2747955.2159490585], [8172388.90237044, 2742235.1877453374], [8173097.558169844, 2726755.3875908116], [8167551.556261473, 2713574.2459283248], [8189858.808381806, 2694116.231094453], [8199872.422938585, 2690418.5603658217], [8196760.499645555, 2669820.0122213867], [8218359.095966485, 2669143.0890518744], [8225877.009664498, 2655918.1439226214], [8241282.570521081, 2655334.0410312354], [8252805.930041807, 2647189.5861609466], [8251789.163025271, 2636838.3278561244], [8265438.489944203, 2636807.6219731807], [8273572.626076479, 2622873.2502048775], [8280135.3950013835, 2604507.003770718], [8289409.542637047, 2593111.461143594], [8280412.695096804, 2572515.69365507], [8268612.03548066, 2573005.0375713482], [8261433.044121493, 2563404.346596997], [8247136.683646584, 2556345.019061688], [8249324.273288217, 2547334.281236644], [8264051.989467113, 2548067.1733631333], [8259707.621305555, 2536527.9135621777], [8245657.7498043515, 2538572.6425553667], [8251296.185077861, 2520971.84877154], [8253884.319301767, 2490055.502503613], [8218451.529331625, 2473083.418270202], [8225414.8428388005, 2461018.6896563], [8218112.60699278, 2447626.873043264], [8222148.863937206, 2435458.8698340636], [8245226.394100367, 2443013.541465524], [8270121.780444606, 2442952.8480541413], [8271908.825503969, 2433578.305978998], [8243993.949231841, 2430666.8726514475], [8233394.923362512, 2423238.892114535], [8231915.98952028, 2411875.745726473], [8218944.507279037, 2408301.690866612], [8217896.929140787, 2396978.6313859085], [8208869.270478829, 2396403.5931541063], [8209547.11515652, 2381308.076692494], [8227232.699019878, 2374566.2063288363], [8230991.655868883, 2353933.452422357], [8220546.685608121, 2331997.9774272926], [8209608.737399945, 2325365.343975412], [8181693.861127817, 2339387.230503733], [8179290.59363419, 2316806.861073241], [8172481.33573558, 2303404.78115562], [8173837.02509096, 2282162.593753448], [8160957.976214856, 2282854.2268508794], [8150389.76146724, 2272783.040605152], [8149804.350154689, 2272993.426273777], [8149681.105667836, 2281681.473232628], [8123029.485385947, 2283455.668368973], [8113447.226533154, 2285139.8107436323], [8097117.332025174, 2274496.2517383364], [8097487.065485733, 2287245.208804266], [8106453.101904266, 2302170.4856475824], [8109749.891927574, 2312077.3437985014], [8114926.160375385, 2326179.2161208796], [8112307.215029766, 2345119.7907259073], [8098935.188206253, 2369821.245380336], [8081033.926490902, 2413602.4610622716], [8089014.007014612, 2427301.14431285], [8081588.526681739, 2441223.176579139], [8084946.938948473, 2449842.930414038], [8072838.168115199, 2461322.4815135733], [8078291.73665843, 2474542.7100393847], [8070927.878568984, 2487773.311170744], [8078815.525727555, 2525942.0988224046], [8056939.629311207, 2522831.706441256], [8046155.736711597, 2491638.0041662394], [8039500.534421553, 2497512.827541853]]], [[[7609623.764279454, 2712432.6132161277], [7616309.777691211, 2703210.0602622954], [7608329.6971675, 2687430.2482591094], [7594187.392301156, 2686598.5514699514], [7607466.985759532, 2703703.4364804826], [7609623.764279454, 2712432.6132161277]]]]}}, {\\\"id\\\": \\\"15\\\", \\\"type\\\": \\\"Feature\\\", \\\"properties\\\": {\\\"ID\\\": 11.0, \\\"deaths\\\": 3.0, \\\"discharged\\\": 29.0, \\\"state\\\": \\\"Haryana\\\", \\\"total_cases\\\": 169.0}, \\\"geometry\\\": {\\\"type\\\": \\\"Polygon\\\", \\\"coordinates\\\": [[[8606178.684970113, 3540332.277532809], [8622077.223774107, 3538628.4983692793], [8635603.306206187, 3531455.533260851], [8617239.877665138, 3496403.536390691], [8602820.27270338, 3488895.8441153993], [8601711.072321704, 3488373.7370610097], [8591574.213278072, 3469690.0640839483], [8587199.033994801, 3446089.7743552583], [8581129.243017308, 3431236.0205694376], [8585411.988935439, 3412409.367350866], [8588770.401202174, 3395132.753808242], [8586336.322586834, 3376714.87751496], [8585442.80005715, 3367790.553989565], [8595456.414613932, 3355674.9850337845], [8591420.157669507, 3340441.6085051107], [8592036.380103769, 3337506.718302202], [8577154.608316312, 3338893.4520230824], [8565846.92664758, 3331864.5582273398], [8564645.292900765, 3330091.812550964], [8565723.682160726, 3314115.737882512], [8553522.477962313, 3298962.9412077856], [8571608.60640794, 3297066.0527226306], [8583594.132754363, 3290991.4212043025], [8590064.468314126, 3280231.097363235], [8608212.219003182, 3292823.1575324866], [8609198.174898004, 3292919.571770676], [8620136.123106178, 3283153.1823659516], [8631474.615896624, 3252871.9036810254], [8624264.813415742, 3241918.384398836], [8631166.504679492, 3228095.2096958035], [8629410.270741839, 3220389.875620691], [8602296.483634254, 3204673.212087924], [8575860.541204356, 3206365.3842471484], [8568311.81638463, 3185977.6799756708], [8559191.724357534, 3193790.9209169527], [8563443.659153951, 3208153.5710154385], [8562550.13662427, 3228606.924184914], [8567356.671611523, 3246977.6620962694], [8555371.1452651, 3257198.145780655], [8548377.020636212, 3248643.1613212433], [8520215.65539038, 3233821.1318750624], [8512851.797300933, 3247682.2709496645], [8500342.481885385, 3246913.6085952795], [8477419.00733079, 3227967.2841319405], [8483211.498212865, 3209878.119196283], [8457545.833825797, 3211954.25773941], [8455327.43306245, 3227487.5741613903], [8466172.947905485, 3257069.940570953], [8451630.09845687, 3275255.408118129], [8419001.120562626, 3297580.4361013365], [8410836.173308637, 3306231.524723085], [8403287.44848891, 3337184.2432708046], [8405844.771591105, 3356320.8624196406], [8397371.713119984, 3357031.3647488584], [8389175.954744281, 3372995.659039207], [8391209.48877735, 3388396.972394913], [8357656.177231711, 3384415.4550106167], [8343729.55021736, 3390695.8082908904], [8340864.115898036, 3401191.5007036077], [8304445.370033072, 3399895.271262799], [8297143.134187052, 3413966.3809033995], [8305030.781345623, 3450611.1079768366], [8290179.820679877, 3449505.0211289837], [8299269.1015852615, 3465031.6179691823], [8295417.7113711145, 3474936.9496694203], [8308882.171559769, 3472264.3497214834], [8315075.207024114, 3478555.64170023], [8315260.073754395, 3478490.430832396], [8326814.244396832, 3481229.578511738], [8340525.193559191, 3474708.7787435353], [8347827.4294052115, 3463859.1333459835], [8356238.865632906, 3466725.3992662374], [8368840.614413591, 3461351.6845863797], [8371336.315272357, 3460472.567214759], [8374263.371835109, 3451034.049075865], [8366653.024771957, 3439977.1540921926], [8373585.527157419, 3431983.1687211767], [8398357.669014804, 3454873.699492944], [8423129.810872192, 3453148.9665967035], [8429785.013162235, 3458096.000615446], [8457237.722608665, 3448008.704449053], [8485707.199071633, 3463598.596001175], [8481362.830910075, 3482729.840932979], [8488233.71105211, 3497415.7868319806], [8507706.339974832, 3501073.631925109], [8516056.153959101, 3491996.3024161444], [8530136.836582018, 3496338.2327201664], [8526008.146272454, 3514734.6915909466], [8542492.096388998, 3528279.7899001455], [8543632.107892387, 3536859.4369290564], [8559345.779966101, 3538169.8285849816], [8559869.569035225, 3562174.5173390335], [8551550.566172669, 3570219.305340349], [8552474.899824064, 3580241.5961992294], [8545973.753142588, 3598664.505924423], [8560701.46932148, 3597479.3425654517], [8572317.262207342, 3578433.694062699], [8588677.967837034, 3570580.623144666], [8584025.488458347, 3554955.0941327293], [8606178.684970113, 3540332.277532809]]]}}, {\\\"id\\\": \\\"16\\\", \\\"type\\\": \\\"Feature\\\", \\\"properties\\\": {\\\"ID\\\": 12.0, \\\"deaths\\\": 1.0, \\\"discharged\\\": 2.0, \\\"state\\\": \\\"Himachal Pradesh\\\", \\\"total_cases\\\": 18.0}, \\\"geometry\\\": {\\\"type\\\": \\\"Polygon\\\", \\\"coordinates\\\": [[[8446084.0965485, 3816195.932248799], [8451969.020795714, 3826459.9102368234], [8450551.709196908, 3839991.3124864674], [8436625.082182558, 3857945.5710024307], [8452924.165568823, 3856767.9419554193], [8470702.18279732, 3872659.211881153], [8485830.443558484, 3876028.8138591396], [8503885.760882402, 3896739.794972551], [8521232.422406914, 3899744.9719983265], [8530075.214338591, 3893532.8887874917], [8549239.732044183, 3894444.234272781], [8562426.892137416, 3876500.6366643324], [8586798.489412531, 3869459.000690807], [8591851.51337349, 3860873.339367005], [8611293.331174498, 3848964.968226478], [8650916.43369763, 3868313.8773572687], [8656370.002240863, 3854177.5794084845], [8673655.041521948, 3840730.4527722937], [8672052.863192864, 3832266.748879803], [8681481.066437094, 3817771.8388678273], [8691710.358845865, 3826258.5689150076], [8705359.685764797, 3827902.9581903503], [8724246.903374968, 3840596.060132469], [8726188.004042897, 3822366.65340077], [8718331.16800604, 3816698.8580623483], [8731703.194829553, 3800448.539861513], [8740669.231248086, 3795460.7000091304], [8734599.440270592, 3777000.70658204], [8748926.611867214, 3769284.189451989], [8746862.266712433, 3761405.8591605728], [8764979.206279775, 3741199.926103039], [8759895.371197103, 3713713.7896731948], [8764671.095062643, 3700492.4578995216], [8774962.00971484, 3692161.889934692], [8763222.972342124, 3680853.5312607177], [8771480.352961253, 3669390.227749509], [8775208.498688545, 3653505.415311717], [8783866.423889944, 3644281.956390956], [8793880.038446724, 3625955.0574591244], [8780877.745083768, 3624173.3749396484], [8771418.730717827, 3637278.143795123], [8755366.136305265, 3636353.4143022485], [8749789.323275182, 3641275.107129691], [8735246.473826567, 3637113.0083589917], [8724031.225522975, 3648016.775528735], [8708810.531396672, 3641142.9550483786], [8672022.05207115, 3631301.6720887483], [8661207.348349828, 3617741.6920831865], [8658834.891977916, 3594220.7348860167], [8648205.054986874, 3580899.081116452], [8661299.781714968, 3554102.168340901], [8657047.846918551, 3546854.673554301], [8634278.427972522, 3534042.5633570724], [8635603.306206187, 3531455.533260851], [8622077.223774107, 3538628.4983692793], [8606178.684970113, 3540332.277532809], [8584025.488458347, 3554955.0941327293], [8588677.967837034, 3570580.623144666], [8572317.262207342, 3578433.694062699], [8560701.46932148, 3597479.3425654517], [8545973.753142588, 3598664.505924423], [8528195.735914089, 3611280.445845325], [8531030.3591117, 3638302.033678783], [8507922.017826825, 3652844.001412443], [8500250.048520247, 3664589.4855128266], [8491160.767614862, 3650859.9767761864], [8479514.163607284, 3650463.2109047947], [8477727.11854792, 3663133.086542518], [8460596.1348754, 3694584.1269987742], [8448548.986285552, 3734106.0152081964], [8416936.775407843, 3753699.528274605], [8418261.65364151, 3771354.793246867], [8430925.024665622, 3776499.480556103], [8442910.551012043, 3790341.164856874], [8446084.0965485, 3816195.932248799]]]}}, {\\\"id\\\": \\\"17\\\", \\\"type\\\": \\\"Feature\\\", \\\"properties\\\": {\\\"ID\\\": 14.0, \\\"deaths\\\": 1.0, \\\"discharged\\\": 0.0, \\\"state\\\": \\\"Jharkhand\\\", \\\"total_cases\\\": 13.0}, \\\"geometry\\\": {\\\"type\\\": \\\"Polygon\\\", \\\"coordinates\\\": [[[9557995.856933255, 2666897.1431232113], [9558211.534785248, 2664713.0366977993], [9555099.611492218, 2638435.115336785], [9564004.025667325, 2630913.1879026433], [9577591.73034283, 2632601.4750571623], [9596448.136831287, 2614622.7041480993], [9617214.83286596, 2612231.1458855765], [9621620.823270943, 2605211.8312677243], [9619802.967089867, 2588488.1432796754], [9635270.150189877, 2580255.1683863443], [9644359.431095261, 2573922.5970541285], [9646639.454102037, 2564015.687178809], [9657639.024553636, 2564229.6617877716], [9667436.961258423, 2542876.558043816], [9665064.50488651, 2526735.037391401], [9656714.690902242, 2520362.104780441], [9653726.012096064, 2521429.171477406], [9632743.638209397, 2531157.891973034], [9612747.220217554, 2536802.563908075], [9604613.084085276, 2548800.098191542], [9584770.721701996, 2554145.331373207], [9569118.671871709, 2552770.676474977], [9575866.307526892, 2541167.0668744193], [9570104.627766531, 2524600.289295058], [9576451.718839442, 2517649.0157167558], [9561693.191538837, 2492946.72419186], [9548875.764906159, 2499857.244807031], [9527955.013262918, 2504425.236428203], [9507835.35078422, 2514174.4704241864], [9492676.278901342, 2505095.3136783196], [9482108.064153727, 2503267.8936575325], [9464792.213750927, 2508903.082102492], [9473881.494656311, 2530303.731324967], [9469105.770790769, 2552740.1298973355], [9451882.35375311, 2545685.3934597634], [9434628.125593737, 2548372.5547334612], [9406682.438199895, 2545166.333390376], [9398271.0019722, 2537229.806871723], [9383019.496724183, 2535826.050122561], [9372451.281976566, 2539976.63322142], [9365857.70192995, 2551823.759022753], [9352978.653053844, 2557842.1976859756], [9351376.47472476, 2558942.252915592], [9359787.910952454, 2571689.959133803], [9367521.50250246, 2571414.7235945417], [9375932.938730154, 2583529.494359694], [9392016.344264427, 2599053.2939547654], [9392077.966507854, 2612323.122311045], [9367305.824650468, 2610974.1875017914], [9365241.479495686, 2625143.6626568637], [9354211.097922372, 2633307.539020312], [9358647.899449067, 2655057.3682349543], [9347032.106563205, 2661237.546697715], [9353286.764270976, 2686690.960044332], [9343642.883174755, 2683179.8170999885], [9322752.94265323, 2690849.910252261], [9316929.64064944, 2714314.809308693], [9303157.069243655, 2719438.006924769], [9295300.233206797, 2739762.320541377], [9275981.659892643, 2748109.840851413], [9277244.915882882, 2749439.67927254], [9289138.008864164, 2780119.872912724], [9283253.08461695, 2796894.714643259], [9294961.310867952, 2800028.4906657436], [9319302.097021352, 2797329.06066677], [9342872.605131926, 2802573.222512396], [9356028.95410345, 2810396.304651404], [9363053.88985405, 2794475.0150382193], [9370078.825604653, 2801859.413000959], [9386655.209086336, 2795498.6868827227], [9388226.576293709, 2784087.1073412597], [9401444.547508657, 2777114.142370481], [9414570.085358465, 2786071.1131644873], [9442053.60592661, 2799749.2169308392], [9450834.775614863, 2783839.124839478], [9480998.863772053, 2788148.3971655373], [9493261.690213893, 2799066.569525454], [9536150.77163862, 2806701.5657097846], [9535626.982569497, 2818005.97613758], [9548690.89817588, 2833143.6006340766], [9559875.335357757, 2833330.1965646883], [9570166.250009956, 2825184.3402551906], [9579101.475306774, 2830780.253598927], [9591918.901939452, 2806918.8782278607], [9606061.206805795, 2807229.3301150952], [9606184.451292649, 2793885.6596204867], [9623808.41291258, 2780770.676305616], [9631757.682314577, 2801083.571359738], [9661613.659254635, 2810768.933658176], [9668607.783883523, 2802883.584998888], [9677666.253667194, 2812601.1604023557], [9689744.213378757, 2811824.7659159834], [9696615.093520792, 2839053.6030589417], [9701205.950656055, 2840889.2902604635], [9704133.007218804, 2864773.843301408], [9704471.92955765, 2865521.828974235], [9717196.922825187, 2868607.669345354], [9721572.102108458, 2884233.781164792], [9736854.418478187, 2881300.6742985174], [9737316.585303884, 2884889.1295422167], [9745728.02153158, 2898158.4129308076], [9760948.715657882, 2895628.518856212], [9772472.075178608, 2884639.4695783365], [9770808.2746061, 2869792.304236022], [9791852.270736191, 2849853.1783022163], [9784642.46825531, 2839924.7484987862], [9781130.000380008, 2830158.3821943915], [9785967.346488977, 2807850.2530675544], [9773519.653316855, 2800400.863674389], [9774690.475941956, 2785110.0779673895], [9766772.017661672, 2771073.489225566], [9757066.514322026, 2765933.0746114627], [9755556.76935808, 2765437.704400101], [9741630.142343728, 2740875.061633873], [9733680.872941732, 2733396.513518882], [9721109.93528276, 2739700.503949069], [9717135.30058176, 2729658.5984556084], [9701360.00626462, 2711136.807444518], [9674431.085887313, 2721444.539451052], [9662229.881688898, 2715672.600574256], [9661736.903741488, 2715610.8802132197], [9661644.470376348, 2698184.679415443], [9652616.81171439, 2699386.923836856], [9632312.282505415, 2691127.2128863833], [9623007.323748037, 2691466.1450020033], [9614072.098451218, 2682440.7292621206], [9612654.786852412, 2671173.9458105606], [9600145.471436867, 2667327.847688026], [9586773.444613352, 2684504.1032313895], [9578084.70829024, 2674374.615295303], [9557995.856933255, 2666897.1431232113]]]}}, {\\\"id\\\": \\\"18\\\", \\\"type\\\": \\\"Feature\\\", \\\"properties\\\": {\\\"ID\\\": 15.0, \\\"deaths\\\": 5.0, \\\"discharged\\\": 28.0, \\\"state\\\": \\\"Karnataka\\\", \\\"total_cases\\\": 181.0}, \\\"geometry\\\": {\\\"type\\\": \\\"Polygon\\\", \\\"coordinates\\\": [[[8507429.039879415, 1298319.4940962982], [8505549.561454913, 1307508.0745841935], [8494858.102220444, 1307882.5889496715], [8480777.419597525, 1321425.799041133], [8472304.361126404, 1320013.5669489643], [8472304.361126404, 1333504.5081561976], [8457638.267190939, 1328343.8021303576], [8446546.263374196, 1330131.2095188983], [8437487.793590527, 1345213.0749731797], [8428799.057267413, 1343857.4159027785], [8414810.808009636, 1353002.0959789206], [8395861.968156038, 1377767.4758723138], [8390377.588491093, 1389898.020591966], [8372784.437992877, 1401744.6418863412], [8361507.567445858, 1413364.8515624814], [8354297.764964976, 1411572.3720117435], [8349552.852221149, 1425799.6734950393], [8334178.102486278, 1422271.1005812793], [8329063.456281894, 1433436.782951909], [8317170.36330061, 1488143.8313530788], [8311316.25017511, 1524637.621556233], [8302689.136095422, 1555164.9878036014], [8294924.733423705, 1562315.4610366158], [8289594.409367327, 1586339.2780304526], [8277054.282830069, 1623379.1919956484], [8268088.246411536, 1635475.5964481467], [8265438.489944203, 1648336.3214572598], [8249909.684600769, 1653499.9973793323], [8248492.373001963, 1666195.0142334877], [8264544.967414522, 1672004.8237731813], [8271292.603069705, 1682723.0492182851], [8268920.146697792, 1689822.4773815519], [8275667.782352976, 1711718.3201243856], [8266177.956865319, 1734278.4181273044], [8266054.7123784665, 1753197.6323195444], [8251665.918538419, 1752728.8592638692], [8256318.397917107, 1764099.2816448165], [8276715.360491223, 1765740.83568377], [8278841.327889431, 1778642.8386148275], [8286081.941492027, 1787326.4586404923], [8292090.110226094, 1803000.5652211371], [8294216.077624301, 1818626.7864857824], [8276468.871517518, 1826532.1585032158], [8275359.671135843, 1845057.5832579148], [8268427.168750381, 1852942.9401425477], [8292798.766025496, 1865306.2761460377], [8301549.124592036, 1856562.9107659766], [8324349.354659778, 1879267.581053399], [8339600.859907797, 1883569.7032582965], [8339169.504203811, 1891675.3358313753], [8349367.98549087, 1902084.4832144042], [8374571.483052241, 1889936.0532722836], [8380641.274029734, 1902969.3454872863], [8401038.23660385, 1906656.6642927835], [8403842.048679749, 1901995.9989916983], [8423407.110967608, 1906391.1561624801], [8423992.52228016, 1921471.339839536], [8419247.609536331, 1926874.4708718853], [8422143.85497737, 1939664.4149338028], [8416412.986338722, 1943446.7593364122], [8419709.77636203, 1963670.2167911755], [8439274.838649891, 1951190.8661726352], [8448518.175163839, 1955359.679046504], [8452616.054351691, 1945870.1807367802], [8473783.294968637, 1950776.986725542], [8485768.821315058, 1950392.677406019], [8502776.560500726, 1944451.5587330314], [8497199.747470642, 1977281.8144279409], [8506566.328471446, 1978347.4465444346], [8518582.665939583, 1996323.4720785038], [8537346.6390629, 1990102.6449691495], [8566278.282351563, 2028731.9858435923], [8566493.960203554, 2045861.511129248], [8578017.319724279, 2042089.9833648533], [8594562.892084248, 2056704.8925619908], [8598352.660054969, 2071955.007344645], [8606486.796187244, 2075523.9753728448], [8616192.299526893, 2070676.2834476375], [8616993.388691435, 2059230.9078470198], [8632830.305252004, 2058279.899866479], [8638129.818186667, 2042030.5948881593], [8639146.585203202, 2026447.169096184], [8644322.853651013, 2020780.7486699466], [8622570.201721517, 1989362.1955708454], [8620567.478810163, 1975713.0668720528], [8644692.587111572, 1968729.139734716], [8629564.326350408, 1950274.4298005446], [8622416.146112952, 1948293.8814135212], [8613943.087641831, 1933785.397376794], [8613480.920816135, 1924305.5979464245], [8623093.990790643, 1920379.0703229187], [8627191.869978493, 1909193.9079026137], [8622077.223774107, 1897808.1622755444], [8623617.779859765, 1882508.8267847714], [8617979.344586257, 1869370.0380281464], [8622138.846017536, 1862980.259420639], [8603282.439529074, 1839380.6914464333], [8617424.74439542, 1834734.369679264], [8629348.648498414, 1835587.1027314344], [8637359.540143838, 1828883.7382491832], [8625866.991744826, 1821712.1940835188], [8628301.070360167, 1783835.0117091264], [8599307.804828078, 1788089.3669792186], [8580143.287122488, 1782573.5278306508], [8574628.09633583, 1750326.5459015372], [8575829.730082644, 1719265.2134357996], [8588061.745402772, 1710899.421941545], [8589910.412705561, 1697450.1265318978], [8583809.810606353, 1681408.5697914837], [8557866.846123869, 1681437.779667682], [8548993.243070476, 1688536.8289285009], [8545295.908464897, 1674691.235744223], [8556511.156768488, 1674019.604850814], [8553091.122258326, 1653529.1737746692], [8544987.797247764, 1631948.0851489159], [8556449.534525063, 1618046.9789192127], [8564676.104022479, 1591286.443691286], [8583840.621728068, 1589161.954886235], [8584056.299580062, 1596700.327168659], [8602912.70606852, 1601649.511144999], [8615545.265970917, 1601445.702113924], [8627191.869978493, 1593614.8543346117], [8628424.314847019, 1583516.9133312218], [8614990.66578008, 1582731.362118497], [8606486.796187244, 1566705.550192035], [8586552.000438826, 1563681.8327646118], [8565261.515335027, 1576651.4290431312], [8575583.241108939, 1555397.4925513985], [8568126.949654354, 1542264.2232415958], [8575521.618865512, 1537587.8136881744], [8589633.112610143, 1542845.201878569], [8598321.848933255, 1551822.961554674], [8618872.867115939, 1544123.4002191862], [8630365.41551495, 1530502.1683794586], [8673069.6302094, 1552171.6746895013], [8694729.848773753, 1547202.9525151877], [8691833.603332717, 1524057.0440114513], [8700614.77302097, 1523476.4791764005], [8710720.820942888, 1515407.9412696373], [8725263.670391502, 1516191.469011493], [8722459.858315606, 1490463.1081458228], [8746061.177547889, 1480984.3135676538], [8739097.864040714, 1456128.9536037934], [8733182.128671786, 1453696.765455564], [8729392.360701067, 1437545.4791211735], [8721381.469055643, 1441973.1281927847], [8709765.676169781, 1432800.278116255], [8707485.653163007, 1422039.734108102], [8682189.722236495, 1428981.5511589546], [8673377.74142653, 1435780.4022077145], [8663518.182478318, 1434131.168288994], [8655106.746250622, 1414637.0021711332], [8638160.62930838, 1407149.476197093], [8641210.930357983, 1390851.3494332116], [8638807.662864357, 1376872.326142838], [8623432.913129486, 1359696.5135231423], [8652456.98978329, 1355743.1619850248], [8656986.224675126, 1349165.0277490849], [8645493.676276114, 1331515.0813375888], [8626205.914083673, 1328891.5447892593], [8619581.522915341, 1311022.9275077544], [8598506.715663534, 1314509.368085036], [8580050.85375735, 1305635.5711500929], [8572101.58435535, 1314566.9985375504], [8560424.16922606, 1312319.4912956713], [8552690.577676056, 1297167.51376812], [8555001.411804544, 1291840.161173554], [8521910.267084602, 1293078.3291894507], [8516395.076297946, 1302697.4106104253], [8507429.039879415, 1298319.4940962982]]]}}, {\\\"id\\\": \\\"19\\\", \\\"type\\\": \\\"Feature\\\", \\\"properties\\\": {\\\"ID\\\": 16.0, \\\"deaths\\\": 2.0, \\\"discharged\\\": 96.0, \\\"state\\\": \\\"Kerala\\\", \\\"total_cases\\\": 357.0}, \\\"geometry\\\": {\\\"type\\\": \\\"Polygon\\\", \\\"coordinates\\\": [[[8492054.290144544, 1094019.3250866968], [8485214.22112422, 1108907.4263272646], [8480037.95267641, 1132082.1179308856], [8469130.81558995, 1159544.7462754513], [8455512.29979273, 1188349.4849036036], [8450274.40910149, 1200578.8155342417], [8441277.561561245, 1237753.7841730593], [8424793.6114447, 1274683.6292586362], [8417737.864572385, 1279087.0109531258], [8407970.738989312, 1303244.6938053519], [8382428.319089098, 1330044.7196334824], [8383383.463862206, 1345703.4348706342], [8373862.827252837, 1342992.1336973975], [8362092.978758406, 1360100.5353583568], [8346009.573224136, 1393278.146318986], [8334178.102486278, 1422271.1005812793], [8349552.852221149, 1425799.6734950393], [8354297.764964976, 1411572.3720117435], [8361507.567445858, 1413364.8515624814], [8372784.437992877, 1401744.6418863412], [8390377.588491093, 1389898.020591966], [8395861.968156038, 1377767.4758723138], [8414810.808009636, 1353002.0959789206], [8428799.057267413, 1343857.4159027785], [8437487.793590527, 1345213.0749731797], [8446546.263374196, 1330131.2095188983], [8457638.267190939, 1328343.8021303576], [8472304.361126404, 1333504.5081561976], [8472304.361126404, 1320013.5669489643], [8480777.419597525, 1321425.799041133], [8494858.102220444, 1307882.5889496715], [8505549.561454913, 1307508.0745841935], [8507429.039879415, 1298319.4940962982], [8493440.790621638, 1287607.726091974], [8489003.989094941, 1277331.3404541197], [8500527.348615665, 1274482.1820830496], [8520184.844268665, 1263605.9406939899], [8517442.654436193, 1253481.1464340403], [8542738.585362703, 1236345.3080600048], [8532940.648657916, 1214938.2059134925], [8551304.077198964, 1208389.5538284613], [8560177.680252355, 1198138.3347916463], [8557435.490419885, 1182236.4839342972], [8552659.766554344, 1177243.5826304723], [8551519.755050955, 1144635.4250888797], [8569544.26125316, 1136180.0800912532], [8589756.357096996, 1150397.6938196647], [8599492.671558356, 1139991.8989891077], [8600663.494183457, 1125921.7387236736], [8592529.35805118, 1122226.023596608], [8600694.30530517, 1107389.7055938956], [8594778.569936242, 1080224.6106412078], [8588801.212323887, 1068151.2989198733], [8605470.02917071, 1065805.752823834], [8615699.321579482, 1054966.6521206442], [8601310.527739434, 1031925.9470667033], [8599615.91604521, 1015354.278233958], [8586305.51146512, 1000674.1831200947], [8599092.126976084, 980519.2503379683], [8590187.71280098, 966622.1649272465], [8601125.661009153, 947596.1491625297], [8592868.280390026, 942063.9656144294], [8588277.423254764, 923476.5332547976], [8581683.843208147, 920740.4123405712], [8567510.72722009, 934166.1706934585], [8529212.502930623, 982602.7933686606], [8520523.76660751, 989881.762720193], [8517997.25462703, 1001359.51432621], [8499448.959355704, 1041672.2480851136], [8493718.090717055, 1065033.470956121], [8492054.290144544, 1094019.3250866968]]]}}, {\\\"id\\\": \\\"20\\\", \\\"type\\\": \\\"Feature\\\", \\\"properties\\\": {\\\"ID\\\": 0.0, \\\"deaths\\\": 0.0, \\\"discharged\\\": 0.0, \\\"state\\\": \\\"Lakshadweep\\\", \\\"total_cases\\\": 0.0}, \\\"geometry\\\": {\\\"type\\\": \\\"Polygon\\\", \\\"coordinates\\\": [[[8034231.832608602, 1203679.918872297], [8036049.688789678, 1206982.3369254929], [8036604.288980517, 1209337.3049435834], [8037467.000388485, 1208963.9452125884], [8034231.832608602, 1203679.918872297]]]}}, {\\\"id\\\": \\\"21\\\", \\\"type\\\": \\\"Feature\\\", \\\"properties\\\": {\\\"ID\\\": 18.0, \\\"deaths\\\": 16.0, \\\"discharged\\\": 0.0, \\\"state\\\": \\\"Madhya Pradesh\\\", \\\"total_cases\\\": 259.0}, \\\"geometry\\\": {\\\"type\\\": \\\"Polygon\\\", \\\"coordinates\\\": [[[9104363.711950304, 2600554.412114458], [9104178.845220026, 2587294.2558133346], [9097369.587321414, 2576430.8569408963], [9083658.638159055, 2559583.985951262], [9071426.62283893, 2556314.465821128], [9069916.877874983, 2554389.726534803], [9059872.452196492, 2549471.974688319], [9053833.47234071, 2557994.978713316], [9041200.912438313, 2549533.055733197], [9029122.952726752, 2548250.4015039885], [9029554.308430737, 2530700.300421391], [9021389.361176746, 2524264.8539000936], [9016798.504041484, 2502871.979030621], [9007647.600892676, 2509969.4132301714], [8998342.642135298, 2489142.588711429], [8995846.941276532, 2465424.2050112295], [8984292.770634094, 2456371.352843237], [8986850.093736287, 2432607.7732102163], [8978654.335360585, 2415814.1209492553], [8971598.58848827, 2415117.2659837967], [8955453.56071057, 2424330.1490559457], [8946826.446630882, 2438431.7957589696], [8934532.80906733, 2450237.60103703], [8926521.917421905, 2451907.462693887], [8912626.101529269, 2442436.9627751578], [8889641.004731247, 2439615.0427923123], [8875806.811082035, 2448142.9154319135], [8858367.716192381, 2441101.802706966], [8848631.40173102, 2456675.061465493], [8820377.603120048, 2461565.5189209925], [8805834.753671432, 2448962.5443158504], [8791415.148709672, 2449934.0074375733], [8786639.42484413, 2434457.8988312185], [8752038.535160244, 2433275.0085788043], [8728961.00499708, 2445198.6481421576], [8703048.85163631, 2442922.501429428], [8701785.595646068, 2435762.2059433283], [8671683.129732307, 2421480.90166694], [8643490.953364758, 2423269.203871505], [8625805.3695014, 2421420.28451284], [8618749.622629084, 2441010.7728691595], [8634709.783676505, 2439493.680350284], [8633785.450025111, 2456006.909668913], [8626914.569883073, 2465606.526904154], [8602450.53924282, 2466882.8351811357], [8594686.136571102, 2459044.175292545], [8579280.575714521, 2462355.4145745677], [8559561.457818093, 2447930.425495541], [8547144.575767687, 2443377.706468815], [8548438.642879639, 2434730.8851155136], [8529797.914243175, 2416329.2057751897], [8529304.936295763, 2399763.2966380646], [8513991.808804318, 2398885.4734679675], [8502899.80498758, 2385995.6638903497], [8478867.13005131, 2387205.5684320317], [8478004.41864334, 2407332.5830897493], [8470856.238405887, 2420814.124723123], [8459332.878885161, 2421208.1261561695], [8417922.731302666, 2423269.203871505], [8409973.461900668, 2420783.817294429], [8373431.4715488525, 2425360.8442710554], [8360829.722768167, 2432334.820780079], [8355376.154224937, 2443681.183244291], [8334085.66912114, 2451543.115257512], [8329494.811985876, 2449053.6166279363], [8303212.925164547, 2455612.105058185], [8294554.999963146, 2463145.3470663843], [8296372.856144223, 2484639.607380907], [8280874.8619225, 2497939.0607733303], [8270183.402688031, 2488047.1577395867], [8253884.319301767, 2490055.502503613], [8251296.185077861, 2520971.84877154], [8245657.7498043515, 2538572.6425553667], [8259707.621305555, 2536527.9135621777], [8264051.989467113, 2548067.1733631333], [8249324.273288217, 2547334.281236644], [8247136.683646584, 2556345.019061688], [8261433.044121493, 2563404.346596997], [8268612.03548066, 2573005.0375713482], [8280412.695096804, 2572515.69365507], [8289409.542637047, 2593111.461143594], [8280135.3950013835, 2604507.003770718], [8273572.626076479, 2622873.2502048775], [8281182.973139633, 2628795.4073834266], [8297235.56755219, 2627537.149030193], [8312148.150461365, 2639571.3885466023], [8297050.700821913, 2654227.378846958], [8305924.303875306, 2670896.9953824864], [8332421.868548628, 2682502.3185856245], [8342343.049740267, 2703950.1304472517], [8338399.226160983, 2720055.3738816874], [8348166.351744057, 2739638.6876048497], [8337875.43709186, 2757173.5817290507], [8335102.436137673, 2769772.738755966], [8323640.698860376, 2769029.502566885], [8324996.388215755, 2780615.720590126], [8333099.713226318, 2790846.1905882405], [8321946.087166152, 2795374.601759356], [8320898.509027905, 2808533.2978564235], [8328755.34506476, 2829070.1693864707], [8334886.758285682, 2817384.6341236634], [8348936.629786885, 2822138.5543750725], [8350415.563629118, 2832521.631009494], [8333222.957713171, 2834885.2532042596], [8329710.48983787, 2845370.5602533002], [8353804.787017566, 2840515.9118608194], [8362185.412123547, 2844156.7499659564], [8366190.857946259, 2861221.426892603], [8383537.519470772, 2863309.147412197], [8386526.198276949, 2853184.887114815], [8382397.5079673845, 2835134.0772766015], [8374386.616321961, 2825370.837036705], [8399282.002666198, 2820274.0925694727], [8417244.886624975, 2819683.7279263325], [8431541.247099884, 2828448.368998339], [8442325.139699494, 2824718.108449361], [8443865.695785152, 2810644.7229649406], [8450366.84246663, 2806111.733231025], [8449534.942180373, 2790194.955116681], [8430863.402422195, 2784986.0778572196], [8439459.70538017, 2772498.2480083024], [8431726.113830162, 2752965.855069866], [8435762.37077459, 2743564.5180439684], [8426919.57884291, 2732284.312002651], [8406214.505051663, 2741926.0576214013], [8399774.98061361, 2726446.5674472493], [8421250.332447687, 2711753.844338317], [8457576.64494751, 2727898.075742701], [8455851.222131573, 2739113.2586945617], [8475262.22881087, 2747584.1225330033], [8473998.97282063, 2760949.1437963457], [8499572.203842556, 2766211.7274153354], [8511865.841406109, 2763796.9052818133], [8518521.043696156, 2755812.131980491], [8528904.39171349, 2767914.7161515565], [8548315.398392785, 2751295.4602725124], [8560454.980347775, 2751945.0366386697], [8565353.948700167, 2760144.4377218043], [8553460.855718886, 2779809.9763249718], [8555063.03404797, 2792986.1613665544], [8567171.804881245, 2791900.6311663142], [8577216.230559736, 2799966.42938975], [8578232.99757627, 2814091.9500895403], [8573734.573806148, 2822915.4818188814], [8554539.244978847, 2829629.811809928], [8549578.654383026, 2836533.7898726063], [8565908.548891004, 2842165.0702964854], [8557065.756959327, 2859040.5402489402], [8569790.750226865, 2867173.7645189785], [8580204.909365915, 2864773.843301408], [8590465.012896396, 2871600.6141307475], [8605315.973562146, 2867953.0433853087], [8614651.743441233, 2872598.3970362386], [8616839.333082868, 2885357.2533850684], [8605593.273657564, 2911095.8099172376], [8588708.778958747, 2896003.290453756], [8579989.231513923, 2899251.712064447], [8567017.749272678, 2894035.8463102398], [8546312.675481431, 2896346.839492928], [8527363.835627833, 2905281.9413924003], [8518212.932479022, 2922574.0549555626], [8519198.888373846, 2955495.255195546], [8531677.392667677, 2968797.767034652], [8548746.75409677, 2973475.3949500266], [8559099.290992396, 2991855.3631136385], [8583778.999484641, 3008118.5836625323], [8601341.338861147, 3014414.959197034], [8619211.789454782, 3030577.971438136], [8629810.81532411, 3031555.276207186], [8646294.765440656, 3043288.2223688867], [8662100.87087951, 3048874.27090504], [8682066.477749644, 3067162.8374744533], [8692727.1258624, 3065203.3333068234], [8693528.215026941, 3077945.030654929], [8706284.01941619, 3083734.8111514063], [8723260.947480146, 3088102.469958281], [8725849.081704054, 3082722.2166863536], [8745907.121939324, 3073991.6459070714], [8758324.00398973, 3078292.982224858], [8773236.586898902, 3074971.980749456], [8779213.944511257, 3067415.6967423996], [8792431.915726205, 3065076.923118249], [8794003.282933578, 3048369.2260345602], [8807221.254148526, 3023990.810530845], [8794311.394150708, 2999465.621574369], [8794588.694246128, 2990440.680125539], [8773729.564846314, 2959572.548956896], [8767598.151625393, 2945996.4948122716], [8771357.1084744, 2933309.8655068865], [8755119.647331562, 2926955.0608982495], [8736478.918695096, 2928770.4357487094], [8729854.527526766, 2916411.58511693], [8720241.457552256, 2910439.2896020547], [8719810.101848273, 2898876.857463676], [8725818.270582339, 2881550.277685608], [8719132.257170582, 2867953.0433853087], [8719378.746144287, 2857638.7109396295], [8701908.840132922, 2843689.926173476], [8712754.354975956, 2817384.6341236634], [8711953.265811415, 2791125.3000712134], [8723291.75860186, 2781917.397694649], [8725849.081704054, 2769153.3727509584], [8738574.07497159, 2783901.1200853335], [8770247.908092726, 2758473.260292659], [8778443.666468428, 2761939.6093832427], [8790706.49291027, 2779345.1432833443], [8788179.98092979, 2803224.991103018], [8781062.611814048, 2813750.297741635], [8766643.006852284, 2809216.373602275], [8768029.507329378, 2840764.829755876], [8752500.701985942, 2853029.1831608997], [8754380.180410445, 2865210.1636867537], [8740915.72022179, 2892911.7108719135], [8750097.434492316, 2908719.971403687], [8787779.436347516, 2922730.4967455957], [8786362.12474871, 2910095.4097808325], [8771233.863987548, 2893536.2199367], [8779491.244606676, 2880926.2771428516], [8797176.828470033, 2886387.178242092], [8809624.521642152, 2872161.858727048], [8825030.082498737, 2872380.1262698984], [8823212.226317659, 2895628.518856212], [8827063.616531806, 2899314.1887630615], [8843485.944404922, 2884701.884172454], [8837570.209035996, 2872442.4890170535], [8848785.457339587, 2867797.184329582], [8855502.281873059, 2878399.3449730077], [8868412.141870875, 2873222.0455620643], [8890041.549313517, 2876777.3450295], [8888316.12649758, 2886605.656416583], [8905262.243439822, 2890726.138188357], [8907881.188785441, 2899657.8153649024], [8919712.659523297, 2899345.427212212], [8926583.539665332, 2907407.1736596157], [8939955.566488847, 2905625.7080357536], [8939246.910689443, 2894004.6191638536], [8950277.292262757, 2884701.884172454], [8935272.275988447, 2861377.2167810127], [8949445.391976504, 2866488.033050771], [8957887.639325911, 2863153.337220421], [8969965.599037472, 2868482.9764535343], [8980533.813785087, 2864306.3714349633], [8989130.116743062, 2874999.5883045923], [9002471.332444862, 2866363.3580143224], [9000930.776359202, 2849884.3123136987], [9034853.8213654, 2852624.3605123204], [9046007.447425567, 2866051.6750159455], [9046777.725468395, 2877869.056144069], [9055774.573008642, 2878149.7949145483], [9070717.967039526, 2866862.0644594943], [9079036.969902081, 2880832.679339712], [9088896.528850295, 2866862.0644594943], [9117242.760826409, 2855582.934017091], [9117366.00531326, 2843534.3214909127], [9140690.024450127, 2832335.045164617], [9151443.105928022, 2833019.204640234], [9161425.909363087, 2812321.6537744952], [9173750.358048355, 2808657.491143719], [9174982.802916883, 2821734.5679989713], [9187122.38487187, 2815241.201294747], [9202281.456754748, 2821081.9975892673], [9213435.082814915, 2813967.7119745216], [9207919.892028257, 2803690.5573245827], [9213250.216084633, 2771507.0973698315], [9207057.180620288, 2745821.551181272], [9218118.373315314, 2731573.7807556684], [9201079.823007934, 2724686.4103278616], [9188816.996566093, 2711105.9562427597], [9150364.716668062, 2715672.600574256], [9133264.544117255, 2714314.809308693], [9128273.14239972, 2719468.8746887166], [9107229.146269629, 2712957.136747797], [9083319.715820212, 2722586.835563891], [9093394.952620417, 2702315.8556708694], [9085137.572001288, 2695009.9660572745], [9084244.049471606, 2676867.895479613], [9098047.431999104, 2683426.1874498576], [9108954.569085566, 2676929.462954486], [9118875.750277206, 2679453.9371042554], [9125253.652471831, 2665635.861685297], [9149070.64955611, 2654135.1604886176], [9141090.569032397, 2627813.3435962065], [9121309.828892546, 2624683.4178823866], [9121556.31786625, 2610177.1428752583], [9104363.711950304, 2600554.412114458]]]}}, {\\\"id\\\": \\\"22\\\", \\\"type\\\": \\\"Feature\\\", \\\"properties\\\": {\\\"ID\\\": 19.0, \\\"deaths\\\": 97.0, \\\"discharged\\\": 125.0, \\\"state\\\": \\\"Maharashtra\\\", \\\"total_cases\\\": 1364.0}, \\\"geometry\\\": {\\\"type\\\": \\\"Polygon\\\", \\\"coordinates\\\": [[[8547144.575767687, 2443377.706468815], [8559561.457818093, 2447930.425495541], [8579280.575714521, 2462355.4145745677], [8594686.136571102, 2459044.175292545], [8602450.53924282, 2466882.8351811357], [8626914.569883073, 2465606.526904154], [8633785.450025111, 2456006.909668913], [8634709.783676505, 2439493.680350284], [8618749.622629084, 2441010.7728691595], [8625805.3695014, 2421420.28451284], [8643490.953364758, 2423269.203871505], [8671683.129732307, 2421480.90166694], [8701785.595646068, 2435762.2059433283], [8703048.85163631, 2442922.501429428], [8728961.00499708, 2445198.6481421576], [8752038.535160244, 2433275.0085788043], [8786639.42484413, 2434457.8988312185], [8791415.148709672, 2449934.0074375733], [8805834.753671432, 2448962.5443158504], [8820377.603120048, 2461565.5189209925], [8848631.40173102, 2456675.061465493], [8858367.716192381, 2441101.802706966], [8875806.811082035, 2448142.9154319135], [8889641.004731247, 2439615.0427923123], [8912626.101529269, 2442436.9627751578], [8926521.917421905, 2451907.462693887], [8934532.80906733, 2450237.60103703], [8946826.446630882, 2438431.7957589696], [8955453.56071057, 2424330.1490559457], [8971598.58848827, 2415117.2659837967], [8978654.335360585, 2415814.1209492553], [8976651.612449229, 2406787.483840239], [8956470.327727104, 2397069.428637865], [8952742.181999812, 2377710.073448083], [8965128.252928503, 2368431.245329675], [8966052.5865799, 2351910.7508988786], [8973786.178129904, 2328108.542942108], [8974217.53383389, 2296812.8173145712], [8948182.135986263, 2286914.34433307], [8955792.483049413, 2275488.184511858], [8963834.185816552, 2273083.592304241], [8966145.019945038, 2256260.3128505717], [8960075.228967546, 2245903.6557557513], [8965621.230875915, 2231893.9119655415], [8979547.857890267, 2222030.454979403], [8985833.326719753, 2212351.965482165], [9003426.47721797, 2201870.0981091084], [8999390.220273545, 2183914.7881484507], [8988976.061134495, 2174614.6706029125], [8972800.222235084, 2177544.7614146546], [8967839.631639263, 2187624.1494292426], [8948798.358420525, 2169532.9329966498], [8947997.269255983, 2162181.76334639], [8935364.709353585, 2139548.362250542], [8944115.067920124, 2118938.7006493513], [8935333.898231871, 2108061.0960852434], [8917432.636516523, 2103324.529061389], [8906926.044012332, 2113752.454592314], [8897990.818715515, 2115808.9039655067], [8897312.974037824, 2145995.2645037635], [8889764.249218099, 2153220.7549881833], [8902550.864729064, 2188013.0763044874], [8895649.173465313, 2198726.681210694], [8880798.212799566, 2211093.8311546636], [8854639.57046509, 2205343.438099246], [8846597.867697952, 2199325.3866960085], [8822657.626126822, 2212681.4908620426], [8815293.768037375, 2194775.703477826], [8796283.305940352, 2204325.323467318], [8790798.926275408, 2217175.5996629987], [8778536.099833569, 2217984.654311832], [8776903.110382771, 2230064.7290177858], [8727173.959937718, 2239182.4522904856], [8721350.65793393, 2224728.1444203346], [8714726.2667656, 2221910.566756732], [8717653.32332835, 2195643.6501273727], [8703788.318557424, 2187384.8137991643], [8703326.151731728, 2169323.7141150087], [8688013.024240285, 2172761.173440589], [8677229.131640676, 2181013.61798683], [8667431.19493589, 2176408.549991445], [8665674.960998237, 2154415.313409277], [8656400.813362574, 2148293.9888935615], [8657017.03579684, 2138862.013792849], [8666630.105771344, 2135460.4735897845], [8671713.940854019, 2125587.4664864917], [8659143.003195047, 2105290.511860594], [8653196.456704406, 2103145.813152105], [8652641.856513567, 2088615.704668309], [8638099.007064953, 2088139.4895446114], [8630303.793271523, 2063867.721424726], [8632830.305252004, 2058279.899866479], [8616993.388691435, 2059230.9078470198], [8616192.299526893, 2070676.2834476375], [8606486.796187244, 2075523.9753728448], [8598352.660054969, 2071955.007344645], [8594562.892084248, 2056704.8925619908], [8578017.319724279, 2042089.9833648533], [8566493.960203554, 2045861.511129248], [8566278.282351563, 2028731.9858435923], [8537346.6390629, 1990102.6449691495], [8518582.665939583, 1996323.4720785038], [8506566.328471446, 1978347.4465444346], [8497199.747470642, 1977281.8144279409], [8502776.560500726, 1944451.5587330314], [8485768.821315058, 1950392.677406019], [8473783.294968637, 1950776.986725542], [8452616.054351691, 1945870.1807367802], [8448518.175163839, 1955359.679046504], [8439274.838649891, 1951190.8661726352], [8419709.77636203, 1963670.2167911755], [8416412.986338722, 1943446.7593364122], [8422143.85497737, 1939664.4149338028], [8419247.609536331, 1926874.4708718853], [8423992.52228016, 1921471.339839536], [8423407.110967608, 1906391.1561624801], [8403842.048679749, 1901995.9989916983], [8401038.23660385, 1906656.6642927835], [8380641.274029734, 1902969.3454872863], [8374571.483052241, 1889936.0532722836], [8349367.98549087, 1902084.4832144042], [8339169.504203811, 1891675.3358313753], [8339600.859907797, 1883569.7032582965], [8324349.354659778, 1879267.581053399], [8301549.124592036, 1856562.9107659766], [8292798.766025496, 1865306.2761460377], [8268427.168750381, 1852942.9401425477], [8275359.671135843, 1845057.5832579148], [8276468.871517518, 1826532.1585032158], [8294216.077624301, 1818626.7864857824], [8292090.110226094, 1803000.5652211371], [8286081.941492027, 1787326.4586404923], [8278841.327889431, 1778642.8386148275], [8276715.360491223, 1765740.83568377], [8256318.397917107, 1764099.2816448165], [8251665.918538419, 1752728.8592638692], [8237893.3471326325, 1748012.356912431], [8231546.25605972, 1763219.9257547718], [8222672.653006328, 1769669.3148875877], [8213860.672196362, 1761109.6082886343], [8202029.201458507, 1761256.1518820932], [8191553.420076031, 1782573.5278306508], [8183111.172726625, 1786006.100724422], [8169338.601320839, 1834499.1387330368], [8160957.976214856, 1855444.4822659688], [8165456.399984979, 1864658.4998262397], [8160310.942658879, 1877057.9179869774], [8158431.464234376, 1915036.6126851058], [8146045.393305684, 1953171.688037981], [8146538.371253093, 1967161.0380400196], [8141362.102805282, 1990635.7850202504], [8125186.26390587, 2030779.6382912004], [8121088.384718019, 2063213.7464544545], [8114618.049158255, 2077725.1595671854], [8118346.194885547, 2086770.435197023], [8110242.869874985, 2105469.2473734636], [8111136.392404666, 2116613.6607109294], [8124385.174741327, 2118819.46106557], [8117236.994503872, 2140980.820458731], [8106699.59087797, 2145965.412750918], [8101369.266821592, 2167052.342975213], [8103926.589923784, 2179817.3887421843], [8099335.732788523, 2185081.3635464516], [8096377.865104058, 2211243.6046067066], [8091509.707873379, 2228715.447465795], [8089075.629258038, 2250766.054817515], [8095361.098087524, 2256920.935533641], [8097117.332025174, 2274496.2517383364], [8113447.226533154, 2285139.8107436323], [8123029.485385947, 2283455.668368973], [8126788.442234954, 2272302.1682009757], [8144504.837220025, 2267043.454170144], [8150574.628197519, 2270949.7825993556], [8150389.76146724, 2272783.040605152], [8160957.976214856, 2282854.2268508794], [8173837.02509096, 2282162.593753448], [8172481.33573558, 2303404.78115562], [8179290.59363419, 2316806.861073241], [8181693.861127817, 2339387.230503733], [8209608.737399945, 2325365.343975412], [8220546.685608121, 2331997.9774272926], [8230991.655868883, 2353933.452422357], [8227232.699019878, 2374566.2063288363], [8209547.11515652, 2381308.076692494], [8208869.270478829, 2396403.5931541063], [8217896.929140787, 2396978.6313859085], [8218944.507279037, 2408301.690866612], [8231915.98952028, 2411875.745726473], [8233394.923362512, 2423238.892114535], [8243993.949231841, 2430666.8726514475], [8271908.825503969, 2433578.305978998], [8270121.780444606, 2442952.8480541413], [8245226.394100367, 2443013.541465524], [8222148.863937206, 2435458.8698340636], [8218112.60699278, 2447626.873043264], [8225414.8428388005, 2461018.6896563], [8218451.529331625, 2473083.418270202], [8253884.319301767, 2490055.502503613], [8270183.402688031, 2488047.1577395867], [8280874.8619225, 2497939.0607733303], [8296372.856144223, 2484639.607380907], [8294554.999963146, 2463145.3470663843], [8303212.925164547, 2455612.105058185], [8329494.811985876, 2449053.6166279363], [8334085.66912114, 2451543.115257512], [8355376.154224937, 2443681.183244291], [8360829.722768167, 2432334.820780079], [8373431.4715488525, 2425360.8442710554], [8409973.461900668, 2420783.817294429], [8417922.731302666, 2423269.203871505], [8459332.878885161, 2421208.1261561695], [8470856.238405887, 2420814.124723123], [8478004.41864334, 2407332.5830897493], [8478867.13005131, 2387205.5684320317], [8502899.80498758, 2385995.6638903497], [8513991.808804318, 2398885.4734679675], [8529304.936295763, 2399763.2966380646], [8529797.914243175, 2416329.2057751897], [8548438.642879639, 2434730.8851155136], [8547144.575767687, 2443377.706468815]]]}}, {\\\"id\\\": \\\"23\\\", \\\"type\\\": \\\"Feature\\\", \\\"properties\\\": {\\\"ID\\\": 20.0, \\\"deaths\\\": 0.0, \\\"discharged\\\": 1.0, \\\"state\\\": \\\"Manipur\\\", \\\"total_cases\\\": 2.0}, \\\"geometry\\\": {\\\"type\\\": \\\"Polygon\\\", \\\"coordinates\\\": [[[10390265.87664931, 2742513.410165798], [10374767.882427588, 2742389.755135735], [10371625.148012845, 2742698.894573932], [10351536.296655862, 2750151.03547266], [10356620.131738534, 2774666.6147727678], [10352768.741524387, 2784986.0778572196], [10356281.20939969, 2788086.3845692766], [10364353.72328854, 2818099.1796554243], [10365247.24581822, 2833547.8947594054], [10374983.560279582, 2840329.2261641594], [10376770.605338946, 2841169.330191485], [10395996.745287962, 2887760.523515262], [10404531.426002508, 2894254.4381944872], [10405609.815262469, 2894348.1214268296], [10420399.15368479, 2882392.7203282714], [10430628.44609356, 2901657.257226062], [10452011.364562498, 2927299.338708897], [10469142.348235019, 2928833.0389256133], [10485379.809377857, 2925139.9126680344], [10485194.942647578, 2923137.2532674205], [10498412.913862526, 2918131.8094547684], [10525896.43443067, 2929427.7825577464], [10526081.30116095, 2920446.6134500676], [10540007.928175302, 2913941.072338544], [10534307.870658366, 2905063.185005636], [10529193.22445398, 2884077.750135418], [10547032.863925902, 2874375.86473665], [10546663.130465345, 2860785.223911506], [10535417.07104004, 2839240.272802336], [10532027.84765159, 2823785.68831878], [10525372.645361546, 2823101.950391239], [10493267.456536429, 2756369.0740728835], [10491326.355868498, 2741400.5506585846], [10481990.58598941, 2718203.3467523367], [10465999.613820275, 2728021.614654973], [10442675.594683407, 2727928.9603782296], [10437560.948479023, 2736548.18655353], [10421323.487336183, 2737351.6572115268], [10405270.892923623, 2732469.673357593], [10398954.612972423, 2745636.0291120796], [10390265.87664931, 2742513.410165798]]]}}, {\\\"id\\\": \\\"24\\\", \\\"type\\\": \\\"Feature\\\", \\\"properties\\\": {\\\"ID\\\": 0.0, \\\"deaths\\\": 0.0, \\\"discharged\\\": 0.0, \\\"state\\\": \\\"Meghalaya\\\", \\\"total_cases\\\": 0.0}, \\\"geometry\\\": {\\\"type\\\": \\\"Polygon\\\", \\\"coordinates\\\": [[[10274970.659198642, 2989780.5427126293], [10269856.012994258, 2983934.9427283006], [10259811.587315764, 2975987.5023910343], [10264032.71099047, 2966820.4362818366], [10258425.086838672, 2957314.2129654326], [10259688.34282891, 2941578.407244863], [10259688.34282891, 2939667.453852181], [10284090.75122574, 2949287.4370984137], [10306798.547928343, 2925390.2644744758], [10314901.872938907, 2929333.8740501013], [10314932.684060618, 2928926.9441966326], [10306089.89212894, 2918288.2035496207], [10329567.966874374, 2892755.5877546216], [10324576.565156842, 2883079.1906872853], [10310588.315899063, 2872068.316481107], [10299804.423299454, 2874812.4684683746], [10288804.852847854, 2861595.32537452], [10280054.494281316, 2864057.059137296], [10248688.772377312, 2880926.2771428516], [10223300.408085663, 2879990.32585033], [10201825.056251585, 2872691.9426372456], [10182845.405276274, 2874064.0128295817], [10160538.153155942, 2882673.545245625], [10139247.668052144, 2881831.0865489184], [10113766.870395355, 2876746.1544699706], [10075314.590497322, 2878648.8992528412], [10069398.855128394, 2875342.647495802], [10032055.775612036, 2885263.6274257223], [10016033.99232119, 2894535.489684861], [10003216.565688513, 2892880.486115703], [9998903.00864867, 2904844.4318886325], [10002631.154375963, 2915942.468237338], [10004449.010557039, 2923481.4407404056], [10004695.499530744, 2924952.151640396], [10019392.404587926, 2929740.815300196], [10006975.522537518, 2946779.98453724], [10019269.160101073, 2965408.22372237], [10031963.342246898, 2975579.2549805213], [10054856.005679779, 2977212.314397275], [10071894.55598716, 2982238.280684744], [10078241.647060072, 2975171.019195734], [10101195.932736384, 2969927.7925373833], [10117032.84929695, 2974417.3836679924], [10131606.509867277, 2966098.6214177785], [10132376.787910108, 2958537.4343506778], [10152619.694875658, 2960733.220476794], [10160753.831007933, 2949224.7454808736], [10167070.110959133, 2959698.0224490683], [10182259.993963724, 2962992.092780853], [10193536.864510743, 2983746.414784696], [10200222.8779225, 2973538.1922731954], [10210236.49247928, 2974699.9923491087], [10211468.937347807, 2987643.1642862274], [10221266.874052592, 2994999.6054315944], [10228384.243168335, 2984060.6294047795], [10256206.686075322, 2986008.9141857573], [10274970.659198642, 2989780.5427126293]]]}}, {\\\"id\\\": \\\"25\\\", \\\"type\\\": \\\"Feature\\\", \\\"properties\\\": {\\\"ID\\\": 21.0, \\\"deaths\\\": 0.0, \\\"discharged\\\": 0.0, \\\"state\\\": \\\"Mizoram\\\", \\\"total_cases\\\": 1.0}, \\\"geometry\\\": {\\\"type\\\": \\\"Polygon\\\", \\\"coordinates\\\": [[[10352768.741524387, 2784986.0778572196], [10356620.131738534, 2774666.6147727678], [10351536.296655862, 2750151.03547266], [10371625.148012845, 2742698.894573932], [10374767.882427588, 2742389.755135735], [10390265.87664931, 2742513.410165798], [10397105.945669634, 2727589.232780383], [10400402.735692944, 2694116.231094453], [10394949.167149711, 2655395.524531371], [10396643.778843937, 2642335.63507155], [10392576.710777799, 2624714.100455394], [10386322.053070027, 2616339.9400779814], [10375661.40495727, 2622167.64707404], [10366202.390591329, 2616861.2802089667], [10370824.058848305, 2604936.0255302815], [10363768.311975988, 2592560.267803412], [10362936.411689734, 2580408.1595666753], [10368913.769302087, 2565635.850397004], [10367681.324433561, 2552312.483784456], [10373966.793263046, 2546601.4218007443], [10375199.238131573, 2529083.5783890914], [10361272.611117221, 2520636.4868024173], [10352799.5526461, 2502171.537694348], [10346267.594842909, 2497725.942799548], [10319708.40792616, 2513900.1951554893], [10309818.037856234, 2513077.3964952747], [10298387.111700648, 2583682.516402624], [10292409.754088294, 2599941.6939551313], [10283228.03981777, 2608092.751395522], [10285230.762729127, 2622321.036413641], [10279315.027360197, 2667266.3177443584], [10271273.324593062, 2703179.2247672444], [10270256.557576528, 2713635.958194728], [10278205.826978523, 2726508.3309827186], [10278606.371560797, 2754327.052011231], [10274416.059007805, 2766583.272395697], [10275956.615093466, 2766521.347604586], [10288404.308265584, 2766738.0854720618], [10290006.486594668, 2754512.679139047], [10300728.75695085, 2757916.2416873826], [10318383.529692493, 2779283.16661782], [10326579.288068196, 2799283.772173784], [10333973.957279356, 2784490.0875430466], [10352768.741524387, 2784986.0778572196]]]}}, {\\\"id\\\": \\\"26\\\", \\\"type\\\": \\\"Feature\\\", \\\"properties\\\": {\\\"ID\\\": 0.0, \\\"deaths\\\": 0.0, \\\"discharged\\\": 0.0, \\\"state\\\": \\\"Nagaland\\\", \\\"total_cases\\\": 0.0}, \\\"geometry\\\": {\\\"type\\\": \\\"Polygon\\\", \\\"coordinates\\\": [[[10413220.16232562, 2943646.2802892094], [10431367.913014675, 2962301.844183459], [10438762.582225835, 2976175.9281944768], [10439532.860268665, 2961423.3938477226], [10462117.412484417, 2971277.661784169], [10459005.489191385, 2981264.3618936986], [10465475.82475115, 3003335.2047104947], [10476074.850620482, 3020619.6240660814], [10482360.319449967, 3022226.3510497804], [10484794.398065306, 3037199.7481093053], [10508180.0394456, 3045749.5971986046], [10509658.973287832, 3056483.7092876104], [10524694.80068386, 3068205.911461655], [10540470.095000999, 3070892.976093971], [10553688.066215947, 3080760.524655928], [10562684.913756194, 3095701.672556353], [10585022.976998238, 3098203.98813144], [10597131.747831512, 3109422.455807791], [10600952.326923944, 3089875.245023238], [10595899.302962985, 3087279.472743937], [10601815.038331913, 3065140.128069619], [10583020.254086882, 3037956.720723364], [10590476.545541469, 3028213.804290332], [10589459.778524935, 2992798.563031282], [10595991.736328127, 2990786.478573375], [10577073.70759624, 2964592.3419114267], [10581202.397905804, 2951136.9622470634], [10568138.482299423, 2939103.6141363857], [10554489.15538049, 2918319.482569928], [10540007.928175302, 2913941.072338544], [10526081.30116095, 2920446.6134500676], [10525896.43443067, 2929427.7825577464], [10498412.913862526, 2918131.8094547684], [10485194.942647578, 2923137.2532674205], [10485379.809377857, 2925139.9126680344], [10469142.348235019, 2928833.0389256133], [10452011.364562498, 2927299.338708897], [10430628.44609356, 2901657.257226062], [10420399.15368479, 2882392.7203282714], [10405609.815262469, 2894348.1214268296], [10405486.570775615, 2895534.8274521586], [10403576.2812294, 2911783.6247507483], [10389649.654215049, 2924639.2219788665], [10411772.039605102, 2942549.6441536313], [10413220.16232562, 2943646.2802892094]]]}}, {\\\"id\\\": \\\"27\\\", \\\"type\\\": \\\"Feature\\\", \\\"properties\\\": {\\\"ID\\\": 22.0, \\\"deaths\\\": 1.0, \\\"discharged\\\": 2.0, \\\"state\\\": \\\"Odisha\\\", \\\"total_cases\\\": 44.0}, \\\"geometry\\\": {\\\"type\\\": \\\"Polygon\\\", \\\"coordinates\\\": [[[9738456.596807273, 2448871.4724910385], [9727457.026355673, 2441769.3696844773], [9707861.152946098, 2441465.9269125857], [9697477.804928761, 2436945.2681781244], [9672798.096436515, 2414117.4798037154], [9665218.560495077, 2392923.5049701673], [9681456.021637915, 2356167.750526286], [9664540.715817384, 2348198.0361247896], [9668053.183692686, 2335405.700097563], [9677604.63142377, 2342343.793162626], [9687803.112710826, 2340624.099802501], [9660812.570090093, 2321628.0373794697], [9655112.512573157, 2312077.3437985014], [9659087.147274157, 2297444.818939745], [9648672.988135105, 2288869.5402667853], [9627844.669857005, 2278103.539294952], [9626458.169379912, 2270258.6020390657], [9613856.420599228, 2252867.489398986], [9578485.25287251, 2240412.4894712875], [9537907.00557627, 2228505.5680486425], [9508821.306679042, 2214089.5284745055], [9477671.26262703, 2192980.0789231416], [9430869.16874473, 2152265.1619226346], [9407606.77185129, 2145428.0891347327], [9398301.813093914, 2139160.4231601716], [9398486.679824192, 2139011.217898568], [9398640.735432757, 2130926.019380525], [9381848.674099082, 2116434.8230011663], [9360373.322265005, 2111219.4458937226], [9353317.57539269, 2117478.0661611757], [9338066.070144674, 2118819.46106557], [9327282.177545065, 2141935.851836191], [9320380.486281315, 2138175.689791711], [9306792.78160581, 2151906.8268172527], [9292342.365522334, 2141070.352636633], [9274410.29268527, 2137131.330607917], [9283900.118172927, 2121562.156728156], [9260144.743332075, 2111100.253595604], [9254321.441328285, 2114408.1105100485], [9240425.625435648, 2092931.9297751312], [9245201.34930119, 2086681.1523483524], [9236882.346438631, 2065681.1280504474], [9217163.228542207, 2075523.9753728448], [9213589.13842348, 2062916.492204182], [9193777.587161912, 2054238.6211820936], [9195102.46539558, 2066989.2616863188], [9187861.851792986, 2071925.2686435413], [9186444.54019418, 2083050.658991913], [9175968.758811703, 2080878.6339580687], [9175722.269837998, 2079926.5886816557], [9165431.3551858, 2061281.673108715], [9165647.033037793, 2029859.6528407221], [9154739.89595133, 2022471.6089239025], [9135975.922828013, 2031373.1995165704], [9106058.323644528, 2016924.927290036], [9101282.599778987, 2011943.1019449905], [9070440.666944107, 2001420.0297351975], [9059718.396587927, 2001864.5570453266], [9066157.921025978, 2010994.3209341364], [9075062.335201083, 2042654.1826435535], [9075647.746513633, 2054506.0334891353], [9101713.955482973, 2072252.3968079793], [9117027.082974417, 2088318.0688663952], [9123189.307317048, 2103652.179135835], [9136931.06760112, 2107375.861254759], [9144387.359055707, 2114527.323049308], [9147221.982253319, 2128360.9442113005], [9154863.140438184, 2130568.08148608], [9146143.59299336, 2165438.6387564763], [9148577.6716087, 2189957.831010404], [9141491.113614671, 2190705.86701924], [9133326.166360682, 2204175.605394642], [9134004.01103837, 2233873.231443153], [9112436.225839153, 2246593.9181075357], [9113298.937247122, 2262567.228437577], [9114130.837533379, 2263858.9125899053], [9120847.662066847, 2270108.3488626457], [9129320.72053797, 2263708.7120698756], [9129782.887363665, 2262717.419581675], [9134651.044594346, 2264309.5215548817], [9157328.030175237, 2255089.2674869583], [9165985.955376636, 2238402.4711676165], [9177447.692653935, 2247014.0904712784], [9205947.980238613, 2238042.4909890117], [9207334.480715707, 2256440.4803126855], [9194794.35417845, 2256740.7633503214], [9172240.61308441, 2264189.35807808], [9174243.335995765, 2282252.80527111], [9172024.93523242, 2297986.552244565], [9175968.758811703, 2308643.9536765576], [9164537.832656119, 2324099.394432776], [9168974.634182815, 2331605.980409867], [9165369.732942373, 2357677.5717340554], [9166787.04454118, 2362811.9324014843], [9178125.537331624, 2355503.470166459], [9181976.927545771, 2364684.836973973], [9197474.921767494, 2380914.981451915], [9198984.66673144, 2394285.1955755204], [9237282.891020905, 2395253.5738319517], [9252873.318607766, 2388566.8115038928], [9260976.643618328, 2393105.057552812], [9269572.946576305, 2421086.893984628], [9283345.517982088, 2423996.702081], [9277583.838221727, 2434215.2480120575], [9280510.894784477, 2447505.4535773834], [9293297.510295441, 2452545.0894953515], [9292311.55440062, 2470013.2372397603], [9301585.702036282, 2475758.8829863616], [9303834.913921343, 2474846.7450516964], [9303372.747095648, 2475211.594303336], [9306361.425901823, 2484882.9809070406], [9299090.001177516, 2491181.4979699366], [9301554.890914569, 2507471.259111684], [9311414.449862786, 2522343.854733292], [9322537.264801236, 2524356.3356068484], [9335354.691433914, 2536619.4631692637], [9350975.930142488, 2539701.9299811656], [9355474.353912612, 2551029.6123372507], [9351129.985751057, 2557811.6416516216], [9352978.653053844, 2557842.1976859756], [9365857.70192995, 2551823.759022753], [9372451.281976566, 2539976.63322142], [9383019.496724183, 2535826.050122561], [9398271.0019722, 2537229.806871723], [9406682.438199895, 2545166.333390376], [9434628.125593737, 2548372.5547334612], [9451882.35375311, 2545685.3934597634], [9469105.770790769, 2552740.1298973355], [9473881.494656311, 2530303.731324967], [9464792.213750927, 2508903.082102492], [9482108.064153727, 2503267.8936575325], [9492676.278901342, 2505095.3136783196], [9507835.35078422, 2514174.4704241864], [9527955.013262918, 2504425.236428203], [9548875.764906159, 2499857.244807031], [9561693.191538837, 2492946.72419186], [9576451.718839442, 2517649.0157167558], [9570104.627766531, 2524600.289295058], [9575866.307526892, 2541167.0668744193], [9569118.671871709, 2552770.676474977], [9584770.721701996, 2554145.331373207], [9604613.084085276, 2548800.098191542], [9612747.220217554, 2536802.563908075], [9632743.638209397, 2531157.891973034], [9653726.012096064, 2521429.171477406], [9653941.689948058, 2521246.2408815576], [9653109.789661802, 2512650.7761796447], [9680038.710039109, 2505491.2810714305], [9688604.201875368, 2494225.107584301], [9684567.944930943, 2484487.500717307], [9695321.02640884, 2478860.5213328763], [9696461.037912227, 2485704.39259005], [9710634.153900284, 2488412.293450016], [9716026.100200087, 2471563.456881085], [9734173.85088914, 2467004.3933739155], [9738456.596807273, 2448871.4724910385]]]}}, {\\\"id\\\": \\\"28\\\", \\\"type\\\": \\\"Feature\\\", \\\"properties\\\": {\\\"ID\\\": 23.0, \\\"deaths\\\": 0.0, \\\"discharged\\\": 1.0, \\\"state\\\": \\\"Puducherry\\\", \\\"total_cases\\\": 5.0}, \\\"geometry\\\": {\\\"type\\\": \\\"MultiPolygon\\\", \\\"coordinates\\\": [[[[8888932.348931843, 1221229.5814001246], [8888993.97117527, 1202990.759884354], [8872664.076667292, 1215053.106118048], [8876423.033516297, 1220511.3270566612], [8875529.510986615, 1222292.6266443757], [8888932.348931843, 1221229.5814001246]]], [[[8887484.226211324, 1330102.3795296093], [8883355.53590176, 1315172.1248452642], [8871431.631798765, 1320301.7722612934], [8880243.61260873, 1330823.1375084813], [8887484.226211324, 1330102.3795296093]]]]}}, {\\\"id\\\": \\\"29\\\", \\\"type\\\": \\\"Feature\\\", \\\"properties\\\": {\\\"ID\\\": 24.0, \\\"deaths\\\": 8.0, \\\"discharged\\\": 4.0, \\\"state\\\": \\\"Punjab\\\", \\\"total_cases\\\": 101.0}, \\\"geometry\\\": {\\\"type\\\": \\\"Polygon\\\", \\\"coordinates\\\": [[[8446084.0965485, 3816195.932248799], [8442910.551012043, 3790341.164856874], [8430925.024665622, 3776499.480556103], [8418261.65364151, 3771354.793246867], [8416936.775407843, 3753699.528274605], [8448548.986285552, 3734106.0152081964], [8460596.1348754, 3694584.1269987742], [8477727.11854792, 3663133.086542518], [8479514.163607284, 3650463.2109047947], [8491160.767614862, 3650859.9767761864], [8500250.048520247, 3664589.4855128266], [8507922.017826825, 3652844.001412443], [8531030.3591117, 3638302.033678783], [8528195.735914089, 3611280.445845325], [8545973.753142588, 3598664.505924423], [8552474.899824064, 3580241.5961992294], [8548715.942975057, 3568084.4619499855], [8550010.010087011, 3569496.7015349185], [8551550.566172669, 3570219.305340349], [8559869.569035225, 3562174.5173390335], [8559345.779966101, 3538169.8285849816], [8543632.107892387, 3536859.4369290564], [8542492.096388998, 3528279.7899001455], [8526008.146272454, 3514734.6915909466], [8530136.836582018, 3496338.2327201664], [8516056.153959101, 3491996.3024161444], [8507706.339974832, 3501073.631925109], [8488233.71105211, 3497415.7868319806], [8481362.830910075, 3482729.840932979], [8485707.199071633, 3463598.596001175], [8457237.722608665, 3448008.704449053], [8429785.013162235, 3458096.000615446], [8423129.810872192, 3453148.9665967035], [8398357.669014804, 3454873.699492944], [8373585.527157419, 3431983.1687211767], [8366653.024771957, 3439977.1540921926], [8374263.371835109, 3451034.049075865], [8371336.315272357, 3460472.567214759], [8368655.747683313, 3462686.7576450207], [8368840.614413591, 3461351.6845863797], [8356238.865632906, 3466725.3992662374], [8347827.4294052115, 3463859.1333459835], [8340525.193559191, 3474708.7787435353], [8326814.244396832, 3481229.578511738], [8315260.073754395, 3478490.430832396], [8315075.207024114, 3478555.64170023], [8308882.171559769, 3472264.3497214834], [8295417.7113711145, 3474936.9496694203], [8286852.219534855, 3475425.9012962785], [8225538.087325653, 3478360.010111091], [8233887.9013099205, 3507150.631825202], [8223535.364414297, 3531324.5587261934], [8236352.791046974, 3546887.458088741], [8259553.56569699, 3568412.8753124825], [8272833.159155363, 3591061.7006606236], [8296835.02296992, 3611939.599865578], [8310669.216619132, 3617807.6408228637], [8313257.350843038, 3627439.9923044187], [8294000.39977231, 3628298.037332982], [8295787.444831674, 3642761.917348657], [8309128.660533474, 3670549.314223065], [8295232.844640837, 3704543.6735330243], [8299577.212802392, 3718334.741775074], [8310207.049793435, 3728913.1611706926], [8326845.055518545, 3735670.973861993], [8340710.06028947, 3749264.8263968653], [8348782.57417832, 3744431.892501014], [8362308.6566103995, 3751531.985185114], [8375588.250068774, 3752065.4974196814], [8389453.2548397, 3771822.3992805947], [8387265.665198065, 3785190.4219899704], [8406368.560660228, 3779674.2725524306], [8407878.305624174, 3786327.404754722], [8425224.967148688, 3793118.15183964], [8446084.0965485, 3816195.932248799]]]}}, {\\\"id\\\": \\\"30\\\", \\\"type\\\": \\\"Feature\\\", \\\"properties\\\": {\\\"ID\\\": 25.0, \\\"deaths\\\": 3.0, \\\"discharged\\\": 21.0, \\\"state\\\": \\\"Rajasthan\\\", \\\"total_cases\\\": 463.0}, \\\"geometry\\\": {\\\"type\\\": \\\"Polygon\\\", \\\"coordinates\\\": [[[8295417.7113711145, 3474936.9496694203], [8299269.1015852615, 3465031.6179691823], [8290179.820679877, 3449505.0211289837], [8305030.781345623, 3450611.1079768366], [8297143.134187052, 3413966.3809033995], [8304445.370033072, 3399895.271262799], [8340864.115898036, 3401191.5007036077], [8343729.55021736, 3390695.8082908904], [8357656.177231711, 3384415.4550106167], [8391209.48877735, 3388396.972394913], [8389175.954744281, 3372995.659039207], [8397371.713119984, 3357031.3647488584], [8405844.771591105, 3356320.8624196406], [8403287.44848891, 3337184.2432708046], [8410836.173308637, 3306231.524723085], [8419001.120562626, 3297580.4361013365], [8451630.09845687, 3275255.408118129], [8466172.947905485, 3257069.940570953], [8455327.43306245, 3227487.5741613903], [8457545.833825797, 3211954.25773941], [8483211.498212865, 3209878.119196283], [8477419.00733079, 3227967.2841319405], [8500342.481885385, 3246913.6085952795], [8512851.797300933, 3247682.2709496645], [8520215.65539038, 3233821.1318750624], [8548377.020636212, 3248643.1613212433], [8555371.1452651, 3257198.145780655], [8567356.671611523, 3246977.6620962694], [8562550.13662427, 3228606.924184914], [8563443.659153951, 3208153.5710154385], [8559191.724357534, 3193790.9209169527], [8568311.81638463, 3185977.6799756708], [8575860.541204356, 3206365.3842471484], [8602296.483634254, 3204673.212087924], [8609721.963967128, 3185467.5845680586], [8609475.474993423, 3169441.2459263313], [8619673.95628048, 3153783.6532053375], [8635572.495084474, 3144753.709131033], [8644476.909259578, 3125918.1154894694], [8632214.082817739, 3118460.899736052], [8633816.261146823, 3110151.6544530354], [8648636.410690855, 3101467.180052177], [8625312.391553989, 3092123.1961073056], [8629564.326350408, 3081962.819215312], [8651286.16715819, 3089337.057236192], [8656770.546823133, 3096366.8009515596], [8668602.017560989, 3092344.844812229], [8687612.479658011, 3093579.809583258], [8698457.994501049, 3098742.520211783], [8708841.342518385, 3095828.361218029], [8706284.01941619, 3083734.8111514063], [8693528.215026941, 3077945.030654929], [8692727.1258624, 3065203.3333068234], [8682066.477749644, 3067162.8374744533], [8662100.87087951, 3048874.27090504], [8646294.765440656, 3043288.2223688867], [8629810.81532411, 3031555.276207186], [8619211.789454782, 3030577.971438136], [8601341.338861147, 3014414.959197034], [8583778.999484641, 3008118.5836625323], [8559099.290992396, 2991855.3631136385], [8548746.75409677, 2973475.3949500266], [8531677.392667677, 2968797.767034652], [8519198.888373846, 2955495.255195546], [8518212.932479022, 2922574.0549555626], [8527363.835627833, 2905281.9413924003], [8546312.675481431, 2896346.839492928], [8567017.749272678, 2894035.8463102398], [8579989.231513923, 2899251.712064447], [8588708.778958747, 2896003.290453756], [8605593.273657564, 2911095.8099172376], [8616839.333082868, 2885357.2533850684], [8614651.743441233, 2872598.3970362386], [8605315.973562146, 2867953.0433853087], [8590465.012896396, 2871600.6141307475], [8580204.909365915, 2864773.843301408], [8569790.750226865, 2867173.7645189785], [8557065.756959327, 2859040.5402489402], [8565908.548891004, 2842165.0702964854], [8549578.654383026, 2836533.7898726063], [8554539.244978847, 2829629.811809928], [8573734.573806148, 2822915.4818188814], [8578232.99757627, 2814091.9500895403], [8577216.230559736, 2799966.42938975], [8567171.804881245, 2791900.6311663142], [8555063.03404797, 2792986.1613665544], [8553460.855718886, 2779809.9763249718], [8565353.948700167, 2760144.4377218043], [8560454.980347775, 2751945.0366386697], [8548315.398392785, 2751295.4602725124], [8528904.39171349, 2767914.7161515565], [8518521.043696156, 2755812.131980491], [8511865.841406109, 2763796.9052818133], [8499572.203842556, 2766211.7274153354], [8473998.97282063, 2760949.1437963457], [8475262.22881087, 2747584.1225330033], [8455851.222131573, 2739113.2586945617], [8457576.64494751, 2727898.075742701], [8421250.332447687, 2711753.844338317], [8399774.98061361, 2726446.5674472493], [8406214.505051663, 2741926.0576214013], [8426919.57884291, 2732284.312002651], [8435762.37077459, 2743564.5180439684], [8431726.113830162, 2752965.855069866], [8439459.70538017, 2772498.2480083024], [8430863.402422195, 2784986.0778572196], [8449534.942180373, 2790194.955116681], [8450366.84246663, 2806111.733231025], [8443865.695785152, 2810644.7229649406], [8442325.139699494, 2824718.108449361], [8431541.247099884, 2828448.368998339], [8417244.886624975, 2819683.7279263325], [8399282.002666198, 2820274.0925694727], [8374386.616321961, 2825370.837036705], [8382397.5079673845, 2835134.0772766015], [8386526.198276949, 2853184.887114815], [8383537.519470772, 2863309.147412197], [8366190.857946259, 2861221.426892603], [8362185.412123547, 2844156.7499659564], [8353804.787017566, 2840515.9118608194], [8329710.48983787, 2845370.5602533002], [8333222.957713171, 2834885.2532042596], [8350415.563629118, 2832521.631009494], [8348936.629786885, 2822138.5543750725], [8334886.758285682, 2817384.6341236634], [8328755.34506476, 2829070.1693864707], [8320898.509027905, 2808533.2978564235], [8321946.087166152, 2795374.601759356], [8333099.713226318, 2790846.1905882405], [8324996.388215755, 2780615.720590126], [8323640.698860376, 2769029.502566885], [8335102.436137673, 2769772.738755966], [8337875.43709186, 2757173.5817290507], [8348166.351744057, 2739638.6876048497], [8338399.226160983, 2720055.3738816874], [8342343.049740267, 2703950.1304472517], [8332421.868548628, 2682502.3185856245], [8305924.303875306, 2670896.9953824864], [8297050.700821913, 2654227.378846958], [8312148.150461365, 2639571.3885466023], [8297235.56755219, 2627537.149030193], [8281182.973139633, 2628795.4073834266], [8273572.626076479, 2622873.2502048775], [8265438.489944203, 2636807.6219731807], [8251789.163025271, 2636838.3278561244], [8252805.930041807, 2647189.5861609466], [8241282.570521081, 2655334.0410312354], [8225877.009664498, 2655918.1439226214], [8218359.095966485, 2669143.0890518744], [8196760.499645555, 2669820.0122213867], [8199872.422938585, 2690418.5603658217], [8189858.808381806, 2694116.231094453], [8167551.556261473, 2713574.2459283248], [8173097.558169844, 2726755.3875908116], [8172388.90237044, 2742235.1877453374], [8151252.472875209, 2747955.2159490585], [8135538.800801494, 2758473.260292659], [8146384.315644528, 2778570.453113361], [8124200.308011049, 2790784.1669567684], [8118962.417319809, 2776835.2902528555], [8096562.731834339, 2779871.955137308], [8088336.162336922, 2791435.427748414], [8075364.680095678, 2797329.06066677], [8066737.566015993, 2785451.0834925873], [8054844.473034711, 2803131.879581672], [8047850.348405822, 2801424.936772354], [8024464.707025528, 2815334.387673371], [8007703.456813565, 2812166.374557003], [7992636.818295826, 2817508.9004714317], [7977323.690804383, 2812973.843979881], [7958035.928611942, 2817912.773197807], [7936837.876873283, 2809837.378424437], [7926762.640073077, 2813719.238821949], [7922788.005372078, 2814868.4615536197], [7915609.0140129095, 2818720.551215665], [7897615.3189324215, 2849697.509221861], [7891915.261415486, 2875311.4599672644], [7867420.419653519, 2905313.1925717336], [7868190.697696348, 2938633.764467693], [7859347.905764669, 2943834.2834002194], [7836855.786914057, 2939009.642983769], [7824130.793646518, 2943301.614263198], [7804226.809019813, 2971026.513708809], [7801330.563578775, 2987517.446103561], [7811590.667109261, 3010573.8378201756], [7811036.0669184225, 3048369.2260345602], [7795137.528114431, 3054304.6514950246], [7776281.121625971, 3052346.9464144357], [7739184.5310833175, 3071303.984534648], [7734901.785165188, 3080032.8705156683], [7738167.764066784, 3106189.0822587465], [7746363.522442486, 3126203.79138949], [7776989.777425374, 3154228.9457934285], [7794182.383341321, 3173358.4624254685], [7804380.864628379, 3199725.6268751947], [7815472.868445121, 3214541.894909049], [7833127.6411867635, 3229950.267872724], [7855003.537603111, 3231389.714459946], [7867173.930679812, 3218184.599860217], [7867882.586479214, 3208760.331263553], [7876694.567289181, 3193503.823929638], [7893301.761892579, 3191430.526930244], [7926916.695681642, 3206908.2015303336], [7949285.570045401, 3212082.030589958], [7976953.957343825, 3212497.30074777], [8003451.522017149, 3223522.6301622977], [8007272.10110958, 3244223.6397451395], [8014543.525833887, 3254890.6413443643], [8038237.278431314, 3279171.599991218], [8048620.626448653, 3312570.701849635], [8057833.151840888, 3325064.9720721575], [8097548.687729159, 3348378.8065558155], [8120071.617701485, 3358710.8888928373], [8156521.17468816, 3425650.042274712], [8169215.356833984, 3472720.607119001], [8194357.232151928, 3485045.8150869682], [8214723.383604333, 3491115.04155926], [8233887.9013099205, 3507150.631825202], [8225538.087325653, 3478360.010111091], [8286852.219534855, 3475425.9012962785], [8295417.7113711145, 3474936.9496694203]]]}}, {\\\"id\\\": \\\"31\\\", \\\"type\\\": \\\"Feature\\\", \\\"properties\\\": {\\\"ID\\\": 0.0, \\\"deaths\\\": 0.0, \\\"discharged\\\": 0.0, \\\"state\\\": \\\"Sikkim\\\", \\\"total_cases\\\": 0.0}, \\\"geometry\\\": {\\\"type\\\": \\\"Polygon\\\", \\\"coordinates\\\": [[[9827069.382854339, 3120332.7569987145], [9806425.931306519, 3121030.802820628], [9798014.495078823, 3131315.2197220707], [9803806.985960899, 3145834.4443617854], [9801311.28510213, 3163647.110357138], [9812495.722284012, 3187029.812513844], [9818812.00223521, 3208536.7848287765], [9808798.387678433, 3217896.981930334], [9839393.831539607, 3226144.4777285927], [9860098.905330854, 3239645.536818417], [9879725.589862142, 3238109.1832206645], [9889708.393297207, 3227775.3980796966], [9894083.572580477, 3215787.9721721094], [9890355.426853184, 3187444.3114446704], [9881512.634921504, 3174473.3241469557], [9884347.258119117, 3155914.828011062], [9895161.961840438, 3145961.5952993985], [9877661.24470736, 3121157.7240463267], [9858342.671393204, 3127568.7693274347], [9844200.366526859, 3114210.5074890307], [9827069.382854339, 3120332.7569987145]]]}}, {\\\"id\\\": \\\"32\\\", \\\"type\\\": \\\"Feature\\\", \\\"properties\\\": {\\\"ID\\\": 26.0, \\\"deaths\\\": 8.0, \\\"discharged\\\": 21.0, \\\"state\\\": \\\"Tamil Nadu\\\", \\\"total_cases\\\": 834.0}, \\\"geometry\\\": {\\\"type\\\": \\\"Polygon\\\", \\\"coordinates\\\": [[[8887484.226211324, 1330102.3795296093], [8880243.61260873, 1330823.1375084813], [8871431.631798765, 1320301.7722612934], [8883355.53590176, 1315172.1248452642], [8878518.189792793, 1289824.6441983816], [8884865.280865707, 1271230.4270828972], [8889856.682583237, 1239708.505448549], [8888932.348931843, 1221229.5814001246], [8875529.510986615, 1222292.6266443757], [8876423.033516297, 1220511.3270566612], [8872664.076667292, 1215053.106118048], [8888993.97117527, 1202990.759884354], [8890626.960626068, 1158254.2634869856], [8887268.548359333, 1142428.240340107], [8865146.16296928, 1147215.427858142], [8838402.10932225, 1147186.7601144107], [8824044.126603914, 1137297.7887334146], [8819453.269468652, 1122541.1471522148], [8823427.90416965, 1116038.7056406075], [8811504.000066655, 1103867.6933860665], [8807529.365365658, 1094792.2113152076], [8792000.56002222, 1076390.480695171], [8783219.390333967, 1051792.727772865], [8801521.19663159, 1032897.6086062371], [8778659.34432042, 1027725.2199544125], [8747016.322320998, 1014068.8383325737], [8728745.32714509, 1011897.9683280754], [8706407.263903044, 994963.5463586702], [8701662.351159217, 986028.0277803608], [8702001.273498062, 970873.5459052692], [8694206.059704632, 955924.312055653], [8697441.227484513, 943119.0169190562], [8689029.791256819, 930203.5680762957], [8651316.978279904, 906065.1993347019], [8639824.429880891, 904298.8060232099], [8631289.749166343, 896265.4557587213], [8605654.895900989, 901877.2526892939], [8581683.843208147, 920740.4123405712], [8588277.423254764, 923476.5332547976], [8592868.280390026, 942063.9656144294], [8601125.661009153, 947596.1491625297], [8590187.71280098, 966622.1649272465], [8599092.126976084, 980519.2503379683], [8586305.51146512, 1000674.1831200947], [8599615.91604521, 1015354.278233958], [8601310.527739434, 1031925.9470667033], [8615699.321579482, 1054966.6521206442], [8605470.02917071, 1065805.752823834], [8588801.212323887, 1068151.2989198733], [8594778.569936242, 1080224.6106412078], [8600694.30530517, 1107389.7055938956], [8592529.35805118, 1122226.023596608], [8600663.494183457, 1125921.7387236736], [8599492.671558356, 1139991.8989891077], [8589756.357096996, 1150397.6938196647], [8569544.26125316, 1136180.0800912532], [8551519.755050955, 1144635.4250888797], [8552659.766554344, 1177243.5826304723], [8557435.490419885, 1182236.4839342972], [8560177.680252355, 1198138.3347916463], [8551304.077198964, 1208389.5538284613], [8532940.648657916, 1214938.2059134925], [8542738.585362703, 1236345.3080600048], [8517442.654436193, 1253481.1464340403], [8520184.844268665, 1263605.9406939899], [8500527.348615665, 1274482.1820830496], [8489003.989094941, 1277331.3404541197], [8493440.790621638, 1287607.726091974], [8507429.039879415, 1298319.4940962982], [8516395.076297946, 1302697.4106104253], [8521910.267084602, 1293078.3291894507], [8555001.411804544, 1291840.161173554], [8552690.577676056, 1297167.51376812], [8560424.16922606, 1312319.4912956713], [8572101.58435535, 1314566.9985375504], [8580050.85375735, 1305635.5711500929], [8598506.715663534, 1314509.368085036], [8619581.522915341, 1311022.9275077544], [8626205.914083673, 1328891.5447892593], [8645493.676276114, 1331515.0813375888], [8656986.224675126, 1349165.0277490849], [8652456.98978329, 1355743.1619850248], [8623432.913129486, 1359696.5135231423], [8638807.662864357, 1376872.326142838], [8641210.930357983, 1390851.3494332116], [8638160.62930838, 1407149.476197093], [8655106.746250622, 1414637.0021711332], [8663518.182478318, 1434131.168288994], [8673377.74142653, 1435780.4022077145], [8682189.722236495, 1428981.5511589546], [8707485.653163007, 1422039.734108102], [8708225.12008412, 1414868.308382958], [8723938.792157834, 1406108.8941665706], [8744397.376975378, 1415764.6376959619], [8752469.890864227, 1440381.4090558512], [8751976.912916817, 1447154.0781670494], [8772065.764273802, 1458706.1478130757], [8792216.237874214, 1458764.0650467656], [8811226.699971236, 1450946.3332762027], [8819422.458346939, 1465425.3570968541], [8827494.972235788, 1463166.1300198247], [8841051.865789583, 1471074.2363745263], [8840682.132329023, 1486694.3840357254], [8853869.29242226, 1485447.9212085342], [8857166.082445567, 1478462.9882621837], [8868935.930939998, 1476898.1448415746], [8897251.351794397, 1488288.78034205], [8901318.419860536, 1501395.3780237653], [8910623.378617913, 1509459.684410856], [8929633.840714935, 1504876.076358022], [8940386.922192832, 1498756.1486946866], [8944053.4456767, 1487332.1313213427], [8934779.298041036, 1444954.227776536], [8933824.153267926, 1425047.6456611785], [8923071.071790032, 1390158.0162560602], [8892752.928024277, 1344174.6923091852], [8887484.226211324, 1330102.3795296093]]]}}, {\\\"id\\\": \\\"33\\\", \\\"type\\\": \\\"Feature\\\", \\\"properties\\\": {\\\"ID\\\": 28.0, \\\"deaths\\\": 0.0, \\\"discharged\\\": 0.0, \\\"state\\\": \\\"Tripura\\\", \\\"total_cases\\\": 1.0}, \\\"geometry\\\": {\\\"type\\\": \\\"Polygon\\\", \\\"coordinates\\\": [[[10267483.556622343, 2796801.642118034], [10271704.680297047, 2781855.4105428327], [10270287.36869824, 2766397.4987756484], [10274416.059007805, 2766583.272395697], [10278606.371560797, 2754327.052011231], [10278205.826978523, 2726508.3309827186], [10270256.557576528, 2713635.958194728], [10271273.324593062, 2703179.2247672444], [10258147.786743253, 2703641.7635990027], [10249274.18368986, 2693037.6534923785], [10234977.823214954, 2697537.355383981], [10238736.780063959, 2675082.543563758], [10224748.53080618, 2663821.0238245986], [10215905.738874502, 2647066.6830229913], [10222961.485746818, 2626371.0468082572], [10214241.938301992, 2617198.6269700862], [10192735.7753462, 2612507.076741771], [10181027.549095197, 2646144.939808426], [10166299.832916304, 2645868.4272756213], [10158319.752392594, 2674313.0578208086], [10148182.893348962, 2691065.5896541225], [10149261.282608923, 2706016.3457905403], [10158751.10809658, 2716629.297556178], [10155916.484898966, 2723852.721559962], [10164173.865518095, 2735868.3594677257], [10174218.291196588, 2742266.1010992276], [10200654.233626483, 2748480.9469675184], [10203581.290189236, 2758782.723829746], [10212824.626703184, 2765994.9970174446], [10231588.599826505, 2756864.1507073715], [10238983.269037664, 2782227.33724632], [10254666.129989665, 2782599.273052959], [10259380.23161178, 2798228.8171139886], [10267483.556622343, 2796801.642118034]]]}}, {\\\"id\\\": \\\"34\\\", \\\"type\\\": \\\"Feature\\\", \\\"properties\\\": {\\\"ID\\\": 30.0, \\\"deaths\\\": 4.0, \\\"discharged\\\": 31.0, \\\"state\\\": \\\"Uttar Pradesh\\\", \\\"total_cases\\\": 410.0}, \\\"geometry\\\": {\\\"type\\\": \\\"Polygon\\\", \\\"coordinates\\\": [[[9218118.373315314, 2731573.7807556684], [9207057.180620288, 2745821.551181272], [9213250.216084633, 2771507.0973698315], [9207919.892028257, 2803690.5573245827], [9213435.082814915, 2813967.7119745216], [9202281.456754748, 2821081.9975892673], [9187122.38487187, 2815241.201294747], [9174982.802916883, 2821734.5679989713], [9173750.358048355, 2808657.491143719], [9161425.909363087, 2812321.6537744952], [9151443.105928022, 2833019.204640234], [9140690.024450127, 2832335.045164617], [9117366.00531326, 2843534.3214909127], [9117242.760826409, 2855582.934017091], [9088896.528850295, 2866862.0644594943], [9079036.969902081, 2880832.679339712], [9070717.967039526, 2866862.0644594943], [9055774.573008642, 2878149.7949145483], [9046777.725468395, 2877869.056144069], [9046007.447425567, 2866051.6750159455], [9034853.8213654, 2852624.3605123204], [9000930.776359202, 2849884.3123136987], [9002471.332444862, 2866363.3580143224], [8989130.116743062, 2874999.5883045923], [8980533.813785087, 2864306.3714349633], [8969965.599037472, 2868482.9764535343], [8957887.639325911, 2863153.337220421], [8949445.391976504, 2866488.033050771], [8935272.275988447, 2861377.2167810127], [8950277.292262757, 2884701.884172454], [8939246.910689443, 2894004.6191638536], [8939955.566488847, 2905625.7080357536], [8926583.539665332, 2907407.1736596157], [8919712.659523297, 2899345.427212212], [8907881.188785441, 2899657.8153649024], [8905262.243439822, 2890726.138188357], [8888316.12649758, 2886605.656416583], [8890041.549313517, 2876777.3450295], [8868412.141870875, 2873222.0455620643], [8855502.281873059, 2878399.3449730077], [8848785.457339587, 2867797.184329582], [8837570.209035996, 2872442.4890170535], [8843485.944404922, 2884701.884172454], [8827063.616531806, 2899314.1887630615], [8823212.226317659, 2895628.518856212], [8825030.082498737, 2872380.1262698984], [8809624.521642152, 2872161.858727048], [8797176.828470033, 2886387.178242092], [8779491.244606676, 2880926.2771428516], [8771233.863987548, 2893536.2199367], [8786362.12474871, 2910095.4097808325], [8787779.436347516, 2922730.4967455957], [8750097.434492316, 2908719.971403687], [8740915.72022179, 2892911.7108719135], [8754380.180410445, 2865210.1636867537], [8752500.701985942, 2853029.1831608997], [8768029.507329378, 2840764.829755876], [8766643.006852284, 2809216.373602275], [8781062.611814048, 2813750.297741635], [8788179.98092979, 2803224.991103018], [8790706.49291027, 2779345.1432833443], [8778443.666468428, 2761939.6093832427], [8770247.908092726, 2758473.260292659], [8738574.07497159, 2783901.1200853335], [8725849.081704054, 2769153.3727509584], [8723291.75860186, 2781917.397694649], [8711953.265811415, 2791125.3000712134], [8712754.354975956, 2817384.6341236634], [8701908.840132922, 2843689.926173476], [8719378.746144287, 2857638.7109396295], [8719132.257170582, 2867953.0433853087], [8725818.270582339, 2881550.277685608], [8719810.101848273, 2898876.857463676], [8720241.457552256, 2910439.2896020547], [8729854.527526766, 2916411.58511693], [8736478.918695096, 2928770.4357487094], [8755119.647331562, 2926955.0608982495], [8771357.1084744, 2933309.8655068865], [8767598.151625393, 2945996.4948122716], [8773729.564846314, 2959572.548956896], [8794588.694246128, 2990440.680125539], [8794311.394150708, 2999465.621574369], [8807221.254148526, 3023990.810530845], [8794003.282933578, 3048369.2260345602], [8792431.915726205, 3065076.923118249], [8779213.944511257, 3067415.6967423996], [8773236.586898902, 3074971.980749456], [8758324.00398973, 3078292.982224858], [8745907.121939324, 3073991.6459070714], [8725849.081704054, 3082722.2166863536], [8723260.947480146, 3088102.469958281], [8706284.01941619, 3083734.8111514063], [8708841.342518385, 3095828.361218029], [8698457.994501049, 3098742.520211783], [8687612.479658011, 3093579.809583258], [8668602.017560989, 3092344.844812229], [8656770.546823133, 3096366.8009515596], [8651286.16715819, 3089337.057236192], [8629564.326350408, 3081962.819215312], [8625312.391553989, 3092123.1961073056], [8648636.410690855, 3101467.180052177], [8633816.261146823, 3110151.6544530354], [8632214.082817739, 3118460.899736052], [8644476.909259578, 3125918.1154894694], [8635572.495084474, 3144753.709131033], [8619673.95628048, 3153783.6532053375], [8609475.474993423, 3169441.2459263313], [8609721.963967128, 3185467.5845680586], [8602296.483634254, 3204673.212087924], [8629410.270741839, 3220389.875620691], [8631166.504679492, 3228095.2096958035], [8624264.813415742, 3241918.384398836], [8631474.615896624, 3252871.9036810254], [8620136.123106178, 3283153.1823659516], [8609198.174898004, 3292919.571770676], [8609105.741532864, 3293755.1914322563], [8604299.206545608, 3301824.867591883], [8608027.352272904, 3315113.6705958275], [8593515.313946001, 3329028.2808596967], [8595795.336952776, 3334088.889416695], [8592406.113564327, 3338087.193500151], [8591420.157669507, 3340441.6085051107], [8595456.414613932, 3355674.9850337845], [8585442.80005715, 3367790.553989565], [8586336.322586834, 3376714.87751496], [8588770.401202174, 3395132.753808242], [8585411.988935439, 3412409.367350866], [8581129.243017308, 3431236.0205694376], [8587199.033994801, 3446089.7743552583], [8591574.213278072, 3469690.0640839483], [8601711.072321704, 3488373.7370610097], [8602820.27270338, 3488895.8441153993], [8617239.877665138, 3496403.536390691], [8635603.306206187, 3531455.533260851], [8634278.427972522, 3534042.5633570724], [8675288.030972745, 3513819.1294272915], [8654059.168112373, 3481425.254757648], [8652857.53436556, 3463403.196522126], [8655938.646536877, 3445894.645199901], [8664473.327251425, 3440302.2193071013], [8676828.587058404, 3442252.785494183], [8680556.732785698, 3425292.8828574843], [8719840.912969984, 3456142.992801666], [8737187.574494498, 3449147.1901874025], [8739868.142083542, 3437604.4301794125], [8760111.049049094, 3419547.2393453117], [8782664.790143132, 3412831.03978154], [8781678.83424831, 3406831.626042596], [8763900.817019813, 3394614.491272167], [8779121.511146117, 3386551.7256622068], [8783650.746037953, 3375615.170762184], [8802353.096917845, 3374192.1600994985], [8825276.571472442, 3350476.8444105885], [8868412.141870875, 3335733.204507135], [8880459.290460723, 3341248.013015186], [8896912.429455554, 3321135.0738078956], [8904245.476423288, 3319138.365403535], [8913612.05742409, 3333379.6411232813], [8918880.75923704, 3333250.6910375743], [8947103.746726302, 3308033.2123827063], [8965836.908727907, 3315821.9270840366], [8985309.537650628, 3300345.591814991], [9027027.796450255, 3276924.4626970007], [9040523.067760622, 3274196.3097238694], [9052755.08308075, 3253672.9533554134], [9066835.765703669, 3249027.5368976826], [9070348.233578969, 3239261.431830613], [9101159.355292136, 3221764.3614125964], [9106366.43486166, 3217066.1203285903], [9115609.771375611, 3211027.940912274], [9124883.919011272, 3220006.323344948], [9136314.845166856, 3219207.2913460038], [9178372.026305329, 3188655.9965723497], [9206903.125011722, 3193408.1262907255], [9212510.74916352, 3177404.2548485533], [9210107.48166989, 3166925.905753419], [9231890.9447211, 3166448.3620957984], [9243537.548728677, 3159955.4321072693], [9258049.587055579, 3161037.3720301297], [9278970.338698817, 3146374.844014344], [9283037.406764958, 3163806.2569317324], [9308179.282082902, 3162533.1364476173], [9335077.391338496, 3147773.624687992], [9340161.226421168, 3139065.3634406617], [9339483.381743478, 3138779.4196310216], [9339267.703891486, 3138557.023017027], [9349188.885083126, 3126679.9310854026], [9344259.105609018, 3115225.407402979], [9355320.298304047, 3108471.385012164], [9356275.443077154, 3091648.2465212937], [9378890.806414617, 3084810.773576272], [9377812.417154657, 3070671.6688710023], [9396175.845695704, 3059168.521866985], [9381294.073908245, 3054620.4359807675], [9360250.077778153, 3059421.236616301], [9356152.198590301, 3047453.8785019354], [9346662.373102646, 3043130.456627327], [9359418.177491896, 3027741.018360953], [9369924.769996088, 3026511.8490022793], [9369924.769996088, 3013375.8647120344], [9351160.796872769, 3002328.382609917], [9356213.820833728, 2993144.418626845], [9358555.466083929, 2992578.477472792], [9383820.585888725, 2973820.783629747], [9410010.039344916, 2964686.4797579315], [9419869.59829313, 2955024.8724297914], [9408315.427650692, 2940701.2170026163], [9394666.10073176, 2946999.3692695], [9393649.333715225, 2948064.9996229187], [9386316.286747491, 2940012.0333711514], [9359356.555248471, 2935783.6695838976], [9342040.70484567, 2926454.307724466], [9326604.332867375, 2906469.533130885], [9317022.07401458, 2906188.252691634], [9301215.968575725, 2896096.984848599], [9298874.323325524, 2895972.059121745], [9276905.993544037, 2880146.3136064587], [9278693.0386034, 2846428.8345132116], [9282513.617695834, 2831650.9169737785], [9283376.329103801, 2830780.253598927], [9292927.776834883, 2825712.75382804], [9299829.468098633, 2811917.9311402906], [9294961.310867952, 2800028.4906657436], [9283253.08461695, 2796894.714643259], [9289138.008864164, 2780119.872912724], [9277244.915882882, 2749439.67927254], [9275550.304188658, 2748326.3183295424], [9260606.910157772, 2726477.449184159], [9234355.834458154, 2720611.0251668477], [9218118.373315314, 2731573.7807556684]]]}}, {\\\"id\\\": \\\"35\\\", \\\"type\\\": \\\"Feature\\\", \\\"properties\\\": {\\\"ID\\\": 29.0, \\\"deaths\\\": 0.0, \\\"discharged\\\": 5.0, \\\"state\\\": \\\"Uttarakhand\\\", \\\"total_cases\\\": 35.0}, \\\"geometry\\\": {\\\"type\\\": \\\"Polygon\\\", \\\"coordinates\\\": [[[8913612.05742409, 3333379.6411232813], [8904245.476423288, 3319138.365403535], [8896912.429455554, 3321135.0738078956], [8880459.290460723, 3341248.013015186], [8868412.141870875, 3335733.204507135], [8825276.571472442, 3350476.8444105885], [8802353.096917845, 3374192.1600994985], [8783650.746037953, 3375615.170762184], [8779121.511146117, 3386551.7256622068], [8763900.817019813, 3394614.491272167], [8781678.83424831, 3406831.626042596], [8782664.790143132, 3412831.03978154], [8760111.049049094, 3419547.2393453117], [8739868.142083542, 3437604.4301794125], [8737187.574494498, 3449147.1901874025], [8719840.912969984, 3456142.992801666], [8680556.732785698, 3425292.8828574843], [8676828.587058404, 3442252.785494183], [8664473.327251425, 3440302.2193071013], [8655938.646536877, 3445894.645199901], [8652857.53436556, 3463403.196522126], [8654059.168112373, 3481425.254757648], [8675288.030972745, 3513819.1294272915], [8634278.427972522, 3534042.5633570724], [8657047.846918551, 3546854.673554301], [8661299.781714968, 3554102.168340901], [8648205.054986874, 3580899.081116452], [8658834.891977916, 3594220.7348860167], [8661207.348349828, 3617741.6920831865], [8672022.05207115, 3631301.6720887483], [8708810.531396672, 3641142.9550483786], [8724031.225522975, 3648016.775528735], [8735246.473826567, 3637113.0083589917], [8749789.323275182, 3641275.107129691], [8755366.136305265, 3636353.4143022485], [8771418.730717827, 3637278.143795123], [8780877.745083768, 3624173.3749396484], [8793880.038446724, 3625955.0574591244], [8783866.423889944, 3644281.956390956], [8800566.051858481, 3671940.3652629154], [8808576.943503905, 3667569.031438021], [8821856.536962278, 3649140.751978936], [8827587.405600928, 3630047.316736272], [8849586.546504129, 3616093.089583774], [8859353.672087204, 3603505.115084445], [8877224.122680841, 3611544.1031799186], [8892198.327833438, 3601101.035661386], [8923286.749642022, 3586489.1246986757], [8931975.485965138, 3577283.349332977], [8929048.429402387, 3556890.798011851], [8936504.720856974, 3555873.6954473564], [8964635.274981093, 3541315.333561985], [8971629.399609983, 3544002.7512968206], [8999698.331490677, 3521538.1165722525], [9016213.092728935, 3516827.657569033], [9003580.532826535, 3499146.598141281], [8981026.7917325, 3476827.6679218253], [8972954.277843649, 3476925.471421173], [8967377.464813566, 3463403.196522126], [8946271.846440047, 3448984.5431018337], [8952125.959565548, 3437669.430406479], [8943652.90109443, 3419644.6015623426], [8933146.308590239, 3411630.9317333526], [8939616.644150002, 3391116.766471502], [8936104.1762747, 3373286.689621041], [8921807.815799793, 3367984.495414305], [8912256.368068712, 3344345.0713705034], [8913612.05742409, 3333379.6411232813]]]}}, {\\\"id\\\": \\\"36\\\", \\\"type\\\": \\\"Feature\\\", \\\"properties\\\": {\\\"ID\\\": 31.0, \\\"deaths\\\": 5.0, \\\"discharged\\\": 16.0, \\\"state\\\": \\\"West Bengal\\\", \\\"total_cases\\\": 116.0}, \\\"geometry\\\": {\\\"type\\\": \\\"MultiPolygon\\\", \\\"coordinates\\\": [[[[9755556.76935808, 2765437.704400101], [9757066.514322026, 2765933.0746114627], [9766772.017661672, 2771073.489225566], [9774690.475941956, 2785110.0779673895], [9773519.653316855, 2800400.863674389], [9785967.346488977, 2807850.2530675544], [9781130.000380008, 2830158.3821943915], [9784642.46825531, 2839924.7484987862], [9791852.270736191, 2849853.1783022163], [9770808.2746061, 2869792.304236022], [9772472.075178608, 2884639.4695783365], [9772348.830691757, 2912596.5385886156], [9791174.426058501, 2923575.311463735], [9803961.041569464, 2916505.4103033547], [9803683.741474045, 2918507.158101223], [9798445.850782808, 2929552.994845415], [9800941.551641574, 2942800.2965156133], [9785535.990784992, 2952296.9548361376], [9775830.487445343, 2972093.923381284], [9779312.14419893, 2985883.2103803204], [9792714.98214416, 2991635.292104479], [9825189.904429836, 3022037.314874821], [9822447.714597363, 3035812.0706218854], [9816408.734741583, 3047390.7532848944], [9807935.676270464, 3046475.4695148263], [9817333.068392979, 3075699.3705128874], [9809568.66572126, 3102481.143922028], [9800602.629302727, 3108598.1906670555], [9798014.495078823, 3131315.2197220707], [9806425.931306519, 3121030.802820628], [9827069.382854339, 3120332.7569987145], [9844200.366526859, 3114210.5074890307], [9858342.671393204, 3127568.7693274347], [9877661.24470736, 3121157.7240463267], [9892943.56107709, 3117604.37193945], [9893929.516971912, 3108851.805469969], [9905730.176588053, 3094244.836169635], [9916976.236013358, 3091331.6224964154], [9921813.582122326, 3080380.8742709584], [9950221.436341867, 3086899.6443215027], [9966243.219632713, 3081614.7758951862], [9978875.779535113, 3072663.560262711], [10003339.810175367, 3066878.3762691915], [10004233.332705049, 3035685.9248997886], [9992247.806358624, 3019454.073563078], [9987441.271371372, 3000818.2830469264], [9979800.113186507, 2988806.1099318545], [9968061.075813789, 2979599.4284158065], [9947848.979969952, 2981295.777594361], [9925264.427754201, 2997892.9209727645], [9918547.603220731, 3027835.574280647], [9902772.30890359, 3034582.1979921814], [9887582.425898999, 3017438.212712724], [9870759.55344361, 3030577.971438136], [9850023.66853065, 3037199.7481093053], [9845556.05588224, 3024337.4266591165], [9835265.141230041, 3015076.2407963863], [9835357.574595181, 3007489.0996908485], [9816193.056889594, 2998301.8064216212], [9817055.76829756, 2988114.6173251965], [9808582.70982644, 2972125.318985289], [9807874.054027038, 2958694.265115956], [9813697.356030826, 2952767.2486610785], [9826360.727054935, 2953268.9123017103], [9846942.556359332, 2938602.4416981363], [9845556.05588224, 2930742.565405262], [9870143.331009347, 2915317.002530034], [9889862.448905773, 2913190.619628181], [9890016.504514338, 2902032.182951674], [9902772.30890359, 2889602.2559277858], [9898859.296446018, 2878118.6014540344], [9875073.110483455, 2883328.824203149], [9845617.678125666, 2879303.9993252796], [9846542.01177706, 2862685.9164726813], [9840348.976312716, 2853932.288797072], [9825836.937985813, 2844685.8346043155], [9821769.869919676, 2852562.0810831664], [9797059.350305714, 2817167.1704872022], [9818996.86896549, 2791621.507401545], [9832584.573640997, 2782971.2179642613], [9844847.400082838, 2782258.3315491625], [9878154.22265477, 2768503.065501635], [9873994.721223492, 2756152.483075856], [9878123.411533056, 2742791.6376164174], [9877753.6780725, 2725643.663925018], [9860222.149817707, 2719036.7315857084], [9858650.782610334, 2693160.915738451], [9881204.523704374, 2668589.2644460043], [9873686.61000636, 2650569.795467015], [9883546.168954574, 2641506.31068271], [9897811.71830777, 2643011.412847392], [9903142.042364147, 2638189.445304226], [9892974.372198801, 2626892.713602989], [9892820.316590238, 2611587.325649944], [9903819.887041839, 2596388.3872956275], [9898612.807472311, 2583345.869813237], [9902895.553390441, 2578235.8198189596], [9900492.285896815, 2563801.7153727827], [9892851.12771195, 2560806.404238948], [9890663.538070315, 2539091.4947347576], [9877784.489194212, 2518898.8106350573], [9865059.495926673, 2508110.9946014797], [9863149.206380459, 2484396.237380107], [9854891.825761331, 2477978.6248728842], [9842444.132589208, 2483757.407897837], [9830766.71745992, 2478282.72188331], [9820290.936077442, 2467429.8539307206], [9813235.189205127, 2490694.5717308028], [9801989.129779823, 2497117.049268278], [9793916.615890972, 2478556.4138879054], [9772718.564152313, 2459165.6772288545], [9738456.596807273, 2448871.4724910385], [9734173.85088914, 2467004.3933739155], [9716026.100200087, 2471563.456881085], [9710634.153900284, 2488412.293450016], [9696461.037912227, 2485704.39259005], [9695321.02640884, 2478860.5213328763], [9684567.944930943, 2484487.500717307], [9688604.201875368, 2494225.107584301], [9680038.710039109, 2505491.2810714305], [9653109.789661802, 2512650.7761796447], [9653941.689948058, 2521246.2408815576], [9656714.690902242, 2520362.104780441], [9665064.50488651, 2526735.037391401], [9667436.961258423, 2542876.558043816], [9657639.024553636, 2564229.6617877716], [9646639.454102037, 2564015.687178809], [9644359.431095261, 2573922.5970541285], [9635270.150189877, 2580255.1683863443], [9619802.967089867, 2588488.1432796754], [9621620.823270943, 2605211.8312677243], [9617214.83286596, 2612231.1458855765], [9596448.136831287, 2614622.7041480993], [9577591.73034283, 2632601.4750571623], [9564004.025667325, 2630913.1879026433], [9555099.611492218, 2638435.115336785], [9558211.534785248, 2664713.0366977993], [9557995.856933255, 2666897.1431232113], [9578084.70829024, 2674374.615295303], [9586773.444613352, 2684504.1032313895], [9600145.471436867, 2667327.847688026], [9612654.786852412, 2671173.9458105606], [9614072.098451218, 2682440.7292621206], [9623007.323748037, 2691466.1450020033], [9632312.282505415, 2691127.2128863833], [9652616.81171439, 2699386.923836856], [9661644.470376348, 2698184.679415443], [9661736.903741488, 2715610.8802132197], [9662229.881688898, 2715672.600574256], [9674431.085887313, 2721444.539451052], [9701360.00626462, 2711136.807444518], [9717135.30058176, 2729658.5984556084], [9721109.93528276, 2739700.503949069], [9733680.872941732, 2733396.513518882], [9741630.142343728, 2740875.061633873], [9755556.76935808, 2765437.704400101]]], [[[9890725.160313742, 2538908.3685707487], [9900461.474775102, 2531066.3726490117], [9896579.273439243, 2516612.671770716], [9885918.625326488, 2520484.0517854], [9890725.160313742, 2538908.3685707487]]], [[[9820691.480659714, 2467156.342343775], [9830797.528581634, 2456401.723460934], [9820290.936077442, 2450207.2414333085], [9820691.480659714, 2467156.342343775]]], [[[9811355.710780624, 2480624.4528616876], [9815145.478751343, 2465120.3395556356], [9813358.43369198, 2454124.0778642013], [9801033.985006714, 2461869.3205829416], [9811355.710780624, 2480624.4528616876]]]]}}]}\",\"selected\":{\"id\":\"1045\"},\"selection_policy\":{\"id\":\"1046\"}},\"id\":\"1001\",\"type\":\"GeoJSONDataSource\"},{\"attributes\":{},\"id\":\"1045\",\"type\":\"Selection\"},{\"attributes\":{\"url\":\"http://c.tile.openstreetmap.org/{Z}/{X}/{Y}.png\"},\"id\":\"1029\",\"type\":\"WMTSTileSource\"},{\"attributes\":{\"axis\":{\"id\":\"1018\"},\"grid_line_color\":null,\"ticker\":null},\"id\":\"1021\",\"type\":\"Grid\"},{\"attributes\":{\"end\":10000000,\"start\":8450000},\"id\":\"1010\",\"type\":\"Range1d\"},{\"attributes\":{\"axis\":{\"id\":\"1022\"},\"dimension\":1,\"grid_line_color\":null,\"ticker\":null},\"id\":\"1025\",\"type\":\"Grid\"},{\"attributes\":{},\"id\":\"1014\",\"type\":\"LinearScale\"},{\"attributes\":{\"color_mapper\":{\"id\":\"1003\"},\"formatter\":{\"id\":\"1004\"},\"label_standoff\":10,\"location\":[0,0],\"major_label_text_font_size\":\"16px\",\"ticker\":{\"id\":\"1042\"}},\"id\":\"1005\",\"type\":\"ColorBar\"},{\"attributes\":{\"high\":100,\"low\":0,\"palette\":[\"#fff7ec\",\"#fee8c8\",\"#fdd49e\",\"#fdbb84\",\"#fc8d59\",\"#ef6548\",\"#d7301f\",\"#b30000\",\"#7f0000\"]},\"id\":\"1003\",\"type\":\"LinearColorMapper\"},{\"attributes\":{\"data_source\":{\"id\":\"1001\"},\"glyph\":{\"id\":\"1033\"},\"hover_glyph\":null,\"muted_glyph\":null,\"nonselection_glyph\":{\"id\":\"1034\"},\"selection_glyph\":null,\"view\":{\"id\":\"1036\"}},\"id\":\"1035\",\"type\":\"GlyphRenderer\"},{\"attributes\":{},\"id\":\"1026\",\"type\":\"SaveTool\"},{\"attributes\":{\"axis_label\":\"latitude\",\"formatter\":{\"id\":\"1041\"},\"ticker\":{\"id\":\"1023\"},\"visible\":false},\"id\":\"1022\",\"type\":\"LinearAxis\"},{\"attributes\":{},\"id\":\"1019\",\"type\":\"BasicTicker\"},{\"attributes\":{},\"id\":\"1044\",\"type\":\"BasicTickFormatter\"},{\"attributes\":{\"source\":{\"id\":\"1001\"}},\"id\":\"1036\",\"type\":\"CDSView\"},{\"attributes\":{\"format\":\"[ 4  0  0  0  1  0  0 12  0 17  3  1  4  1  5  2  0 16 97  0  0  1  0  8\\n  3  8  7  0  0  4  5]\"},\"id\":\"1004\",\"type\":\"NumeralTickFormatter\"},{\"attributes\":{},\"id\":\"1016\",\"type\":\"LinearScale\"},{\"attributes\":{},\"id\":\"1042\",\"type\":\"BasicTicker\"},{\"attributes\":{\"axis_label\":\"longitude\",\"formatter\":{\"id\":\"1044\"},\"ticker\":{\"id\":\"1019\"},\"visible\":false},\"id\":\"1018\",\"type\":\"LinearAxis\"},{\"attributes\":{},\"id\":\"1041\",\"type\":\"BasicTickFormatter\"},{\"attributes\":{},\"id\":\"1046\",\"type\":\"UnionRenderers\"},{\"attributes\":{\"callback\":null,\"tooltips\":\"<strong><font face=\\\"Arial\\\" size=\\\"3\\\">@state</font></strong> <br>\\n                                    <font face=\\\"Arial\\\" size=\\\"3\\\">Cases: @total_cases</font><br>\\n                                    <font face=\\\"Arial\\\" size=\\\"3\\\">Deaths: @deaths </font>\"},\"id\":\"1002\",\"type\":\"HoverTool\"},{\"attributes\":{\"end\":4550000,\"start\":850000},\"id\":\"1012\",\"type\":\"Range1d\"},{\"attributes\":{\"fill_alpha\":{\"value\":0.85},\"fill_color\":{\"field\":\"deaths\",\"transform\":{\"id\":\"1003\"}},\"line_color\":{\"value\":\"purple\"},\"line_width\":{\"value\":0.5},\"xs\":{\"field\":\"xs\"},\"ys\":{\"field\":\"ys\"}},\"id\":\"1033\",\"type\":\"Patches\"},{\"attributes\":{\"fill_alpha\":{\"value\":0.1},\"fill_color\":{\"field\":\"deaths\",\"transform\":{\"id\":\"1003\"}},\"line_alpha\":{\"value\":0.1},\"line_color\":{\"value\":\"purple\"},\"line_width\":{\"value\":0.5},\"xs\":{\"field\":\"xs\"},\"ys\":{\"field\":\"ys\"}},\"id\":\"1034\",\"type\":\"Patches\"},{\"attributes\":{\"tile_source\":{\"id\":\"1029\"}},\"id\":\"1030\",\"type\":\"TileRenderer\"},{\"attributes\":{\"active_drag\":\"auto\",\"active_inspect\":\"auto\",\"active_multi\":null,\"active_scroll\":\"auto\",\"active_tap\":\"auto\",\"tools\":[{\"id\":\"1026\"},{\"id\":\"1002\"}]},\"id\":\"1027\",\"type\":\"Toolbar\"},{\"attributes\":{},\"id\":\"1023\",\"type\":\"BasicTicker\"},{\"attributes\":{\"text\":\"COVID19 outbreak in India\",\"text_font_size\":{\"value\":\"34pt\"}},\"id\":\"1008\",\"type\":\"Title\"}],\"root_ids\":[\"1007\"]},\"title\":\"Bokeh Application\",\"version\":\"2.0.1\"}};\n",
       "  var render_items = [{\"docid\":\"316203d7-4bd6-4a08-b862-a9d35cdcf427\",\"root_ids\":[\"1007\"],\"roots\":{\"1007\":\"5b029d25-aa05-4c54-9e90-f93223dc4c2e\"}}];\n",
       "  root.Bokeh.embed.embed_items_notebook(docs_json, render_items);\n",
       "\n",
       "  }\n",
       "  if (root.Bokeh !== undefined) {\n",
       "    embed_document(root);\n",
       "  } else {\n",
       "    var attempts = 0;\n",
       "    var timer = setInterval(function(root) {\n",
       "      if (root.Bokeh !== undefined) {\n",
       "        clearInterval(timer);\n",
       "        embed_document(root);\n",
       "      } else {\n",
       "        attempts++;\n",
       "        if (attempts > 100) {\n",
       "          clearInterval(timer);\n",
       "          console.log(\"Bokeh: ERROR: Unable to run BokehJS code because BokehJS library is missing\");\n",
       "        }\n",
       "      }\n",
       "    }, 10, root)\n",
       "  }\n",
       "})(window);"
      ],
      "application/vnd.bokehjs_exec.v0+json": ""
     },
     "metadata": {
      "application/vnd.bokehjs_exec.v0+json": {
       "id": "1007"
      }
     },
     "output_type": "display_data"
    }
   ],
   "source": [
    "output_notebook()\n",
    "show(_covid19_plot)"
   ]
  },
  {
   "cell_type": "markdown",
   "metadata": {
    "colab_type": "text",
    "id": "1vyhAcNAg7sA"
   },
   "source": [
    "## [Heroku hosted app](https://covid19india-visualization.herokuapp.com/COVID19_India)\n",
    "The iframe displays a web version of this notebook, using Heroku."
   ]
  },
  {
   "cell_type": "code",
   "execution_count": 21,
   "metadata": {
    "colab": {},
    "colab_type": "code",
    "id": "joAr2fzzOK17"
   },
   "outputs": [
    {
     "name": "stderr",
     "output_type": "stream",
     "text": [
      "C:\\ProgramData\\Anaconda3\\envs\\GeoPandas\\lib\\site-packages\\IPython\\core\\display.py:701: UserWarning: Consider using IPython.display.IFrame instead\n",
      "  warnings.warn(\"Consider using IPython.display.IFrame instead\")\n"
     ]
    },
    {
     "data": {
      "text/html": [
       "<iframe src=https://covid19india-visualization.herokuapp.com/COVID19_India width=680 height=680></iframe>"
      ],
      "text/plain": [
       "<IPython.core.display.HTML object>"
      ]
     },
     "execution_count": 21,
     "metadata": {},
     "output_type": "execute_result"
    }
   ],
   "source": [
    "import IPython\n",
    "URL = 'https://covid19india-visualization.herokuapp.com/COVID19_India'\n",
    "FRAME_WIDTH=680\n",
    "FRAME_HEIGHT=680\n",
    "iframe = '<iframe src={} width={} height={}></iframe>'.format(URL, \n",
    "                                                              FRAME_WIDTH, \n",
    "                                                              FRAME_HEIGHT)\n",
    "IPython.display.HTML(iframe)"
   ]
  },
  {
   "cell_type": "code",
   "execution_count": null,
   "metadata": {
    "colab": {},
    "colab_type": "code",
    "id": "YxbIYB1sgMeJ"
   },
   "outputs": [],
   "source": []
  }
 ],
 "metadata": {
  "colab": {
   "collapsed_sections": [],
   "name": "COVID19_India.ipynb",
   "provenance": []
  },
  "kernelspec": {
   "display_name": "Python 3",
   "language": "python",
   "name": "python3"
  },
  "language_info": {
   "codemirror_mode": {
    "name": "ipython",
    "version": 3
   },
   "file_extension": ".py",
   "mimetype": "text/x-python",
   "name": "python",
   "nbconvert_exporter": "python",
   "pygments_lexer": "ipython3",
   "version": "3.7.6"
  }
 },
 "nbformat": 4,
 "nbformat_minor": 1
}
