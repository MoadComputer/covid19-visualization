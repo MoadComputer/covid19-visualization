{
 "cells": [
  {
   "cell_type": "markdown",
   "metadata": {
    "colab_type": "text",
    "id": "lsmq6rsyEFjl"
   },
   "source": [
    "# [**Visualizing COVID19 outbreak in India**](https://github.com/MoadComputer/covid19-visualization/blob/master/examples/COVID19_India.ipynb)\n",
    "## Author: [Dr. Rahul Remanan](https://www.linkedin.com/in/rahulremanan/), CEO [Moad Computer](https://moad.computer)\n",
    "### Contact: rahul@moad.computer"
   ]
  },
  {
   "cell_type": "markdown",
   "metadata": {
    "colab_type": "text",
    "id": "V8w7p1S5lD7E"
   },
   "source": [
    "This notebook visualizes the COVID19 outbreak in India using GeoPandas and Bokeh.\n",
    "## **[Run this notebook in Google Colab](https://colab.research.google.com/github/MoadComputer/covid19-visualization/blob/master/examples/COVID19_India.ipynb)**"
   ]
  },
  {
   "cell_type": "code",
   "execution_count": 1,
   "metadata": {
    "colab": {},
    "colab_type": "code",
    "id": "pcxDRHM9CaV3"
   },
   "outputs": [],
   "source": [
    "setup=True"
   ]
  },
  {
   "cell_type": "markdown",
   "metadata": {
    "colab_type": "text",
    "id": "68r3_XAAGVFi"
   },
   "source": [
    "## Install dependencies"
   ]
  },
  {
   "cell_type": "code",
   "execution_count": 2,
   "metadata": {
    "colab": {},
    "colab_type": "code",
    "id": "PiwZwCe82MwN"
   },
   "outputs": [],
   "source": [
    "try:\n",
    "  import geopandas\n",
    "  setup=False\n",
    "except:\n",
    "  print ('GeoPandas package not detected. Trying to install GeoPandas ...')"
   ]
  },
  {
   "cell_type": "code",
   "execution_count": 3,
   "metadata": {
    "colab": {},
    "colab_type": "code",
    "id": "XMlFPsweDIZL"
   },
   "outputs": [],
   "source": [
    "%%capture\n",
    "if setup:\n",
    "  ! python3 -m pip install fiona geopandas visvalingamwyatt"
   ]
  },
  {
   "cell_type": "markdown",
   "metadata": {
    "colab_type": "text",
    "id": "xKYVwNzEGSLF"
   },
   "source": [
    "## Import libraries"
   ]
  },
  {
   "cell_type": "code",
   "execution_count": 4,
   "metadata": {
    "colab": {},
    "colab_type": "code",
    "id": "lrYp4UZ7GIzx"
   },
   "outputs": [],
   "source": [
    "import os\n",
    "import math\n",
    "import json\n",
    "import bokeh\n",
    "import geopandas\n",
    "import numpy as np\n",
    "import pandas as pd\n",
    "\n",
    "from bokeh.io.doc import curdoc\n",
    "from bokeh.plotting import figure\n",
    "from bokeh.palettes import brewer, OrRd\n",
    "from bokeh.plotting import show as plt_show\n",
    "from bokeh.tile_providers import Vendors, get_provider\n",
    "from bokeh.io import output_notebook, show, output_file\n",
    "from bokeh.layouts import widgetbox, row, column, gridplot\n",
    "from bokeh.models import GeoJSONDataSource, LinearColorMapper, ColorBar, NumeralTickFormatter\n",
    "from bokeh.models import Slider, HoverTool, Select, Div, Range1d, WMTSTileSource, BoxZoomTool"
   ]
  },
  {
   "cell_type": "markdown",
   "metadata": {
    "colab_type": "text",
    "id": "N2ZlT3kgGsiM"
   },
   "source": [
    "## Load GeoJSON file of India"
   ]
  },
  {
   "cell_type": "code",
   "execution_count": 5,
   "metadata": {
    "colab": {},
    "colab_type": "code",
    "id": "5KKPyIgsGRHR"
   },
   "outputs": [],
   "source": [
    "India_statewise = geopandas.read_file('https://github.com/MoadComputer/covid19-visualization/raw/master/data/GeoJSON_assets/India_statewise.geojson')"
   ]
  },
  {
   "cell_type": "markdown",
   "metadata": {
    "colab_type": "text",
    "id": "6fAcuJakWjOc"
   },
   "source": [
    "## Simplify GeoJSON geometry\n",
    "GeoJSON geometry simplication is performed using Visvalingam-Wyatt polyline simplification algorithm. Enable geometry simplification by setting the flag: ``` enable_minifiedGeoJSON=True ```\n",
    "\n",
    "The motivation for simplifying GeoJSON geometry is to improve the map rendering times. The compromise here is in the level of geometrical details. \n",
    "\n",
    "If the map rendering times are not important (offline applications), use the original GeoJSON file. The GeoJSON simplification steps can be turned-off, by setting the flag: ``` enable_minifiedGeoJSON=False ```\n",
    "\n",
    "."
   ]
  },
  {
   "cell_type": "code",
   "execution_count": 6,
   "metadata": {
    "colab": {},
    "colab_type": "code",
    "id": "ucrPOekq3pFT"
   },
   "outputs": [],
   "source": [
    "enable_minifiedGeoJSON=True"
   ]
  },
  {
   "cell_type": "code",
   "execution_count": 7,
   "metadata": {
    "colab": {},
    "colab_type": "code",
    "id": "LupcELAAdH6p"
   },
   "outputs": [],
   "source": [
    "%%capture\n",
    "if not os.path.exists('./India_statewise.geojson') and enable_minifiedGeoJSON:\n",
    "  ! wget https://github.com/MoadComputer/covid19-visualization/raw/master/data/GeoJSON_assets/India_statewise.geojson -O ./India_statewise.geojson"
   ]
  },
  {
   "cell_type": "markdown",
   "metadata": {
    "colab_type": "text",
    "id": "UJyBn1YENzuO"
   },
   "source": [
    "#### Minify GeoJSON using ratio of points"
   ]
  },
  {
   "cell_type": "code",
   "execution_count": 8,
   "metadata": {
    "colab": {},
    "colab_type": "code",
    "id": "L-cEOsmuWiRZ"
   },
   "outputs": [],
   "source": [
    "%%capture\n",
    "if enable_minifiedGeoJSON:\n",
    "  ! vwsimplify --ratio 0.61803398875 ./India_statewise.geojson -o ./India_statewise_minified.geojson"
   ]
  },
  {
   "cell_type": "markdown",
   "metadata": {
    "colab_type": "text",
    "id": "Hg895kCpNumd"
   },
   "source": [
    "#### Use minified GeoJSON to generate the interactive map"
   ]
  },
  {
   "cell_type": "code",
   "execution_count": 9,
   "metadata": {
    "colab": {
     "base_uri": "https://localhost:8080/",
     "height": 34
    },
    "colab_type": "code",
    "id": "Mj86f9-MMuc4",
    "outputId": "1288228a-3738-4ee2-ddc2-b0a8d30f1022"
   },
   "outputs": [],
   "source": [
    "if os.path.exists('./India_statewise_minified.geojson'):\n",
    "  India_statewise = geopandas.read_file('./India_statewise_minified.geojson')\n",
    "  print ('Loaded minified GeoJSON ...')"
   ]
  },
  {
   "cell_type": "markdown",
   "metadata": {
    "colab_type": "text",
    "id": "RSGRFnKeubbK"
   },
   "source": [
    "## Set map projection and summarize GeoJSON data\n",
    "\n",
    "Map projections project the surface of the earth or a portion of it on a flat surface, such as a computer screen. Map projections approximate the earth's spherical shape (3D) onto a plane (2D). Note: The use of projections doesn't mean that the earth is flat, but, on the contrary.\n",
    "\n",
    "The coordinate reference system (CRS) is used to define, using coordinates, the relationship between the two-dimensional, projected map in your GIS and the real places on the earth. The specific type of map projection and coordinate reference system to use, depends on the regional extent of the area you want to work in, on the analysis you want to do and often on the availability of data.[1](https://docs.qgis.org/3.10/en/docs/gentle_gis_introduction/coordinate_reference_systems.html)\n",
    "\n",
    "In this notebook, the EPSG:3395 CRS is used. It uses the elliptical version of the Marcator projection, with metre (m) as the measurement unit and [Greenwich](https://en.wikipedia.org/wiki/Greenwich) as the prime meridian. This system is useful for very small scale mapping, for parts of the world between 80°S and 84°N. This system excludes the polar areas.[2](https://epsg.io/3395)"
   ]
  },
  {
   "cell_type": "code",
   "execution_count": 10,
   "metadata": {
    "colab": {
     "base_uri": "https://localhost:8080/",
     "height": 204
    },
    "colab_type": "code",
    "id": "qS1WZiv6lMir",
    "outputId": "a0e23842-3aae-427a-c8b6-5c9b1f3b5689"
   },
   "outputs": [
    {
     "data": {
      "text/html": [
       "<div>\n",
       "<style scoped>\n",
       "    .dataframe tbody tr th:only-of-type {\n",
       "        vertical-align: middle;\n",
       "    }\n",
       "\n",
       "    .dataframe tbody tr th {\n",
       "        vertical-align: top;\n",
       "    }\n",
       "\n",
       "    .dataframe thead th {\n",
       "        text-align: right;\n",
       "    }\n",
       "</style>\n",
       "<table border=\"1\" class=\"dataframe\">\n",
       "  <thead>\n",
       "    <tr style=\"text-align: right;\">\n",
       "      <th></th>\n",
       "      <th>state</th>\n",
       "      <th>geometry</th>\n",
       "    </tr>\n",
       "  </thead>\n",
       "  <tbody>\n",
       "    <tr>\n",
       "      <th>0</th>\n",
       "      <td>Jammu and Kashmir</td>\n",
       "      <td>POLYGON ((8248815.186 4158474.460, 8267604.320...</td>\n",
       "    </tr>\n",
       "    <tr>\n",
       "      <th>1</th>\n",
       "      <td>Ladakh</td>\n",
       "      <td>POLYGON ((8548889.055 3905752.225, 8536723.949...</td>\n",
       "    </tr>\n",
       "    <tr>\n",
       "      <th>2</th>\n",
       "      <td>Andaman and Nicobar Islands</td>\n",
       "      <td>MULTIPOLYGON (((10298818.467 1212439.225, 1030...</td>\n",
       "    </tr>\n",
       "    <tr>\n",
       "      <th>3</th>\n",
       "      <td>Telangana</td>\n",
       "      <td>POLYGON ((8935333.898 2108061.096, 8943036.679...</td>\n",
       "    </tr>\n",
       "    <tr>\n",
       "      <th>4</th>\n",
       "      <td>Andhra Pradesh</td>\n",
       "      <td>POLYGON ((8628301.070 1783835.012, 8660560.315...</td>\n",
       "    </tr>\n",
       "  </tbody>\n",
       "</table>\n",
       "</div>"
      ],
      "text/plain": [
       "                         state  \\\n",
       "0            Jammu and Kashmir   \n",
       "1                       Ladakh   \n",
       "2  Andaman and Nicobar Islands   \n",
       "3                    Telangana   \n",
       "4               Andhra Pradesh   \n",
       "\n",
       "                                            geometry  \n",
       "0  POLYGON ((8248815.186 4158474.460, 8267604.320...  \n",
       "1  POLYGON ((8548889.055 3905752.225, 8536723.949...  \n",
       "2  MULTIPOLYGON (((10298818.467 1212439.225, 1030...  \n",
       "3  POLYGON ((8935333.898 2108061.096, 8943036.679...  \n",
       "4  POLYGON ((8628301.070 1783835.012, 8660560.315...  "
      ]
     },
     "execution_count": 10,
     "metadata": {},
     "output_type": "execute_result"
    }
   ],
   "source": [
    "India_statewise = India_statewise.to_crs(\"EPSG:3395\")\n",
    "India_statewise.head()"
   ]
  },
  {
   "cell_type": "markdown",
   "metadata": {
    "colab_type": "text",
    "id": "_UZCOWV3JXdy"
   },
   "source": [
    "## Load COVID19 India data\n",
    "The COVID19 data is aggregated from the [Ministry of Health and Family Welfare, Government of India](https://www.mohfw.gov.in/#state-data) website."
   ]
  },
  {
   "cell_type": "code",
   "execution_count": 11,
   "metadata": {
    "colab": {
     "base_uri": "https://localhost:8080/",
     "height": 204
    },
    "colab_type": "code",
    "id": "jgvJJKs0JJRP",
    "outputId": "14c191bf-395c-447f-f785-d8952b947a07"
   },
   "outputs": [
    {
     "data": {
      "text/html": [
       "<div>\n",
       "<style scoped>\n",
       "    .dataframe tbody tr th:only-of-type {\n",
       "        vertical-align: middle;\n",
       "    }\n",
       "\n",
       "    .dataframe tbody tr th {\n",
       "        vertical-align: top;\n",
       "    }\n",
       "\n",
       "    .dataframe thead th {\n",
       "        text-align: right;\n",
       "    }\n",
       "</style>\n",
       "<table border=\"1\" class=\"dataframe\">\n",
       "  <thead>\n",
       "    <tr style=\"text-align: right;\">\n",
       "      <th></th>\n",
       "      <th>ID</th>\n",
       "      <th>state</th>\n",
       "      <th>total_cases</th>\n",
       "      <th>discharged</th>\n",
       "      <th>deaths</th>\n",
       "      <th>active_cases</th>\n",
       "    </tr>\n",
       "  </thead>\n",
       "  <tbody>\n",
       "    <tr>\n",
       "      <th>0</th>\n",
       "      <td>1</td>\n",
       "      <td>Andaman and Nicobar Islands</td>\n",
       "      <td>38</td>\n",
       "      <td>33</td>\n",
       "      <td>0</td>\n",
       "      <td>5</td>\n",
       "    </tr>\n",
       "    <tr>\n",
       "      <th>1</th>\n",
       "      <td>2</td>\n",
       "      <td>Andhra Pradesh</td>\n",
       "      <td>5965</td>\n",
       "      <td>3195</td>\n",
       "      <td>82</td>\n",
       "      <td>2688</td>\n",
       "    </tr>\n",
       "    <tr>\n",
       "      <th>2</th>\n",
       "      <td>3</td>\n",
       "      <td>Arunachal Pradesh</td>\n",
       "      <td>87</td>\n",
       "      <td>4</td>\n",
       "      <td>0</td>\n",
       "      <td>83</td>\n",
       "    </tr>\n",
       "    <tr>\n",
       "      <th>3</th>\n",
       "      <td>4</td>\n",
       "      <td>Assam</td>\n",
       "      <td>3718</td>\n",
       "      <td>1584</td>\n",
       "      <td>8</td>\n",
       "      <td>2126</td>\n",
       "    </tr>\n",
       "    <tr>\n",
       "      <th>4</th>\n",
       "      <td>5</td>\n",
       "      <td>Bihar</td>\n",
       "      <td>6290</td>\n",
       "      <td>3956</td>\n",
       "      <td>39</td>\n",
       "      <td>2295</td>\n",
       "    </tr>\n",
       "  </tbody>\n",
       "</table>\n",
       "</div>"
      ],
      "text/plain": [
       "   ID                        state  total_cases  discharged  deaths  \\\n",
       "0   1  Andaman and Nicobar Islands           38          33       0   \n",
       "1   2               Andhra Pradesh         5965        3195      82   \n",
       "2   3            Arunachal Pradesh           87           4       0   \n",
       "3   4                        Assam         3718        1584       8   \n",
       "4   5                        Bihar         6290        3956      39   \n",
       "\n",
       "   active_cases  \n",
       "0             5  \n",
       "1          2688  \n",
       "2            83  \n",
       "3          2126  \n",
       "4          2295  "
      ]
     },
     "execution_count": 11,
     "metadata": {},
     "output_type": "execute_result"
    }
   ],
   "source": [
    "covid19_data = pd.read_csv('https://github.com/MoadComputer/covid19-visualization/raw/master/data/Coronavirus_stats/India/COVID19_India_statewise.csv')\n",
    "covid19_data.loc[covid19_data['state'] == 'Telengana', 'state'] = 'Telangana'\n",
    "covid19_data.head()"
   ]
  },
  {
   "cell_type": "markdown",
   "metadata": {
    "colab_type": "text",
    "id": "xx6Nea6BKGsZ"
   },
   "source": [
    "## Display the list of states with no COVID19 reports"
   ]
  },
  {
   "cell_type": "code",
   "execution_count": 12,
   "metadata": {
    "colab": {
     "base_uri": "https://localhost:8080/",
     "height": 238
    },
    "colab_type": "code",
    "id": "Bb0_DVUMJ82h",
    "outputId": "164101a2-15b6-4667-ac7d-44a86e4d6567"
   },
   "outputs": [
    {
     "name": "stdout",
     "output_type": "stream",
     "text": [
      "A total of: 3 states with no reports of COVID19 ...\n",
      "\n",
      "States in India with no COVID19 reports:\n",
      "\n",
      "Lakshadweep ...\n",
      "\n",
      "Dadra and Nagar Haveli ...\n",
      "\n",
      "Daman and Diu ...\n"
     ]
    }
   ],
   "source": [
    "noCOVID19_list = list(set(list(India_statewise.state.values)) -set(list(covid19_data.state)))\n",
    "print('A total of: {} states with no reports of COVID19 ...'.format(len(noCOVID19_list)))\n",
    "print('\\nStates in India with no COVID19 reports:')\n",
    "for noCOVID19_state in noCOVID19_list:\n",
    "  print('\\n{} ...'.format(noCOVID19_state))"
   ]
  },
  {
   "cell_type": "markdown",
   "metadata": {
    "colab_type": "text",
    "id": "b8dP3qtOL-wu"
   },
   "source": [
    "## Combining geographical and COVID19 data\n",
    "\n",
    "\n",
    "The function: ``` covid19_json(covid_df, geo_df) ``` combines the COVID19 dataframe and the GeoPandas dataframe. The output is a dictionary that returns: ```{'json_data': json_data, 'data_frame': merged_df}```\n",
    "\n"
   ]
  },
  {
   "cell_type": "code",
   "execution_count": 13,
   "metadata": {
    "colab": {},
    "colab_type": "code",
    "id": "I4cQBlg3KnAq"
   },
   "outputs": [],
   "source": [
    "def covid19_json(covid_df, geo_df):\n",
    "  merged_df = pd.merge(geo_df, covid_df, on='state', how='left')\n",
    "  merged_df = merged_df.fillna(0)\n",
    "  merged_json = json.loads(merged_df.to_json())\n",
    "  json_data = json.dumps(merged_json)\n",
    "  return {'json_data': json_data, 'data_frame': merged_df}"
   ]
  },
  {
   "cell_type": "code",
   "execution_count": 14,
   "metadata": {
    "colab": {},
    "colab_type": "code",
    "id": "MyGAY_NlMGY4"
   },
   "outputs": [],
   "source": [
    "merged_data = covid19_json(covid19_data, India_statewise)\n",
    "merged_json = merged_data['json_data']"
   ]
  },
  {
   "cell_type": "code",
   "execution_count": 15,
   "metadata": {
    "colab": {
     "base_uri": "https://localhost:8080/",
     "height": 306
    },
    "colab_type": "code",
    "id": "TisDQ1-vOdZ_",
    "outputId": "8d261e7d-d301-4ec6-92c1-4f646ac6db92"
   },
   "outputs": [
    {
     "data": {
      "text/plain": [
       "<matplotlib.axes._subplots.AxesSubplot at 0x168bc248608>"
      ]
     },
     "execution_count": 15,
     "metadata": {},
     "output_type": "execute_result"
    },
    {
     "data": {
      "image/png": "[encoded data removed]",
      "text/plain": [
       "<Figure size 432x288 with 1 Axes>"
      ]
     },
     "metadata": {
      "needs_background": "light"
     },
     "output_type": "display_data"
    }
   ],
   "source": [
    "merged_data['data_frame'].plot()"
   ]
  },
  {
   "cell_type": "code",
   "execution_count": null,
   "metadata": {
    "colab": {},
    "colab_type": "code",
    "id": "kRQU9PK4MuJk"
   },
   "outputs": [],
   "source": [
    "def covid19_plot(covid19_geosource, \n",
    "                 input_df=None,\n",
    "                 input_field=None,\n",
    "                 plot_title=None,\n",
    "                 map_overlay=True,\n",
    "                 palette_type='OrRd',\n",
    "                 custom_hovertool=True,\n",
    "                 enable_toolbar=True):\n",
    "  if palette_type.lower()=='OrRd'.lower():\n",
    "    palette = OrRd[9]\n",
    "    palette = palette[::-1]\n",
    "  else:\n",
    "    palette = brewer['Oranges']\n",
    "    palette = palette[::-1]\n",
    "  \n",
    "  if custom_hovertool:\n",
    "    hover  = HoverTool(tooltips =\"\"\"<strong><font face=\"Arial\" size=\"3\">@state</font></strong> <br>\n",
    "                                    <font face=\"Arial\" size=\"3\">Cases: @total_cases</font><br>\n",
    "                                    <font face=\"Arial\" size=\"3\">Deaths: @deaths </font>\"\"\")\n",
    "  else:\n",
    "    hover = HoverTool(tooltips = [('State','@state'),\n",
    "                                  ('Cases', '@total_cases'),\n",
    "                                  #('Discharged/migrated', '@discharged'),\n",
    "                                  ('Deaths', '@deaths')])\n",
    "  \n",
    "  color_mapper = LinearColorMapper(palette = palette, \n",
    "                                   low = 0, \n",
    "                                   high = int(10*(np.ceil(np.max(input_df[input_field].values)/10))))\n",
    "  format_tick = NumeralTickFormatter(format=str(input_df[input_field].values))\n",
    "  color_bar = ColorBar(color_mapper=color_mapper, \n",
    "                       label_standoff=10, \n",
    "                       formatter=format_tick,\n",
    "                       border_line_color=None, \n",
    "                       major_label_text_font_size='16px',\n",
    "                       location = (0, 0))\n",
    "  if map_overlay:\n",
    "    xmin = 8450000\n",
    "    xmax = 10000000\n",
    "    ymin = 850000\n",
    "    ymax = 4550000\n",
    "\n",
    "  plt = figure(title = plot_title,\n",
    "               x_range=(xmin, xmax) if map_overlay else None,\n",
    "               y_range=(ymin, ymax) if map_overlay else None,\n",
    "               tools='save' if enable_toolbar else '', \n",
    "               plot_height = 640, plot_width = 640,\n",
    "               toolbar_location = 'left' if enable_toolbar else None,\n",
    "               #lod_factor=int(1e7),\n",
    "               #lod_threshold=int(2),\n",
    "               output_backend=\"webgl\")\n",
    "  \n",
    "  if map_overlay:\n",
    "    wmts = WMTSTileSource(url=\"http://c.tile.openstreetmap.org/{Z}/{X}/{Y}.png\")\n",
    "    plt.add_tile(wmts)\n",
    "    plt.xaxis.axis_label = 'longitude'\n",
    "    plt.yaxis.axis_label = 'latitude'\n",
    "    \n",
    "  plt.xgrid.grid_line_color = None\n",
    "  plt.ygrid.grid_line_color = None\n",
    "  plt.axis.visible = False\n",
    "  plt.patches('xs','ys', \n",
    "              source = covid19_geosource, \n",
    "              fill_color = {'field' : 'deaths', \n",
    "                            'transform' : color_mapper},\n",
    "              line_color = 'purple', \n",
    "              line_width = 0.5, \n",
    "              fill_alpha = 0.85)\n",
    "  plt.add_layout(color_bar, 'right')\n",
    "  plt.add_tools(hover)\n",
    "  plt.title.text_font_size = '34pt'\n",
    "  return plt"
   ]
  },
  {
   "cell_type": "markdown",
   "metadata": {
    "colab_type": "text",
    "id": "pPMJ2WRfNuMq"
   },
   "source": [
    "## Generate COVID19 plot"
   ]
  },
  {
   "cell_type": "code",
   "execution_count": null,
   "metadata": {
    "colab": {},
    "colab_type": "code",
    "id": "oWtC8q_rNHwe"
   },
   "outputs": [],
   "source": [
    "covid19_geosource=GeoJSONDataSource(geojson=merged_json)\n",
    "plot_title='COVID19 outbreak in India'\n",
    "app_title='COVID19 India'"
   ]
  },
  {
   "cell_type": "code",
   "execution_count": null,
   "metadata": {
    "colab": {},
    "colab_type": "code",
    "id": "DyO1JPUf1xdY"
   },
   "outputs": [],
   "source": [
    "_covid19_plot = covid19_plot(covid19_geosource, \n",
    "                             input_df=covid19_data,\n",
    "                             input_field='deaths',\n",
    "                             plot_title=plot_title)"
   ]
  },
  {
   "cell_type": "code",
   "execution_count": null,
   "metadata": {
    "colab": {},
    "colab_type": "code",
    "id": "eOjaFPRnyiXK"
   },
   "outputs": [],
   "source": [
    "curdoc().title=app_title\n",
    "covid19_layout = column(_covid19_plot)\n",
    "curdoc().add_root(covid19_layout)"
   ]
  },
  {
   "cell_type": "markdown",
   "metadata": {
    "colab_type": "text",
    "id": "jo_7gOcNOBgH"
   },
   "source": [
    "## Display the interactive COVID19 map for India\n",
    "This generates an interactive COVID19 India outbreak map, within the notebook.\n",
    "![Bokeh static output](https://github.com/MoadComputer/covid19-visualization/raw/master/examples/COVID19_India_Bokeh_output.png)\n",
    "\n",
    "The image above is a static screenshot of the Bokeh output. It shows the hover-tool functionality and the save-tool for generating a ```.png``` output. By hovering (devices with a pointer) or single-tapping (touch devices) over the corresponding states, an exapnded summary of COVID19 outbreak in India is displayed."
   ]
  },
  {
   "cell_type": "code",
   "execution_count": null,
   "metadata": {
    "colab": {},
    "colab_type": "code",
    "id": "Oj07jd09NxRd"
   },
   "outputs": [],
   "source": [
    "output_notebook()\n",
    "show(_covid19_plot)"
   ]
  },
  {
   "cell_type": "markdown",
   "metadata": {
    "colab_type": "text",
    "id": "1vyhAcNAg7sA"
   },
   "source": [
    "## [Heroku hosted app](https://covid19india-visualization.herokuapp.com/COVID19_India)\n",
    "The iframe displays a web version of this notebook, using Heroku."
   ]
  },
  {
   "cell_type": "code",
   "execution_count": null,
   "metadata": {
    "colab": {},
    "colab_type": "code",
    "id": "joAr2fzzOK17"
   },
   "outputs": [],
   "source": [
    "import IPython\n",
    "URL = 'https://covid19india-visualization.herokuapp.com/COVID19_India'\n",
    "FRAME_WIDTH=680\n",
    "FRAME_HEIGHT=680\n",
    "iframe = '<iframe src={} width={} height={}></iframe>'.format(URL, \n",
    "                                                              FRAME_WIDTH, \n",
    "                                                              FRAME_HEIGHT)\n",
    "IPython.display.HTML(iframe)"
   ]
  },
  {
   "cell_type": "code",
   "execution_count": null,
   "metadata": {
    "colab": {},
    "colab_type": "code",
    "id": "YxbIYB1sgMeJ"
   },
   "outputs": [],
   "source": []
  }
 ],
 "metadata": {
  "colab": {
   "collapsed_sections": [],
   "name": "COVID19_India.ipynb",
   "provenance": []
  },
  "kernelspec": {
   "display_name": "Python 3",
   "language": "python",
   "name": "python3"
  },
  "language_info": {
   "codemirror_mode": {
    "name": "ipython",
    "version": 3
   },
   "file_extension": ".py",
   "mimetype": "text/x-python",
   "name": "python",
   "nbconvert_exporter": "python",
   "pygments_lexer": "ipython3",
   "version": "3.7.6"
  }
 },
 "nbformat": 4,
 "nbformat_minor": 1
}
