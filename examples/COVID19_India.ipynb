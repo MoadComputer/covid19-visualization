{
  "nbformat": 4,
  "nbformat_minor": 0,
  "metadata": {
    "colab": {
      "name": "COVID19_India.ipynb",
      "provenance": [],
      "collapsed_sections": []
    },
    "kernelspec": {
      "name": "python3",
      "display_name": "Python 3"
    }
  },
  "cells": [
    {
      "cell_type": "markdown",
      "metadata": {
        "id": "lsmq6rsyEFjl",
        "colab_type": "text"
      },
      "source": [
        "# Visualizing COVID19 outbreak in India\n",
        "Visualizing COVID19 outbreak in India using GeoPandas and Bokeh\n",
        "### [Run this notebook in Google Colab](https://colab.research.google.com/github/MoadComputer/covid19-visualization/blob/master/examples/COVID19_India.ipynb)"
      ]
    },
    {
      "cell_type": "markdown",
      "metadata": {
        "id": "68r3_XAAGVFi",
        "colab_type": "text"
      },
      "source": [
        "## Install dependencies"
      ]
    },
    {
      "cell_type": "code",
      "metadata": {
        "id": "XMlFPsweDIZL",
        "colab_type": "code",
        "colab": {}
      },
      "source": [
        "%%capture\n",
        "! python3 -m pip install fiona geopandas visvalingamwyatt"
      ],
      "execution_count": 0,
      "outputs": []
    },
    {
      "cell_type": "markdown",
      "metadata": {
        "id": "xKYVwNzEGSLF",
        "colab_type": "text"
      },
      "source": [
        "## Import libraries"
      ]
    },
    {
      "cell_type": "code",
      "metadata": {
        "id": "lrYp4UZ7GIzx",
        "colab_type": "code",
        "colab": {}
      },
      "source": [
        "import os\n",
        "import math\n",
        "import json\n",
        "import bokeh\n",
        "import geopandas\n",
        "import pandas as pd\n",
        "import numpy as np\n",
        "\n",
        "from bokeh.io.doc import curdoc\n",
        "from bokeh.palettes import brewer\n",
        "from bokeh.plotting import figure\n",
        "from bokeh.plotting import show as plt_show\n",
        "from bokeh.io import output_notebook, show, output_file\n",
        "from bokeh.layouts import widgetbox, row, column, gridplot\n",
        "from bokeh.tile_providers import Vendors, get_provider\n",
        "from bokeh.models import Slider, HoverTool, Select, Div, Range1d, WMTSTileSource\n",
        "from bokeh.models import GeoJSONDataSource, LinearColorMapper, ColorBar, NumeralTickFormatter"
      ],
      "execution_count": 0,
      "outputs": []
    },
    {
      "cell_type": "markdown",
      "metadata": {
        "id": "N2ZlT3kgGsiM",
        "colab_type": "text"
      },
      "source": [
        "## Load GeoJSON file of India"
      ]
    },
    {
      "cell_type": "code",
      "metadata": {
        "id": "5KKPyIgsGRHR",
        "colab_type": "code",
        "colab": {}
      },
      "source": [
        "India_statewise = geopandas.read_file('https://github.com/MoadComputer/covid19-visualization/raw/master/data/GeoJSON_assets/India_statewise.geojson')"
      ],
      "execution_count": 0,
      "outputs": []
    },
    {
      "cell_type": "code",
      "metadata": {
        "id": "ucrPOekq3pFT",
        "colab_type": "code",
        "colab": {}
      },
      "source": [
        "enable_minifiedGeoJSON=True"
      ],
      "execution_count": 0,
      "outputs": []
    },
    {
      "cell_type": "code",
      "metadata": {
        "id": "LupcELAAdH6p",
        "colab_type": "code",
        "colab": {
          "base_uri": "https://localhost:8080/",
          "height": 289
        },
        "outputId": "e342a445-836e-463b-c6e1-cb335719e484"
      },
      "source": [
        "if not os.path.exists('./India_statewise.geojson') and enable_minifiedGeoJSON:\n",
        "  ! wget https://github.com/MoadComputer/covid19-visualization/raw/master/data/GeoJSON_assets/India_statewise.geojson -O ./India_statewise.geojson"
      ],
      "execution_count": 5,
      "outputs": [
        {
          "output_type": "stream",
          "text": [
            "--2020-04-06 19:09:54--  https://github.com/MoadComputer/covid19-visualization/raw/master/data/GeoJSON_assets/India_statewise.geojson\n",
            "Resolving github.com (github.com)... 140.82.112.3\n",
            "Connecting to github.com (github.com)|140.82.112.3|:443... connected.\n",
            "HTTP request sent, awaiting response... 302 Found\n",
            "Location: https://raw.githubusercontent.com/MoadComputer/covid19-visualization/master/data/GeoJSON_assets/India_statewise.geojson [following]\n",
            "--2020-04-06 19:09:54--  https://raw.githubusercontent.com/MoadComputer/covid19-visualization/master/data/GeoJSON_assets/India_statewise.geojson\n",
            "Resolving raw.githubusercontent.com (raw.githubusercontent.com)... 151.101.0.133, 151.101.64.133, 151.101.128.133, ...\n",
            "Connecting to raw.githubusercontent.com (raw.githubusercontent.com)|151.101.0.133|:443... connected.\n",
            "HTTP request sent, awaiting response... 200 OK\n",
            "Length: 15744209 (15M) [text/plain]\n",
            "Saving to: ‘./India_statewise.geojson’\n",
            "\n",
            "./India_statewise.g 100%[===================>]  15.01M  25.6MB/s    in 0.6s    \n",
            "\n",
            "2020-04-06 19:09:55 (25.6 MB/s) - ‘./India_statewise.geojson’ saved [15744209/15744209]\n",
            "\n"
          ],
          "name": "stdout"
        }
      ]
    },
    {
      "cell_type": "markdown",
      "metadata": {
        "id": "6fAcuJakWjOc",
        "colab_type": "text"
      },
      "source": [
        "## Simplify GeoJSON geometry\n",
        "GeoJSON geometry simplication is performed using Visvalingam-Whyatt polyline simplification algorithm. The motivation for simplifying GeoJSON geometry is to improve the map rendering times to a reasonable degree. The compromise here is in the level of geometrical details. If rendering times are not important (offline applications), use the original GeoJSON file without these simplification steps."
      ]
    },
    {
      "cell_type": "code",
      "metadata": {
        "id": "L-cEOsmuWiRZ",
        "colab_type": "code",
        "colab": {}
      },
      "source": [
        "%%capture\n",
        "if enable_minifiedGeoJSON:\n",
        "  # Simplify using ratio of points\n",
        "  ! vwsimplify --ratio 0.61803551 ./India_statewise.geojson -o ./India_statewise_simplified.geojson\n",
        "\n",
        "  # Further simplify (minify) using the number of points to keep\n",
        "  ! vwsimplify --number 21 /content/India_statewise_simplified.geojson -o ./India_statewise_minified.geojson\n",
        "\n",
        "  # Simplify using ratio of points\n",
        "  ! vwsimplify --ratio 0.5 ./India_statewise_minified.geojson -o ./India_statewise_atomified.geojson\n",
        "\n",
        "  if os.path.exists('./India_statewise_atomified.geojson'):\n",
        "    # Use atomified GeoJSON to generate the interactive map\n",
        "    India_statewise = geopandas.read_file('./India_statewise_atomified.geojson')"
      ],
      "execution_count": 0,
      "outputs": []
    },
    {
      "cell_type": "code",
      "metadata": {
        "id": "Y0NSU3MEXW2M",
        "colab_type": "code",
        "outputId": "2ecdf862-eead-4478-9537-ee87f720c8db",
        "colab": {
          "base_uri": "https://localhost:8080/",
          "height": 258
        }
      },
      "source": [
        "India_statewise.crs = {'init': 'epsg:4326'}\n",
        "India_statewise.head()"
      ],
      "execution_count": 7,
      "outputs": [
        {
          "output_type": "stream",
          "text": [
            "/usr/local/lib/python3.6/dist-packages/pyproj/crs/crs.py:53: FutureWarning: '+init=<authority>:<code>' syntax is deprecated. '<authority>:<code>' is the preferred initialization method. When making the change, be mindful of axis order changes: https://pyproj4.github.io/pyproj/stable/gotchas.html#axis-order-changes-in-proj-6\n",
            "  return _prepare_from_string(\" \".join(pjargs))\n"
          ],
          "name": "stderr"
        },
        {
          "output_type": "execute_result",
          "data": {
            "text/html": [
              "<div>\n",
              "<style scoped>\n",
              "    .dataframe tbody tr th:only-of-type {\n",
              "        vertical-align: middle;\n",
              "    }\n",
              "\n",
              "    .dataframe tbody tr th {\n",
              "        vertical-align: top;\n",
              "    }\n",
              "\n",
              "    .dataframe thead th {\n",
              "        text-align: right;\n",
              "    }\n",
              "</style>\n",
              "<table border=\"1\" class=\"dataframe\">\n",
              "  <thead>\n",
              "    <tr style=\"text-align: right;\">\n",
              "      <th></th>\n",
              "      <th>state</th>\n",
              "      <th>geometry</th>\n",
              "    </tr>\n",
              "  </thead>\n",
              "  <tbody>\n",
              "    <tr>\n",
              "      <th>0</th>\n",
              "      <td>Andaman and Nicobar Islands</td>\n",
              "      <td>MULTIPOLYGON (((93.71976 7.20707, 93.71347 7.2...</td>\n",
              "    </tr>\n",
              "    <tr>\n",
              "      <th>1</th>\n",
              "      <td>Andhra Pradesh</td>\n",
              "      <td>MULTIPOLYGON (((81.39375 16.33380, 81.32692 16...</td>\n",
              "    </tr>\n",
              "    <tr>\n",
              "      <th>2</th>\n",
              "      <td>Arunachal Pradesh</td>\n",
              "      <td>POLYGON ((96.16261 29.38078, 96.27668 28.41882...</td>\n",
              "    </tr>\n",
              "    <tr>\n",
              "      <th>3</th>\n",
              "      <td>Assam</td>\n",
              "      <td>MULTIPOLYGON (((89.74323 26.30362, 89.73397 26...</td>\n",
              "    </tr>\n",
              "    <tr>\n",
              "      <th>4</th>\n",
              "      <td>Bihar</td>\n",
              "      <td>MULTIPOLYGON (((84.50720 24.26323, 84.49891 24...</td>\n",
              "    </tr>\n",
              "  </tbody>\n",
              "</table>\n",
              "</div>"
            ],
            "text/plain": [
              "                         state                                           geometry\n",
              "0  Andaman and Nicobar Islands  MULTIPOLYGON (((93.71976 7.20707, 93.71347 7.2...\n",
              "1               Andhra Pradesh  MULTIPOLYGON (((81.39375 16.33380, 81.32692 16...\n",
              "2            Arunachal Pradesh  POLYGON ((96.16261 29.38078, 96.27668 28.41882...\n",
              "3                        Assam  MULTIPOLYGON (((89.74323 26.30362, 89.73397 26...\n",
              "4                        Bihar  MULTIPOLYGON (((84.50720 24.26323, 84.49891 24..."
            ]
          },
          "metadata": {
            "tags": []
          },
          "execution_count": 7
        }
      ]
    },
    {
      "cell_type": "markdown",
      "metadata": {
        "id": "_UZCOWV3JXdy",
        "colab_type": "text"
      },
      "source": [
        "## Load COVID19 India data\n",
        "The COVID19 data is aggregated from the [Ministry of Health and Family Welfare, Government of India](https://www.mohfw.gov.in/#state-data) website."
      ]
    },
    {
      "cell_type": "code",
      "metadata": {
        "id": "jgvJJKs0JJRP",
        "colab_type": "code",
        "outputId": "e72a9931-23b3-4893-b2fa-a5924d4981ef",
        "colab": {
          "base_uri": "https://localhost:8080/",
          "height": 204
        }
      },
      "source": [
        "covid19_data = pd.read_csv('https://github.com/MoadComputer/covid19-visualization/raw/master/data/India_statewise/COVID19_India_statewise.csv')\n",
        "covid19_data.head()"
      ],
      "execution_count": 8,
      "outputs": [
        {
          "output_type": "execute_result",
          "data": {
            "text/html": [
              "<div>\n",
              "<style scoped>\n",
              "    .dataframe tbody tr th:only-of-type {\n",
              "        vertical-align: middle;\n",
              "    }\n",
              "\n",
              "    .dataframe tbody tr th {\n",
              "        vertical-align: top;\n",
              "    }\n",
              "\n",
              "    .dataframe thead th {\n",
              "        text-align: right;\n",
              "    }\n",
              "</style>\n",
              "<table border=\"1\" class=\"dataframe\">\n",
              "  <thead>\n",
              "    <tr style=\"text-align: right;\">\n",
              "      <th></th>\n",
              "      <th>ID</th>\n",
              "      <th>state</th>\n",
              "      <th>total_cases</th>\n",
              "      <th>discharged</th>\n",
              "      <th>deaths</th>\n",
              "    </tr>\n",
              "  </thead>\n",
              "  <tbody>\n",
              "    <tr>\n",
              "      <th>0</th>\n",
              "      <td>1</td>\n",
              "      <td>Andhra Pradesh</td>\n",
              "      <td>226</td>\n",
              "      <td>1</td>\n",
              "      <td>3</td>\n",
              "    </tr>\n",
              "    <tr>\n",
              "      <th>1</th>\n",
              "      <td>2</td>\n",
              "      <td>Andaman and Nicobar Islands</td>\n",
              "      <td>10</td>\n",
              "      <td>0</td>\n",
              "      <td>0</td>\n",
              "    </tr>\n",
              "    <tr>\n",
              "      <th>2</th>\n",
              "      <td>3</td>\n",
              "      <td>Arunachal Pradesh</td>\n",
              "      <td>1</td>\n",
              "      <td>0</td>\n",
              "      <td>0</td>\n",
              "    </tr>\n",
              "    <tr>\n",
              "      <th>3</th>\n",
              "      <td>4</td>\n",
              "      <td>Assam</td>\n",
              "      <td>26</td>\n",
              "      <td>0</td>\n",
              "      <td>0</td>\n",
              "    </tr>\n",
              "    <tr>\n",
              "      <th>4</th>\n",
              "      <td>5</td>\n",
              "      <td>Bihar</td>\n",
              "      <td>30</td>\n",
              "      <td>0</td>\n",
              "      <td>1</td>\n",
              "    </tr>\n",
              "  </tbody>\n",
              "</table>\n",
              "</div>"
            ],
            "text/plain": [
              "   ID                        state  total_cases  discharged  deaths\n",
              "0   1               Andhra Pradesh          226           1       3\n",
              "1   2  Andaman and Nicobar Islands           10           0       0\n",
              "2   3            Arunachal Pradesh            1           0       0\n",
              "3   4                        Assam           26           0       0\n",
              "4   5                        Bihar           30           0       1"
            ]
          },
          "metadata": {
            "tags": []
          },
          "execution_count": 8
        }
      ]
    },
    {
      "cell_type": "markdown",
      "metadata": {
        "id": "xx6Nea6BKGsZ",
        "colab_type": "text"
      },
      "source": [
        "## Display the list of states with no COVID19 reports"
      ]
    },
    {
      "cell_type": "code",
      "metadata": {
        "id": "Bb0_DVUMJ82h",
        "colab_type": "code",
        "outputId": "da9bc689-9b0d-47bd-d53e-1e63859efbc9",
        "colab": {
          "base_uri": "https://localhost:8080/",
          "height": 306
        }
      },
      "source": [
        "noCOVID19_list = list(set(list(India_statewise.state.values)) -set(list(covid19_data.state)))\n",
        "print('A total of: {} states with no reports of COVID19 ...'.format(len(noCOVID19_list)))\n",
        "print('\\nStates in India with no COVID19 reports:')\n",
        "for noCOVID19_state in noCOVID19_list:\n",
        "  print('\\n{} ...'.format(noCOVID19_state))"
      ],
      "execution_count": 9,
      "outputs": [
        {
          "output_type": "stream",
          "text": [
            "A total of: 7 states with no reports of COVID19 ...\n",
            "\n",
            "States in India with no COVID19 reports:\n",
            "\n",
            "Meghalaya ...\n",
            "\n",
            "Daman and Diu ...\n",
            "\n",
            "Sikkim ...\n",
            "\n",
            "Lakshadweep ...\n",
            "\n",
            "Nagaland ...\n",
            "\n",
            "Tripura ...\n",
            "\n",
            "Dadara and Nagar Havelli ...\n"
          ],
          "name": "stdout"
        }
      ]
    },
    {
      "cell_type": "markdown",
      "metadata": {
        "id": "b8dP3qtOL-wu",
        "colab_type": "text"
      },
      "source": [
        "## Combining geographical and COVID19 data"
      ]
    },
    {
      "cell_type": "code",
      "metadata": {
        "id": "I4cQBlg3KnAq",
        "colab_type": "code",
        "colab": {}
      },
      "source": [
        "def covid19_json(covid_df, geo_df):\n",
        "  merged_df = pd.merge(geo_df, covid_df, on='state', how='left')\n",
        "  merged_df = merged_df.fillna(0)\n",
        "  merged_json = json.loads(merged_df.to_json())\n",
        "  json_data = json.dumps(merged_json)\n",
        "  return {'json_data': json_data, 'data_frame': merged_df}"
      ],
      "execution_count": 0,
      "outputs": []
    },
    {
      "cell_type": "code",
      "metadata": {
        "id": "MyGAY_NlMGY4",
        "colab_type": "code",
        "colab": {}
      },
      "source": [
        "merged_data = covid19_json(covid19_data, India_statewise)\n",
        "merged_json = merged_data['json_data']"
      ],
      "execution_count": 0,
      "outputs": []
    },
    {
      "cell_type": "code",
      "metadata": {
        "id": "TisDQ1-vOdZ_",
        "colab_type": "code",
        "outputId": "680286b0-9f55-4f81-fa06-8a4cbf0a0cc9",
        "colab": {
          "base_uri": "https://localhost:8080/",
          "height": 282
        }
      },
      "source": [
        "merged_data['data_frame'].plot()"
      ],
      "execution_count": 12,
      "outputs": [
        {
          "output_type": "execute_result",
          "data": {
            "text/plain": [
              "<matplotlib.axes._subplots.AxesSubplot at 0x7fb5aec07ba8>"
            ]
          },
          "metadata": {
            "tags": []
          },
          "execution_count": 12
        },
        {
          "output_type": "display_data",
          "data": {
            "image/png": "[encoded data removed]",
            "text/plain": [
              "<Figure size 432x288 with 1 Axes>"
            ]
          },
          "metadata": {
            "tags": []
          }
        }
      ]
    },
    {
      "cell_type": "code",
      "metadata": {
        "id": "kRQU9PK4MuJk",
        "colab_type": "code",
        "colab": {}
      },
      "source": [
        "def covid19_plot(covid19_geosource, \n",
        "                 input_df=None,\n",
        "                 input_field=None,\n",
        "                 plot_title=None):\n",
        "  palette = brewer['Oranges'][8]\n",
        "  palette = palette[::-1]\n",
        "  hover = HoverTool(tooltips = [('State','@state'),\n",
        "                                ('Total cases', '@total_cases'),\n",
        "                                ('Total discharged/migrated', '@discharged'),\n",
        "                                ('Total deaths', '@deaths')])\n",
        "  color_mapper = LinearColorMapper(palette = palette, \n",
        "                                   low = 0, \n",
        "                                   high = int(10*(np.ceil(np.max(input_df[input_field].values)/10))))\n",
        "  format_tick = NumeralTickFormatter(format=str(input_df[input_field].values))\n",
        "  color_bar = ColorBar(color_mapper=color_mapper, \n",
        "                       label_standoff=10, \n",
        "                       formatter=format_tick,\n",
        "                       border_line_color=None, \n",
        "                       location = (0, 0))\n",
        "  plt = figure(title = plot_title,\n",
        "               tools='save', \n",
        "               plot_height = 500, plot_width = 550,\n",
        "               toolbar_location = 'left',\n",
        "               #lod_factor=int(1e7),\n",
        "               #lod_threshold=int(2),\n",
        "               output_backend=\"webgl\"\n",
        "             )\n",
        "  plt.xgrid.grid_line_color = None\n",
        "  plt.ygrid.grid_line_color = None\n",
        "  plt.axis.visible = False\n",
        "  plt.patches('xs','ys', \n",
        "            source = covid19_geosource, \n",
        "            fill_color = {'field' : 'deaths', \n",
        "                          'transform' : color_mapper},\n",
        "            line_color = 'red', \n",
        "            line_width = 1.25, \n",
        "            fill_alpha = 1)\n",
        "  plt.add_layout(color_bar, 'right')\n",
        "  plt.add_tools(hover)\n",
        "  return plt"
      ],
      "execution_count": 0,
      "outputs": []
    },
    {
      "cell_type": "markdown",
      "metadata": {
        "id": "pPMJ2WRfNuMq",
        "colab_type": "text"
      },
      "source": [
        "## Generate COVID19 plot"
      ]
    },
    {
      "cell_type": "code",
      "metadata": {
        "id": "oWtC8q_rNHwe",
        "colab_type": "code",
        "colab": {}
      },
      "source": [
        "covid19_geosource=GeoJSONDataSource(geojson=merged_json)\n",
        "plot_title='COVID-19 outbreak in India'\n",
        "app_title='COVID19 India'"
      ],
      "execution_count": 0,
      "outputs": []
    },
    {
      "cell_type": "code",
      "metadata": {
        "id": "DyO1JPUf1xdY",
        "colab_type": "code",
        "colab": {}
      },
      "source": [
        "_covid19_plot = covid19_plot(covid19_geosource, \n",
        "                             input_df=covid19_data,\n",
        "                             input_field='deaths',\n",
        "                             plot_title=plot_title)"
      ],
      "execution_count": 0,
      "outputs": []
    },
    {
      "cell_type": "code",
      "metadata": {
        "id": "eOjaFPRnyiXK",
        "colab_type": "code",
        "colab": {}
      },
      "source": [
        "curdoc().title=app_title\n",
        "covid19_layout = column(_covid19_plot)\n",
        "curdoc().add_root(covid19_layout)"
      ],
      "execution_count": 0,
      "outputs": []
    },
    {
      "cell_type": "markdown",
      "metadata": {
        "id": "jo_7gOcNOBgH",
        "colab_type": "text"
      },
      "source": [
        "## Display the interactive COVID19 map for India\n",
        "This generates an interactive COVID19 India outbreak map, within the notebook.\n",
        "![Bokeh static output](https://github.com/MoadComputer/covid19-visualization/raw/master/examples/COVID19_India_Bokeh_output_20200406_131941.png)"
      ]
    },
    {
      "cell_type": "code",
      "metadata": {
        "id": "Oj07jd09NxRd",
        "colab_type": "code",
        "colab": {}
      },
      "source": [
        "output_notebook()\n",
        "show(_covid19_plot)"
      ],
      "execution_count": 0,
      "outputs": []
    },
    {
      "cell_type": "markdown",
      "metadata": {
        "id": "1vyhAcNAg7sA",
        "colab_type": "text"
      },
      "source": [
        "## [Heroku hosted app](https://covid19india-visualization.herokuapp.com/COVID19_India)\n",
        "The iframe displays a web version of this notebook, using Heroku."
      ]
    },
    {
      "cell_type": "code",
      "metadata": {
        "id": "joAr2fzzOK17",
        "colab_type": "code",
        "colab": {}
      },
      "source": [
        "import IPython\n",
        "URL = 'https://covid19india-visualization.herokuapp.com/COVID19_India'\n",
        "FRAME_WIDTH=600\n",
        "FRAME_HEIGHT=550\n",
        "iframe = '<iframe src={} width={} height={}></iframe>'.format(URL, \n",
        "                                                             FRAME_WIDTH, \n",
        "                                                             FRAME_HEIGHT)\n",
        "IPython.display.HTML(iframe)"
      ],
      "execution_count": 0,
      "outputs": []
    }
  ]
}