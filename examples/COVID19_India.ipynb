{
  "nbformat": 4,
  "nbformat_minor": 0,
  "metadata": {
    "colab": {
      "name": "COVID19_India.ipynb",
      "provenance": [],
      "collapsed_sections": []
    },
    "kernelspec": {
      "name": "python3",
      "display_name": "Python 3"
    }
  },
  "cells": [
    {
      "cell_type": "markdown",
      "metadata": {
        "id": "lsmq6rsyEFjl",
        "colab_type": "text"
      },
      "source": [
        "# Visualizing COVID19 outbreak in India\n",
        "Visualizing COVID19 outbreak in India using GeoPandas and Bokeh\n",
        "### [Run this notebook in Google Colab](https://colab.research.google.com/github/MoadComputer/covid19-visualization/blob/master/examples/COVID19_India.ipynb)"
      ]
    },
    {
      "cell_type": "markdown",
      "metadata": {
        "id": "68r3_XAAGVFi",
        "colab_type": "text"
      },
      "source": [
        "## Install dependencies"
      ]
    },
    {
      "cell_type": "code",
      "metadata": {
        "id": "XMlFPsweDIZL",
        "colab_type": "code",
        "colab": {}
      },
      "source": [
        "%%capture\n",
        "! python3 -m pip install fiona geopandas"
      ],
      "execution_count": 0,
      "outputs": []
    },
    {
      "cell_type": "markdown",
      "metadata": {
        "id": "xKYVwNzEGSLF",
        "colab_type": "text"
      },
      "source": [
        "## Import libraries"
      ]
    },
    {
      "cell_type": "code",
      "metadata": {
        "id": "lrYp4UZ7GIzx",
        "colab_type": "code",
        "colab": {}
      },
      "source": [
        "import os\n",
        "import math\n",
        "import json\n",
        "import bokeh\n",
        "import geopandas\n",
        "import pandas as pd\n",
        "import numpy as np\n",
        "\n",
        "from bokeh.io.doc import curdoc\n",
        "from bokeh.palettes import brewer\n",
        "from bokeh.plotting import figure\n",
        "from bokeh.plotting import show as plt_show\n",
        "from bokeh.io import output_notebook, show, output_file\n",
        "from bokeh.layouts import widgetbox, row, column, gridplot\n",
        "from bokeh.tile_providers import Vendors, get_provider\n",
        "from bokeh.models import Slider, HoverTool, Select, Div, Range1d, WMTSTileSource\n",
        "from bokeh.models import GeoJSONDataSource, LinearColorMapper, ColorBar, NumeralTickFormatter"
      ],
      "execution_count": 0,
      "outputs": []
    },
    {
      "cell_type": "markdown",
      "metadata": {
        "id": "N2ZlT3kgGsiM",
        "colab_type": "text"
      },
      "source": [
        "## Load GeoJSON file of India"
      ]
    },
    {
      "cell_type": "code",
      "metadata": {
        "id": "5KKPyIgsGRHR",
        "colab_type": "code",
        "colab": {}
      },
      "source": [
        "India_statewise = geopandas.read_file('https://github.com/MoadComputer/covid19-visualization/raw/master/data/GeoJSON_assets/India_statewise.geojson')\n",
        "India_statewise.crs = {'init': 'epsg:4326'}\n",
        "India_statewise.head()"
      ],
      "execution_count": 0,
      "outputs": []
    },
    {
      "cell_type": "markdown",
      "metadata": {
        "id": "_UZCOWV3JXdy",
        "colab_type": "text"
      },
      "source": [
        "## Load COVID19 India data\n",
        "The data is aggregated from the [Ministry of Health and Family Welfare, Government of India](https://www.mohfw.gov.in/#state-data) website"
      ]
    },
    {
      "cell_type": "code",
      "metadata": {
        "id": "jgvJJKs0JJRP",
        "colab_type": "code",
        "colab": {}
      },
      "source": [
        "covid19_data = pd.read_csv('https://github.com/MoadComputer/covid19-visualization/raw/master/data/India_statewise/COVID19_India_statewise.csv')\n",
        "covid19_data.head()"
      ],
      "execution_count": 0,
      "outputs": []
    },
    {
      "cell_type": "markdown",
      "metadata": {
        "id": "xx6Nea6BKGsZ",
        "colab_type": "text"
      },
      "source": [
        "## Display the list of states with no COVID19 reports"
      ]
    },
    {
      "cell_type": "code",
      "metadata": {
        "id": "Bb0_DVUMJ82h",
        "colab_type": "code",
        "colab": {}
      },
      "source": [
        "noCOVID19_list = list(set(list(India_statewise.state.values)) -set(list(covid19_data.state)))\n",
        "print('A total of: {} states with no reports of COVID19 ...'.format(len(noCOVID19_list)))\n",
        "print('\\nStates in India with no COVID19 reports:')\n",
        "for noCOVID19_state in noCOVID19_list:\n",
        "  print('\\n{} ...'.format(noCOVID19_state))"
      ],
      "execution_count": 0,
      "outputs": []
    },
    {
      "cell_type": "markdown",
      "metadata": {
        "id": "b8dP3qtOL-wu",
        "colab_type": "text"
      },
      "source": [
        "## Combining geographical and COVID19 data"
      ]
    },
    {
      "cell_type": "code",
      "metadata": {
        "id": "I4cQBlg3KnAq",
        "colab_type": "code",
        "colab": {}
      },
      "source": [
        "def covid19_json(covid_df, geo_df):\n",
        "    merged_df = pd.merge(geo_df, covid_df, on='state', how='left')\n",
        "    merged_df = merged_df.fillna(0)\n",
        "    merged_json = json.loads(merged_df.to_json())\n",
        "    json_data = json.dumps(merged_json)\n",
        "    return {'json_data': json_data, 'data_frame': merged_df}"
      ],
      "execution_count": 0,
      "outputs": []
    },
    {
      "cell_type": "code",
      "metadata": {
        "id": "MyGAY_NlMGY4",
        "colab_type": "code",
        "colab": {}
      },
      "source": [
        "merged_data = covid19_json(covid19_data, India_statewise)\n",
        "merged_json = merged_data['json_data']"
      ],
      "execution_count": 0,
      "outputs": []
    },
    {
      "cell_type": "code",
      "metadata": {
        "id": "TisDQ1-vOdZ_",
        "colab_type": "code",
        "colab": {}
      },
      "source": [
        "merged_data['data_frame'].plot()"
      ],
      "execution_count": 0,
      "outputs": []
    },
    {
      "cell_type": "code",
      "metadata": {
        "id": "kRQU9PK4MuJk",
        "colab_type": "code",
        "colab": {}
      },
      "source": [
        "def make_covid19_plot(covid19_geosource, \n",
        "                      input_df=None,\n",
        "                      input_field=None,\n",
        "                      plot_title=None):\n",
        "  palette = brewer['Reds'][8]\n",
        "  palette = palette[::-1]\n",
        "  hover = HoverTool(tooltips = [ ('State','@state'),\n",
        "                                ('Total cases', '@total_cases'),\n",
        "                                ('Total discharged/migrated', '@discharged'),\n",
        "                                ('Total deaths', '@deaths')])\n",
        "  color_mapper = LinearColorMapper(palette = palette, \n",
        "                                   low = 0, \n",
        "                                   high = int(10*(np.ceil(np.max(input_df[input_field].values)/10))))\n",
        "  format_tick = NumeralTickFormatter(format=str(input_df[input_field].values))\n",
        "  color_bar = ColorBar(color_mapper=color_mapper, \n",
        "                       label_standoff=10, \n",
        "                       formatter=format_tick,\n",
        "                       border_line_color=None, \n",
        "                       location = (0, 0))\n",
        "  plt = figure(title = plot_title,\n",
        "               tools='save', \n",
        "               plot_height = 500, plot_width = 550,\n",
        "               toolbar_location = 'left'\n",
        "               #lod_factor=int(1e7),\n",
        "               #lod_threshold=int(2),\n",
        "               #output_backend=\"webgl\"\n",
        "             )\n",
        "  plt.xgrid.grid_line_color = None\n",
        "  plt.ygrid.grid_line_color = None\n",
        "  plt.axis.visible = False\n",
        "  plt.patches('xs','ys', \n",
        "            source = covid19_geosource, \n",
        "            fill_color = {'field' : 'deaths', \n",
        "                          'transform' : color_mapper},\n",
        "            line_color = 'grey', \n",
        "            line_width = 0.25, \n",
        "            fill_alpha = 1)\n",
        "  plt.add_layout(color_bar, 'right')\n",
        "  plt.add_tools(hover)\n",
        "  return plt"
      ],
      "execution_count": 0,
      "outputs": []
    },
    {
      "cell_type": "markdown",
      "metadata": {
        "id": "pPMJ2WRfNuMq",
        "colab_type": "text"
      },
      "source": [
        "## Generate COVID19 plot"
      ]
    },
    {
      "cell_type": "code",
      "metadata": {
        "id": "oWtC8q_rNHwe",
        "colab_type": "code",
        "colab": {}
      },
      "source": [
        "covid19_geosource=GeoJSONDataSource(geojson=merged_json)\n",
        "\n",
        "plot_title='COVID-19 outbreak in India'\n",
        "\n",
        "covid19_plot = make_covid19_plot(covid19_geosource, \n",
        "                                 input_df=covid19_data,\n",
        "                                 input_field='deaths',\n",
        "                                 plot_title=plot_title)\n",
        "\n",
        "covid19_layout = column(covid19_plot)\n",
        "curdoc().add_root(covid19_layout)"
      ],
      "execution_count": 0,
      "outputs": []
    },
    {
      "cell_type": "markdown",
      "metadata": {
        "id": "jo_7gOcNOBgH",
        "colab_type": "text"
      },
      "source": [
        "## Display the interactive COVID19 map for India\n",
        "This will generate an interactive COVID19 outbreak map for India, within the notebook.\n",
        "![Bokeh static output](https://github.com/MoadComputer/covid19-visualization/raw/master/examples/COVID19_India_Bokeh_output_20200406_131941.png)"
      ]
    },
    {
      "cell_type": "code",
      "metadata": {
        "id": "Oj07jd09NxRd",
        "colab_type": "code",
        "colab": {}
      },
      "source": [
        "output_notebook()\n",
        "show(covid19_plot)"
      ],
      "execution_count": 0,
      "outputs": []
    },
    {
      "cell_type": "code",
      "metadata": {
        "id": "joAr2fzzOK17",
        "colab_type": "code",
        "colab": {}
      },
      "source": [
        ""
      ],
      "execution_count": 0,
      "outputs": []
    }
  ]
}